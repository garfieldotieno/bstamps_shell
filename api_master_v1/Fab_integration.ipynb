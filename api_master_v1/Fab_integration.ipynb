{
 "cells": [
  {
   "cell_type": "code",
   "execution_count": 1,
   "id": "7ec1ffd1-c38f-4351-997d-2581eee18659",
   "metadata": {
    "tags": []
   },
   "outputs": [],
   "source": [
    "# Re-commissioning of Web bot Garage api_master_v3\n",
    "# consider test-driven stitch-0 : [models.UserSessionProfile, models.Cards, api_master_v3.philate, ]"
   ]
  },
  {
   "cell_type": "code",
   "execution_count": 2,
   "id": "215358cb-9d54-4e5c-afc0-c12036dfcd6c",
   "metadata": {
    "tags": []
   },
   "outputs": [],
   "source": [
    "# stitch-0\n",
    "# UserSessionProfile behaviour [ Web_bot, Rest_Bot, Tel_bot] "
   ]
  },
  {
   "cell_type": "code",
   "execution_count": 2,
   "id": "f8e43631-63a8-4096-b68f-40f61f18289b",
   "metadata": {
    "tags": []
   },
   "outputs": [],
   "source": [
    "from api_master import datetime, timedelta, secrets, string, token_urlsafe, time, philate\n",
    "\n",
    "import requests\n",
    "\n",
    "import json\n",
    "\n",
    "import os\n",
    "\n",
    "import sys\n",
    "\n",
    "import yaml\n",
    "\n",
    "import uuid\n",
    "\n",
    "import hashlib"
   ]
  },
  {
   "cell_type": "code",
   "execution_count": 3,
   "id": "be12201a-6b77-4a48-9818-06bf43aa9b3c",
   "metadata": {
    "tags": []
   },
   "outputs": [],
   "source": [
    "# rest behavior and security update"
   ]
  },
  {
   "cell_type": "code",
   "execution_count": 4,
   "id": "113bf951-9792-49a6-9410-440144a8acf3",
   "metadata": {
    "tags": []
   },
   "outputs": [],
   "source": [
    "# testing auth reset card - Dev"
   ]
  },
  {
   "cell_type": "code",
   "execution_count": 5,
   "id": "f16202d7-24fb-4718-a6d4-e58c4db5d605",
   "metadata": {
    "tags": []
   },
   "outputs": [],
   "source": [
    "# refactor 3"
   ]
  },
  {
   "cell_type": "code",
   "execution_count": 107,
   "id": "01ee4e11-9e5d-42a8-9188-9a9f01f98fb5",
   "metadata": {
    "tags": []
   },
   "outputs": [],
   "source": [
    "dev_reset_card = {}\n",
    "dev_reset_card['session_data'] = {}\n",
    "dev_reset_card['print_data'] = {}\n",
    "dev_reset_card['verity_data'] = {}\n",
    "\n",
    "\n",
    "dev_reset_card['session_data']['card_type'] = \"Auth_Reset_Card\"\n",
    "dev_reset_card['session_data']['level'] = 0\n",
    "dev_reset_card['session_data']['session_type']= \"Developer\"\n",
    "dev_reset_card['session_data']['redeem_code']= True\n",
    "dev_reset_card['session_data']['redeem_code_value']= ''\n",
    "dev_reset_card['session_data']['duration_in_seconds'] = 60*60\n",
    "dev_reset_card['session_data']['active_days'] = 7\n",
    "\n",
    "# auth_reset_card['print_data']['item_id'] = 28\n",
    "dev_reset_card['print_data']['item_media_plate_url'] = 'static/media_store/session_plates/plate_session_full_centerd.jpg'\n",
    "dev_reset_card['print_data']['heading'] = 'Auth'\n",
    "dev_reset_card['print_data']['sub_heading'] = 'Sub_heading'\n",
    "dev_reset_card['print_data']['indicator'] = 'Re'\n",
    "\n",
    "\n",
    "\n",
    "dev_reset_card['created_at'] = time.asctime(time.localtime(time.time()))"
   ]
  },
  {
   "cell_type": "code",
   "execution_count": 108,
   "id": "8b5256a5-3165-4a03-be56-38ff51184588",
   "metadata": {
    "tags": []
   },
   "outputs": [
    {
     "data": {
      "text/plain": [
       "{'session_data': {'card_type': 'Auth_Reset_Card',\n",
       "  'level': 0,\n",
       "  'session_type': 'Developer',\n",
       "  'redeem_code': True,\n",
       "  'redeem_code_value': '',\n",
       "  'duration_in_seconds': 3600,\n",
       "  'active_days': 7},\n",
       " 'print_data': {'item_media_plate_url': 'static/media_store/session_plates/plate_session_full_centerd.jpg',\n",
       "  'heading': 'Auth',\n",
       "  'sub_heading': 'Sub_heading',\n",
       "  'indicator': 'Re'},\n",
       " 'verity_data': {},\n",
       " 'created_at': 'Tue Nov 12 15:08:52 2024'}"
      ]
     },
     "execution_count": 108,
     "metadata": {},
     "output_type": "execute_result"
    }
   ],
   "source": [
    "dev_reset_card"
   ]
  },
  {
   "cell_type": "code",
   "execution_count": 93,
   "id": "2453939e-4c6a-4bd8-ab08-488b91afb961",
   "metadata": {
    "tags": []
   },
   "outputs": [
    {
     "data": {
      "text/plain": [
       "'Tue Nov 12 15:04:08 2024'"
      ]
     },
     "execution_count": 93,
     "metadata": {},
     "output_type": "execute_result"
    }
   ],
   "source": [
    "# asctime\n",
    "time.asctime(time.localtime(time.time()))"
   ]
  },
  {
   "cell_type": "code",
   "execution_count": 94,
   "id": "13a2e320-2549-4bea-8c47-e6ce0744dfd7",
   "metadata": {
    "tags": []
   },
   "outputs": [],
   "source": [
    "local_url = \"http://localhost:5009/request_auth_reset_card\""
   ]
  },
  {
   "cell_type": "code",
   "execution_count": 95,
   "id": "79c35969-090e-4768-88f3-c6373512295f",
   "metadata": {
    "tags": []
   },
   "outputs": [],
   "source": [
    "production_url = \"https://wowza.africa/request_auth_reset_card\""
   ]
  },
  {
   "cell_type": "code",
   "execution_count": null,
   "id": "b3188990-3efe-4bc0-bb44-7218c7c09bcf",
   "metadata": {},
   "outputs": [],
   "source": []
  },
  {
   "cell_type": "code",
   "execution_count": 96,
   "id": "f56d748f-275b-4975-b80e-6cf3ddde95b9",
   "metadata": {
    "tags": []
   },
   "outputs": [],
   "source": [
    "dev_reset_card_req_res = requests.post(local_url, json=dev_reset_card)"
   ]
  },
  {
   "cell_type": "code",
   "execution_count": 97,
   "id": "0e09a757-069e-4d59-ac37-e1e66159eae1",
   "metadata": {
    "tags": []
   },
   "outputs": [],
   "source": [
    "dev_reset_card_req_res_dict = dev_reset_card_req_res.json()"
   ]
  },
  {
   "cell_type": "code",
   "execution_count": 98,
   "id": "6b844adf-dd45-44bb-b6c8-a496a61c0ef9",
   "metadata": {
    "tags": []
   },
   "outputs": [
    {
     "name": "stdout",
     "output_type": "stream",
     "text": [
      " Dict value =>  {'new_code': '5C0B', 'status': True, 'url': '/home/stark/work/Work2Backup/Work/bstamps_shell/api_master_v1/static/out_store/Tue Nov 12 2024:one_full_centered:xJSvomyJT4.png'} \n",
      "\n",
      " Keys => dict_keys(['new_code', 'status', 'url'])\n"
     ]
    }
   ],
   "source": [
    "print(f\" Dict value =>  {dev_reset_card_req_res_dict} \\n\\n Keys => {dev_reset_card_req_res_dict.keys()}\")"
   ]
  },
  {
   "cell_type": "code",
   "execution_count": 99,
   "id": "306bff68-a94f-4485-acf1-78139fbb41ec",
   "metadata": {
    "tags": []
   },
   "outputs": [],
   "source": [
    "new_code = dev_reset_card_req_res_dict['new_code']"
   ]
  },
  {
   "cell_type": "code",
   "execution_count": 100,
   "id": "70ecdb31-0603-4055-969b-6a845d35754f",
   "metadata": {
    "tags": []
   },
   "outputs": [
    {
     "name": "stdout",
     "output_type": "stream",
     "text": [
      "new code is : 5C0B, and equivalent hash_value is : f8bb49d6856a385662f9239cc141f43fddbca8825f7b0b6e8a50c0b9394f7f04\n"
     ]
    }
   ],
   "source": [
    "print(f\"new code is : {new_code}, and equivalent hash_value is : {hashlib.sha256(new_code.encode()).hexdigest()}\")"
   ]
  },
  {
   "cell_type": "code",
   "execution_count": 101,
   "id": "bf45e95d-da09-41c8-abb0-52630001786a",
   "metadata": {
    "tags": []
   },
   "outputs": [],
   "source": [
    "uid =  f\"{hashlib.sha256(new_code.encode()).hexdigest()}\""
   ]
  },
  {
   "cell_type": "code",
   "execution_count": 102,
   "id": "04ada21f-b06b-4697-8469-eb1634a731c9",
   "metadata": {
    "tags": []
   },
   "outputs": [
    {
     "data": {
      "text/plain": [
       "'f8bb49d6856a385662f9239cc141f43fddbca8825f7b0b6e8a50c0b9394f7f04'"
      ]
     },
     "execution_count": 102,
     "metadata": {},
     "output_type": "execute_result"
    }
   ],
   "source": [
    "uid"
   ]
  },
  {
   "cell_type": "code",
   "execution_count": 90,
   "id": "5af3772e-f7ce-4009-90b1-c0c91a9de169",
   "metadata": {
    "tags": []
   },
   "outputs": [
    {
     "name": "stdout",
     "output_type": "stream",
     "text": [
      "<Response [404]>\n"
     ]
    }
   ],
   "source": [
    "# test endpoint get - but is always deleted\n",
    "\n",
    "get_res = requests.get(f\"http://localhost:5009/cards/{uid}\")\n",
    "\n",
    "print(get_res)"
   ]
  },
  {
   "cell_type": "code",
   "execution_count": 16,
   "id": "eb100818-034a-413d-aba9-d8345165369b",
   "metadata": {
    "tags": []
   },
   "outputs": [
    {
     "name": "stdout",
     "output_type": "stream",
     "text": [
      "static/out_store/Fri Oct 18 2024:one_full_centered:66RYa3c3FL.png\n"
     ]
    }
   ],
   "source": [
    "def remove_prefix(original_path, prefix):\n",
    "    # Check if the original path starts with the specified prefix\n",
    "    if original_path.startswith(prefix):\n",
    "        # Calculate the length of the prefix\n",
    "        prefix_length = len(prefix)\n",
    "        \n",
    "        # Use slicing to extract the substring after the prefix\n",
    "        transformed_path = original_path[prefix_length:]\n",
    "        \n",
    "        return transformed_path\n",
    "    else:\n",
    "        # If the original path doesn't start with the specified prefix, return it as it is\n",
    "        return original_path\n",
    "\n",
    "# Example usage\n",
    "original_path = '/usr/src/app/static/out_store/Fri Oct 18 2024:one_full_centered:66RYa3c3FL.png'\n",
    "prefix_to_remove = '/usr/src/app/'\n",
    "\n",
    "transformed_path = remove_prefix(original_path, prefix_to_remove)\n",
    "print(transformed_path)\n"
   ]
  },
  {
   "cell_type": "code",
   "execution_count": 17,
   "id": "2a46d044-0b1b-477f-a724-b00bc4b1f465",
   "metadata": {
    "tags": []
   },
   "outputs": [],
   "source": [
    "dev_reset_card_path = dev_reset_card_req_res_dict['url']\n",
    "dev_new_code_value = dev_reset_card_req_res_dict['new_code']\n",
    "\n",
    "with open(transformed_path, 'rb') as file_opened:\n",
    "    files = {'file': file_opened}\n",
    "    data = {'userInput': dev_new_code_value}\n",
    "    dev_reset_card_recog_res = requests.post('http://localhost:5009/recognize_artifact', files=files, data=data)"
   ]
  },
  {
   "cell_type": "code",
   "execution_count": 18,
   "id": "3b9d2271-bbdd-4395-9fb8-a858fcd9f330",
   "metadata": {
    "tags": []
   },
   "outputs": [],
   "source": [
    "dev_reset_card_recog_res_dict = dev_reset_card_recog_res.json()"
   ]
  },
  {
   "cell_type": "code",
   "execution_count": 19,
   "id": "f4398db5-e85f-4f31-8bdc-4ea282881b50",
   "metadata": {
    "tags": []
   },
   "outputs": [
    {
     "data": {
      "text/plain": [
       "{'message': 'unable to retrieve card data', 'status': False}"
      ]
     },
     "execution_count": 19,
     "metadata": {},
     "output_type": "execute_result"
    }
   ],
   "source": [
    "dev_reset_card_recog_res_dict"
   ]
  },
  {
   "cell_type": "code",
   "execution_count": 20,
   "id": "58b2a589-5f23-40d7-9432-31ac5820ff22",
   "metadata": {
    "tags": []
   },
   "outputs": [
    {
     "name": "stdout",
     "output_type": "stream",
     "text": [
      " Dict value =>  {'message': 'unable to retrieve card data', 'status': False} \n",
      "\n",
      " Keys => dict_keys(['message', 'status'])\n"
     ]
    }
   ],
   "source": [
    "print(f\" Dict value =>  {dev_reset_card_recog_res_dict} \\n\\n Keys => {dev_reset_card_recog_res_dict.keys()}\")"
   ]
  },
  {
   "cell_type": "code",
   "execution_count": 21,
   "id": "87d5a605-0b67-4387-a886-b350f4cf9292",
   "metadata": {
    "tags": []
   },
   "outputs": [
    {
     "ename": "KeyError",
     "evalue": "'auth_card_gen'",
     "output_type": "error",
     "traceback": [
      "\u001b[0;31m---------------------------------------------------------------------------\u001b[0m",
      "\u001b[0;31mKeyError\u001b[0m                                  Traceback (most recent call last)",
      "Cell \u001b[0;32mIn[21], line 1\u001b[0m\n\u001b[0;32m----> 1\u001b[0m new_code \u001b[38;5;241m=\u001b[39m \u001b[43mdev_reset_card_recog_res_dict\u001b[49m\u001b[43m[\u001b[49m\u001b[38;5;124;43m'\u001b[39;49m\u001b[38;5;124;43mauth_card_gen\u001b[39;49m\u001b[38;5;124;43m'\u001b[39;49m\u001b[43m]\u001b[49m[\u001b[38;5;124m'\u001b[39m\u001b[38;5;124mnew_code\u001b[39m\u001b[38;5;124m'\u001b[39m]\n",
      "\u001b[0;31mKeyError\u001b[0m: 'auth_card_gen'"
     ]
    }
   ],
   "source": [
    "new_code = dev_reset_card_recog_res_dict['auth_card_gen']['new_code']"
   ]
  },
  {
   "cell_type": "code",
   "execution_count": 34,
   "id": "2779d054-8d6f-4c2b-82fa-b6f514f7a541",
   "metadata": {
    "tags": []
   },
   "outputs": [
    {
     "name": "stdout",
     "output_type": "stream",
     "text": [
      "new code is : 791B, and equivalent hash_value is : f4944691699da778bd6ca9be411d08e17d94659e8cab931df64702f8f58e6e79\n"
     ]
    }
   ],
   "source": [
    "print(f\"new code is : {new_code}, and equivalent hash_value is : {hashlib.sha256(new_code.encode()).hexdigest()}\")"
   ]
  },
  {
   "cell_type": "code",
   "execution_count": 35,
   "id": "50d28313-2d49-44a1-b395-533f83ff946f",
   "metadata": {
    "tags": []
   },
   "outputs": [],
   "source": [
    "# test generated auth card"
   ]
  },
  {
   "cell_type": "code",
   "execution_count": 36,
   "id": "4adb9695-5847-4887-b921-4344736a4423",
   "metadata": {
    "tags": []
   },
   "outputs": [],
   "source": [
    "dev_reset_card_path =    remove_prefix(dev_reset_card_recog_res_dict['auth_card_gen']['url'], \"/usr/src/app/\")\n",
    "new_code_value = dev_reset_card_recog_res_dict['auth_card_gen']['new_code']\n",
    "\n",
    "with open(dev_reset_card_path, 'rb') as file_opened:\n",
    "    files = {'file': file_opened}\n",
    "    data = {'userInput': new_code_value}\n",
    "    dev_auth_card_recog_res = requests.post('http://localhost:5009/recognize_artifact', files=files, data=data)\n"
   ]
  },
  {
   "cell_type": "code",
   "execution_count": 37,
   "id": "9440b9da-1ff9-4dd5-8016-6960440fe488",
   "metadata": {
    "tags": []
   },
   "outputs": [],
   "source": [
    "dev_auth_card_recog_res_dict = dev_auth_card_recog_res.json()"
   ]
  },
  {
   "cell_type": "code",
   "execution_count": 38,
   "id": "9b7e8ad8-843e-4dc8-934d-0fa047b1116c",
   "metadata": {
    "tags": []
   },
   "outputs": [
    {
     "data": {
      "text/plain": [
       "{'card_operation': 'Auth_Card',\n",
       " 'message': 'unable to fetch user session',\n",
       " 'status': False}"
      ]
     },
     "execution_count": 38,
     "metadata": {},
     "output_type": "execute_result"
    }
   ],
   "source": [
    "dev_auth_card_recog_res_dict"
   ]
  },
  {
   "cell_type": "code",
   "execution_count": null,
   "id": "18f9809d-18e2-4811-8ec7-af5c5ba4e8de",
   "metadata": {},
   "outputs": [],
   "source": []
  },
  {
   "cell_type": "code",
   "execution_count": null,
   "id": "69c10f60-2203-4551-a703-a45b6c3065c9",
   "metadata": {},
   "outputs": [],
   "source": []
  },
  {
   "cell_type": "code",
   "execution_count": null,
   "id": "9a97625e-5c48-4bd1-8e51-9804f85117fc",
   "metadata": {},
   "outputs": [],
   "source": []
  },
  {
   "cell_type": "code",
   "execution_count": 43,
   "id": "1764e15d-3f29-443d-b532-7e46ee6f12cc",
   "metadata": {},
   "outputs": [],
   "source": [
    "insta_pu_card_data = {}\n",
    "insta_pu_card_data['session_data'] = {}\n",
    "insta_pu_card_data['print_data'] = {}\n",
    "insta_pu_card_data['verity_data'] = {}\n",
    "\n",
    "\n",
    "insta_pu_card_data['session_data']['card_type'] = \"Insta_Pu_Card\"\n",
    "insta_pu_card_data['session_data']['level'] = 0\n",
    "# could be Regular\n",
    "insta_pu_card_data['session_data']['session_type']= \"Customer\"\n",
    "insta_pu_card_data['session_data']['redeem_code']= True\n",
    "insta_pu_card_data['session_data']['redeem_code_value']= ''\n",
    "insta_pu_card_data['session_data']['duration_in_seconds'] = 60*60\n",
    "insta_pu_card_data['session_data']['active_days'] = 7\n",
    "\n",
    "# auth_reset_card['print_data']['item_id'] = 28\n",
    "insta_pu_card_data['print_data']['item_media_plate_url'] = 'static/media_store/session_plates/plate_session_full_centerd.jpg'\n",
    "insta_pu_card_data['print_data']['heading'] = 'Insta'\n",
    "insta_pu_card_data['print_data']['sub_heading'] = 'Sub_heading'\n",
    "insta_pu_card_data['print_data']['indicator'] = 'Pu'\n",
    "\n",
    "\n",
    "\n",
    "insta_pu_card_data['created_at'] = time.asctime(time.localtime(time.time()))"
   ]
  },
  {
   "cell_type": "code",
   "execution_count": 44,
   "id": "172e9905-fffb-4dbc-a000-a2259b018744",
   "metadata": {
    "tags": []
   },
   "outputs": [],
   "source": [
    "insta_pu_res = requests.post('http://localhost:5009/request_item_insta_card', json=insta_pu_card_data)"
   ]
  },
  {
   "cell_type": "code",
   "execution_count": 45,
   "id": "f2d6b39d-c5d0-4fb9-8b46-1324846d1b70",
   "metadata": {
    "tags": []
   },
   "outputs": [],
   "source": [
    "recog_dict_pu = insta_pu_res.json()"
   ]
  },
  {
   "cell_type": "code",
   "execution_count": 46,
   "id": "df14e5e5-899f-4aac-9531-0a457eedf5b8",
   "metadata": {
    "tags": []
   },
   "outputs": [
    {
     "data": {
      "text/plain": [
       "{'new_code': 'E8EC',\n",
       " 'status': True,\n",
       " 'url': '/home/stark/work/Work2Backup/Work/bstamps_shell/api_master_v1/static/out_store/Fri Oct 18 2024:one_full_centered:KAROrLEqCM.png'}"
      ]
     },
     "execution_count": 46,
     "metadata": {},
     "output_type": "execute_result"
    }
   ],
   "source": [
    "recog_dict_pu"
   ]
  },
  {
   "cell_type": "code",
   "execution_count": null,
   "id": "80846b18-99e4-4ac8-ac1d-8720c3e7e9f4",
   "metadata": {},
   "outputs": [],
   "source": []
  },
  {
   "cell_type": "code",
   "execution_count": 47,
   "id": "3a89b8f9-8e08-4a18-9ac9-850692fe3c0e",
   "metadata": {
    "tags": []
   },
   "outputs": [],
   "source": [
    "file_path2_test_dev = recog_dict_pu['url']\n",
    "new_code_value = recog_dict_pu['new_code']\n",
    "\n",
    "with open(file_path2_test_dev, 'rb') as file_opened:\n",
    "    files = {'file': file_opened}\n",
    "    data = {'userInput': new_code_value}\n",
    "    recog_insta_pu_res = requests.post('http://localhost:5009/recognize_artifact', files=files, data=data)"
   ]
  },
  {
   "cell_type": "code",
   "execution_count": 48,
   "id": "5f9528e6-9ae6-45ea-82ed-a15eff3992eb",
   "metadata": {
    "tags": []
   },
   "outputs": [],
   "source": [
    "recog_dict_pu  = recog_insta_pu_res.json()"
   ]
  },
  {
   "cell_type": "code",
   "execution_count": 49,
   "id": "9807e11c-0713-46d9-8151-aa8012a39937",
   "metadata": {
    "tags": []
   },
   "outputs": [
    {
     "data": {
      "text/plain": [
       "{'id': 3,\n",
       " 'payload': {'created_at': 'Fri Oct 18 20:15:14 2024',\n",
       "  'print_data': {'heading': 'Insta',\n",
       "   'indicator': 'Pu',\n",
       "   'item_media_plate_url': 'static/media_store/session_plates/plate_session_full_centerd.jpg',\n",
       "   'sub_heading': 'Sub_heading'},\n",
       "  'session_data': {'active_days': 7,\n",
       "   'card_type': 'Insta_Pu_Card',\n",
       "   'duration_in_seconds': 3600,\n",
       "   'level': 0,\n",
       "   'redeem_code': True,\n",
       "   'redeem_code_value': '9da491aa8af93cf1227534d5a094918601adc059eb1066f6aaf3cc1f34571c40',\n",
       "   'session_type': 'Customer'},\n",
       "  'verity_data': {'qr_data_hash': 'pbkdf2:sha256:260000$mRLfGa73K74U0tFD$e87450771d0f85f9c22d831d84f2494bda7b85f730937214d7f76c71489b3ee8'}},\n",
       " 'timestamp': 1729271717.1960938,\n",
       " 'uid': 'pbkdf2:sha256:260000$mRLfGa73K74U0tFD$e87450771d0f85f9c22d831d84f2494bda7b85f730937214d7f76c71489b3ee8',\n",
       " 'url': '/home/stark/work/Work2Backup/Work/bstamps_shell/api_master_v1/static/out_store/Fri Oct 18 2024:one_full_centered:KAROrLEqCM.png'}"
      ]
     },
     "execution_count": 49,
     "metadata": {},
     "output_type": "execute_result"
    }
   ],
   "source": [
    "recog_dict_pu "
   ]
  },
  {
   "cell_type": "code",
   "execution_count": 50,
   "id": "08902299-f3a1-4117-b95d-ea35b7c17219",
   "metadata": {
    "tags": []
   },
   "outputs": [
    {
     "data": {
      "text/plain": [
       "'Fri Oct 18 20:15:17 2024'"
      ]
     },
     "execution_count": 50,
     "metadata": {},
     "output_type": "execute_result"
    }
   ],
   "source": [
    "# asctime\n",
    "time.asctime(time.localtime(recog_dict_pu['timestamp']))"
   ]
  },
  {
   "cell_type": "code",
   "execution_count": 51,
   "id": "af0c6743-1e3f-4796-83e3-4cf1d03b9a7a",
   "metadata": {
    "tags": []
   },
   "outputs": [
    {
     "name": "stdout",
     "output_type": "stream",
     "text": [
      "{'id': 3, 'payload': {'created_at': 'Fri Oct 18 20:15:14 2024', 'print_data': {'heading': 'Insta', 'indicator': 'Pu', 'item_media_plate_url': 'static/media_store/session_plates/plate_session_full_centerd.jpg', 'sub_heading': 'Sub_heading'}, 'session_data': {'active_days': 7, 'card_type': 'Insta_Pu_Card', 'duration_in_seconds': 3600, 'level': 0, 'redeem_code': True, 'redeem_code_value': '9da491aa8af93cf1227534d5a094918601adc059eb1066f6aaf3cc1f34571c40', 'session_type': 'Customer'}, 'verity_data': {'qr_data_hash': 'pbkdf2:sha256:260000$mRLfGa73K74U0tFD$e87450771d0f85f9c22d831d84f2494bda7b85f730937214d7f76c71489b3ee8'}}, 'timestamp': 1729271717.1960938, 'uid': 'pbkdf2:sha256:260000$mRLfGa73K74U0tFD$e87450771d0f85f9c22d831d84f2494bda7b85f730937214d7f76c71489b3ee8', 'url': '/home/stark/work/Work2Backup/Work/bstamps_shell/api_master_v1/static/out_store/Fri Oct 18 2024:one_full_centered:KAROrLEqCM.png'}\n"
     ]
    }
   ],
   "source": [
    "# test endpoint get - but is always deleted\n",
    "uid =  recog_dict_pu['uid']\n",
    "get_res = requests.get(f\"http://localhost:5009/cards/{uid}\")\n",
    "\n",
    "print(get_res.json())"
   ]
  },
  {
   "cell_type": "code",
   "execution_count": 78,
   "id": "6f97af71-5c98-417f-9ef7-681c1d1fafe3",
   "metadata": {
    "tags": []
   },
   "outputs": [
    {
     "data": {
      "text/plain": [
       "{'status': True}"
      ]
     },
     "execution_count": 78,
     "metadata": {},
     "output_type": "execute_result"
    }
   ],
   "source": [
    "delete_insta_pu = {'security_key':'security_key', 'receipt_url':file_path2_test_dev}\n",
    "\n",
    "del_insta_pu = requests.post('http://localhost:5009/clear_generated_card', json=delete_insta_pu)\n",
    "\n",
    "del_insta_pu.json()"
   ]
  },
  {
   "cell_type": "code",
   "execution_count": 62,
   "id": "039e44c6-43fb-4608-a002-d2fb9836bb43",
   "metadata": {
    "tags": []
   },
   "outputs": [],
   "source": [
    "insta_pr_card_data = {}\n",
    "insta_pr_card_data['session_data'] = {}\n",
    "insta_pr_card_data['print_data'] = {}\n",
    "insta_pr_card_data['verity_data'] = {}\n",
    "\n",
    "\n",
    "insta_pr_card_data['session_data']['card_type'] = \"Insta_Pr_Card\"\n",
    "insta_pr_card_data['session_data']['level'] = 1\n",
    "\n",
    "# could be Regular\n",
    "insta_pr_card_data['session_data']['session_type']= \"Customer\"\n",
    "insta_pr_card_data['session_data']['redeem_code']= True\n",
    "insta_pr_card_data['session_data']['redeem_code_value']= ''\n",
    "insta_pr_card_data['session_data']['duration_in_seconds'] = 60*60\n",
    "insta_pr_card_data['session_data']['active_days'] = 7\n",
    "\n",
    "# auth_reset_card['print_data']['item_id'] = 28\n",
    "insta_pr_card_data['print_data']['item_media_plate_url'] = 'static/media_store/session_plates/plate_session_full_centerd.jpg'\n",
    "insta_pr_card_data['print_data']['heading'] = 'Insta'\n",
    "insta_pr_card_data['print_data']['sub_heading'] = 'Sub_heading'\n",
    "insta_pr_card_data['print_data']['indicator'] = 'Pr'\n",
    "\n",
    "insta_pr_card_data['created_at'] = time.asctime(time.localtime(time.time()))"
   ]
  },
  {
   "cell_type": "code",
   "execution_count": 63,
   "id": "6f3c46cb-b0e0-4e4e-b6eb-33d0bd67404a",
   "metadata": {
    "tags": []
   },
   "outputs": [
    {
     "data": {
      "text/plain": [
       "{'session_data': {'card_type': 'Insta_Pr_Card',\n",
       "  'level': 1,\n",
       "  'session_type': 'Customer',\n",
       "  'redeem_code': True,\n",
       "  'redeem_code_value': '',\n",
       "  'duration_in_seconds': 3600,\n",
       "  'active_days': 7},\n",
       " 'print_data': {'item_media_plate_url': 'static/media_store/session_plates/plate_session_full_centerd.jpg',\n",
       "  'heading': 'Insta',\n",
       "  'sub_heading': 'Sub_heading',\n",
       "  'indicator': 'Pr'},\n",
       " 'verity_data': {},\n",
       " 'created_at': 'Fri Oct 18 20:20:20 2024'}"
      ]
     },
     "execution_count": 63,
     "metadata": {},
     "output_type": "execute_result"
    }
   ],
   "source": [
    "insta_pr_card_data"
   ]
  },
  {
   "cell_type": "code",
   "execution_count": 64,
   "id": "ff5dee35-93f7-49af-a5cf-e324c23c6700",
   "metadata": {
    "tags": []
   },
   "outputs": [],
   "source": [
    "insta_pr_res = requests.post('http://localhost:5009/request_item_insta_card', json=insta_pr_card_data)"
   ]
  },
  {
   "cell_type": "code",
   "execution_count": 65,
   "id": "50d65e4e-ff5d-44ba-ad8a-c9c92c7d478f",
   "metadata": {
    "tags": []
   },
   "outputs": [],
   "source": [
    "gen_dict_pr = insta_pr_res.json()"
   ]
  },
  {
   "cell_type": "code",
   "execution_count": 66,
   "id": "4a58ac1e-8835-4c56-b40d-daf5ff39393e",
   "metadata": {
    "tags": []
   },
   "outputs": [
    {
     "data": {
      "text/plain": [
       "{'new_code': '8A33',\n",
       " 'status': True,\n",
       " 'url': '/home/stark/work/Work2Backup/Work/bstamps_shell/api_master_v1/static/out_store/Fri Oct 18 2024:one_full_centered:IikADY6pgq.png'}"
      ]
     },
     "execution_count": 66,
     "metadata": {},
     "output_type": "execute_result"
    }
   ],
   "source": [
    "gen_dict_pr"
   ]
  },
  {
   "cell_type": "code",
   "execution_count": 67,
   "id": "f3c33833-a47c-4e5c-8f48-f2d106563c95",
   "metadata": {
    "tags": []
   },
   "outputs": [],
   "source": [
    "file_path2_test_pr = gen_dict_pr['url']\n",
    "new_code_value = gen_dict_pr['new_code']\n",
    "\n",
    "with open(file_path2_test_pr, 'rb') as file_opened:\n",
    "    files = {'file': file_opened}\n",
    "    data = {'userInput': new_code_value}\n",
    "    recog_insta_pr_res = requests.post('http://localhost:5009/recognize_artifact', files=files, data=data)"
   ]
  },
  {
   "cell_type": "code",
   "execution_count": 68,
   "id": "065a6ecf-88f3-4ea1-9c4f-ddf82ebf95d0",
   "metadata": {
    "tags": []
   },
   "outputs": [],
   "source": [
    "recog_dict_pr = recog_insta_pr_res.json()"
   ]
  },
  {
   "cell_type": "code",
   "execution_count": 69,
   "id": "2676c86e-ba63-4908-b4a6-da0d1f11b592",
   "metadata": {
    "tags": []
   },
   "outputs": [
    {
     "data": {
      "text/plain": [
       "{'message': 'invalide file format', 'status': False}"
      ]
     },
     "execution_count": 69,
     "metadata": {},
     "output_type": "execute_result"
    }
   ],
   "source": [
    "recog_dict_pr"
   ]
  },
  {
   "cell_type": "code",
   "execution_count": 70,
   "id": "dd54094c-0459-4b98-afe5-5e5d860b6431",
   "metadata": {
    "tags": []
   },
   "outputs": [
    {
     "ename": "KeyError",
     "evalue": "'timestamp'",
     "output_type": "error",
     "traceback": [
      "\u001b[0;31m---------------------------------------------------------------------------\u001b[0m",
      "\u001b[0;31mKeyError\u001b[0m                                  Traceback (most recent call last)",
      "Cell \u001b[0;32mIn[70], line 2\u001b[0m\n\u001b[1;32m      1\u001b[0m \u001b[38;5;66;03m# asctime\u001b[39;00m\n\u001b[0;32m----> 2\u001b[0m time\u001b[38;5;241m.\u001b[39masctime(time\u001b[38;5;241m.\u001b[39mlocaltime(\u001b[43mrecog_dict_pr\u001b[49m\u001b[43m[\u001b[49m\u001b[38;5;124;43m'\u001b[39;49m\u001b[38;5;124;43mtimestamp\u001b[39;49m\u001b[38;5;124;43m'\u001b[39;49m\u001b[43m]\u001b[49m))\n",
      "\u001b[0;31mKeyError\u001b[0m: 'timestamp'"
     ]
    }
   ],
   "source": [
    "# asctime\n",
    "time.asctime(time.localtime(recog_dict_pr['timestamp']))"
   ]
  },
  {
   "cell_type": "code",
   "execution_count": 71,
   "id": "60b42a21-d6c5-431b-960d-10d9c9c523c1",
   "metadata": {
    "tags": []
   },
   "outputs": [
    {
     "ename": "KeyError",
     "evalue": "'uid'",
     "output_type": "error",
     "traceback": [
      "\u001b[0;31m---------------------------------------------------------------------------\u001b[0m",
      "\u001b[0;31mKeyError\u001b[0m                                  Traceback (most recent call last)",
      "Cell \u001b[0;32mIn[71], line 2\u001b[0m\n\u001b[1;32m      1\u001b[0m \u001b[38;5;66;03m# test endpoint get - but is always deleted\u001b[39;00m\n\u001b[0;32m----> 2\u001b[0m uid \u001b[38;5;241m=\u001b[39m  \u001b[43mrecog_dict_pr\u001b[49m\u001b[43m[\u001b[49m\u001b[38;5;124;43m'\u001b[39;49m\u001b[38;5;124;43muid\u001b[39;49m\u001b[38;5;124;43m'\u001b[39;49m\u001b[43m]\u001b[49m\n\u001b[1;32m      3\u001b[0m get_res \u001b[38;5;241m=\u001b[39m requests\u001b[38;5;241m.\u001b[39mget(\u001b[38;5;124mf\u001b[39m\u001b[38;5;124m\"\u001b[39m\u001b[38;5;124mhttp://localhost:5009/cards/\u001b[39m\u001b[38;5;132;01m{\u001b[39;00muid\u001b[38;5;132;01m}\u001b[39;00m\u001b[38;5;124m\"\u001b[39m)\n\u001b[1;32m      5\u001b[0m \u001b[38;5;28mprint\u001b[39m(get_res\u001b[38;5;241m.\u001b[39mjson())\n",
      "\u001b[0;31mKeyError\u001b[0m: 'uid'"
     ]
    }
   ],
   "source": [
    "# test endpoint get - but is always deleted\n",
    "uid =  recog_dict_pr['uid']\n",
    "get_res = requests.get(f\"http://localhost:5009/cards/{uid}\")\n",
    "\n",
    "print(get_res.json())"
   ]
  },
  {
   "cell_type": "code",
   "execution_count": 72,
   "id": "b61741c2-f549-4480-b3db-3fa33393efdd",
   "metadata": {
    "tags": []
   },
   "outputs": [
    {
     "data": {
      "text/plain": [
       "{'status': True}"
      ]
     },
     "execution_count": 72,
     "metadata": {},
     "output_type": "execute_result"
    }
   ],
   "source": [
    "delete_insta_pr = {'security_key':'security_key', 'receipt_url':file_path2_test_pr}\n",
    "\n",
    "del_insta_pr = requests.post('http://localhost:5009/clear_generated_card', json=delete_insta_pr)\n",
    "\n",
    "del_insta_pr.json()"
   ]
  },
  {
   "cell_type": "code",
   "execution_count": 90,
   "id": "6c8351f9-00a9-4899-b737-8808dd4b96c9",
   "metadata": {
    "tags": []
   },
   "outputs": [],
   "source": [
    "# order test"
   ]
  },
  {
   "cell_type": "code",
   "execution_count": 2,
   "id": "5f7b1b2d-d526-4cd9-8613-a9590775730c",
   "metadata": {
    "tags": []
   },
   "outputs": [],
   "source": [
    "order_card_data = {}\n",
    "order_card_data['session_data'] = {}\n",
    "order_card_data['print_data'] = {}\n",
    "order_card_data['verity_data'] = {}\n",
    "\n",
    "\n",
    "order_card_data['session_data']['card_type'] = \"Order_Card\"\n",
    "order_card_data['session_data']['level'] = 1\n",
    "# could be Regular\n",
    "order_card_data['session_data']['session_type']= \"Customer\"\n",
    "order_card_data['session_data']['redeem_code']= True\n",
    "order_card_data['session_data']['redeem_code_value']= ''\n",
    "order_card_data['session_data']['duration_in_seconds'] = 60*60\n",
    "order_card_data['session_data']['active_days'] = 7\n",
    "\n",
    "# auth_reset_card['print_data']['item_id'] = 28\n",
    "order_card_data['print_data']['item_media_plate_url'] = 'static/media_store/plate_two_half_reverse.jpg'\n",
    "order_card_data['print_data']['heading'] = 'Order'\n",
    "order_card_data['print_data']['sub_heading'] = 'OrderCard'\n",
    "order_card_data['print_data']['indicator'] = 'Or'"
   ]
  },
  {
   "cell_type": "code",
   "execution_count": 3,
   "id": "6f660e2f-55be-41e1-a08f-0d303ea0481c",
   "metadata": {
    "tags": []
   },
   "outputs": [
    {
     "data": {
      "text/plain": [
       "{'session_data': {'card_type': 'Order_Card',\n",
       "  'level': 1,\n",
       "  'session_type': 'Customer',\n",
       "  'redeem_code': True,\n",
       "  'redeem_code_value': '',\n",
       "  'duration_in_seconds': 3600,\n",
       "  'active_days': 7},\n",
       " 'print_data': {'item_media_plate_url': 'static/media_store/plate_two_half_reverse.jpg',\n",
       "  'heading': 'Order',\n",
       "  'sub_heading': 'OrderCard',\n",
       "  'indicator': 'Or'},\n",
       " 'verity_data': {}}"
      ]
     },
     "execution_count": 3,
     "metadata": {},
     "output_type": "execute_result"
    }
   ],
   "source": [
    "order_card_data"
   ]
  },
  {
   "cell_type": "code",
   "execution_count": 6,
   "id": "873c249b-9e02-4a4a-8fc8-d3d43b696844",
   "metadata": {
    "tags": []
   },
   "outputs": [],
   "source": [
    "order_res = requests.post('http://localhost:5009/request_order_transaction_card', json=order_card_data)"
   ]
  },
  {
   "cell_type": "code",
   "execution_count": 7,
   "id": "0c5baf5d-9ea5-45fa-bb10-95679279e981",
   "metadata": {
    "tags": []
   },
   "outputs": [
    {
     "name": "stdout",
     "output_type": "stream",
     "text": [
      "{'message': 'Failed to generate card image', 'status': False}\n"
     ]
    }
   ],
   "source": [
    "order_res_dict = order_res.json()\n",
    "print(order_res_dict)"
   ]
  },
  {
   "cell_type": "code",
   "execution_count": 149,
   "id": "01f3fa8d-1a43-441b-be48-2e16678fd393",
   "metadata": {
    "tags": []
   },
   "outputs": [],
   "source": [
    "file_path2_test_or = order_res_dict['url']\n",
    "new_code_value = order_res_dict['new_code']\n",
    "\n",
    "with open(file_path2_test_or, 'rb') as file_opened:\n",
    "    files = {'file': file_opened}\n",
    "    data = {'userInput': new_code_value}\n",
    "    recog_order_res = requests.post('http://localhost:5009/recognize_artifact', files=files, data=data)"
   ]
  },
  {
   "cell_type": "code",
   "execution_count": 150,
   "id": "307e9845-8086-43f9-a81c-a96ea26b3f45",
   "metadata": {
    "tags": []
   },
   "outputs": [
    {
     "name": "stdout",
     "output_type": "stream",
     "text": [
      "{'id': 11, 'payload': {'print_data': {'heading': 'Order', 'indicator': 'Or', 'item_media_plate_url': 'static/media_store/plate_two_half_reverse.jpg', 'sub_heading': 'OrderCard'}, 'session_data': {'active_days': 7, 'card_type': 'Order_Card', 'duration_in_seconds': 3600, 'level': 1, 'redeem_code': True, 'redeem_code_value': '3f2b68ccd9f461738e733f692591793e94e081acc8cbb7ccdc41ebca1d281eea', 'session_type': 'Customer'}, 'verity_data': {'qr_data_hash': 'pbkdf2:sha256:260000$ZZY4hYspIxwJ6YEu$746c8a44b649ee316d92b5ba036fc148df1fd8d9acf24e5a7831c95354896e20', 'tx_file_hash': '6c027744c7e9a0108a01899f1c4b95548425157455808f827e259ed170f9e911'}}, 'timestamp': 1698070812.1555097, 'uid': 'pbkdf2:sha256:260000$ZZY4hYspIxwJ6YEu$746c8a44b649ee316d92b5ba036fc148df1fd8d9acf24e5a7831c95354896e20'}\n"
     ]
    }
   ],
   "source": [
    "recorg_order_dict = recog_order_res.json()\n",
    "print(recorg_order_dict)"
   ]
  },
  {
   "cell_type": "code",
   "execution_count": 151,
   "id": "542e61ac-37bf-400d-8d98-0019e1394d8c",
   "metadata": {
    "tags": []
   },
   "outputs": [
    {
     "name": "stdout",
     "output_type": "stream",
     "text": [
      "{'id': 11, 'payload': {'print_data': {'heading': 'Order', 'indicator': 'Or', 'item_media_plate_url': 'static/media_store/plate_two_half_reverse.jpg', 'sub_heading': 'OrderCard'}, 'session_data': {'active_days': 7, 'card_type': 'Order_Card', 'duration_in_seconds': 3600, 'level': 1, 'redeem_code': True, 'redeem_code_value': '3f2b68ccd9f461738e733f692591793e94e081acc8cbb7ccdc41ebca1d281eea', 'session_type': 'Customer'}, 'verity_data': {'qr_data_hash': 'pbkdf2:sha256:260000$ZZY4hYspIxwJ6YEu$746c8a44b649ee316d92b5ba036fc148df1fd8d9acf24e5a7831c95354896e20', 'tx_file_hash': '6c027744c7e9a0108a01899f1c4b95548425157455808f827e259ed170f9e911'}}, 'timestamp': 1698070812.1555097, 'uid': 'pbkdf2:sha256:260000$ZZY4hYspIxwJ6YEu$746c8a44b649ee316d92b5ba036fc148df1fd8d9acf24e5a7831c95354896e20'}\n"
     ]
    }
   ],
   "source": [
    "# test endpoint get - but is always deleted\n",
    "uid =  recorg_order_dict['uid']\n",
    "get_res = requests.get(f\"http://localhost:5009/cards/{uid}\")\n",
    "\n",
    "print(get_res.json())"
   ]
  },
  {
   "cell_type": "code",
   "execution_count": 98,
   "id": "cefc3e3e-d6dd-4d17-b91a-3cd91b054144",
   "metadata": {
    "tags": []
   },
   "outputs": [
    {
     "data": {
      "text/plain": [
       "{'status': True}"
      ]
     },
     "execution_count": 98,
     "metadata": {},
     "output_type": "execute_result"
    }
   ],
   "source": [
    "delete_order = {'security_key':'security_key', 'receipt_url':file_path2_test_or}\n",
    "\n",
    "del_order = requests.post('http://localhost:5009/clear_generated_card', json=delete_order)\n",
    "\n",
    "del_order.json()"
   ]
  },
  {
   "cell_type": "code",
   "execution_count": 16,
   "id": "bca63493-df67-41fb-9798-2ccb20741c79",
   "metadata": {
    "tags": []
   },
   "outputs": [],
   "source": [
    "receipt_card_data = {}\n",
    "receipt_card_data['session_data'] = {}\n",
    "receipt_card_data['print_data'] = {}\n",
    "receipt_card_data['verity_data'] = {}\n",
    "\n",
    "\n",
    "receipt_card_data['session_data']['card_type'] = \"Receipt_Card\"\n",
    "receipt_card_data['session_data']['level'] = 1\n",
    "# could be Regular\n",
    "receipt_card_data['session_data']['session_type']= \"Customer\"\n",
    "receipt_card_data['session_data']['redeem_code']= True\n",
    "receipt_card_data['session_data']['redeem_code_value']= ''\n",
    "receipt_card_data['session_data']['duration_in_seconds'] = 60*60\n",
    "receipt_card_data['session_data']['active_days'] = 7\n",
    "\n",
    "# auth_reset_card['print_data']['item_id'] = 28\n",
    "receipt_card_data['print_data']['item_media_plate_url'] = 'static/media_store/plate_two_full.jpg'\n",
    "receipt_card_data['print_data']['heading']= \"Receipt\"\n",
    "receipt_card_data['print_data']['sub_heading'] = 'Sale'\n",
    "# receipt_card_data['print_data']['indicator'] = 'Or'\n",
    "receipt_card_data['print_data']['service_heading'] = 'Ticketing'\n",
    "receipt_card_data['print_data']['next_service_date']= time.asctime(time.localtime(time.time()))\n",
    "receipt_card_data['print_data']['sale_amount'] = 500.50\n",
    "receipt_card_data['print_data']['sale_description'] = 'Purchase of one ticket for Anthony Joshua Vs Madonga At KICC venue 31st August 2023'"
   ]
  },
  {
   "cell_type": "code",
   "execution_count": 17,
   "id": "f2a77b0c-ce87-4955-839d-c695d92481e6",
   "metadata": {
    "tags": []
   },
   "outputs": [
    {
     "data": {
      "text/plain": [
       "{'session_data': {'card_type': 'Receipt_Card',\n",
       "  'level': 1,\n",
       "  'session_type': 'Customer',\n",
       "  'redeem_code': True,\n",
       "  'redeem_code_value': '',\n",
       "  'duration_in_seconds': 3600,\n",
       "  'active_days': 7},\n",
       " 'print_data': {'item_media_plate_url': 'static/media_store/plate_two_full.jpg',\n",
       "  'heading': 'Receipt',\n",
       "  'sub_heading': 'Sale',\n",
       "  'service_heading': 'Ticketing',\n",
       "  'next_service_date': 'Mon Oct 30 07:07:16 2023',\n",
       "  'sale_amount': 500.5,\n",
       "  'sale_description': 'Purchase of one ticket for Anthony Joshua Vs Madonga At KICC venue 31st August 2023'},\n",
       " 'verity_data': {}}"
      ]
     },
     "execution_count": 17,
     "metadata": {},
     "output_type": "execute_result"
    }
   ],
   "source": [
    "receipt_card_data"
   ]
  },
  {
   "cell_type": "code",
   "execution_count": 18,
   "id": "b65f01c1-be91-4494-b660-c98d9d2f2d5f",
   "metadata": {
    "tags": []
   },
   "outputs": [],
   "source": [
    "receipt_res = requests.post('http://localhost:5009/request_receipt', json=receipt_card_data)"
   ]
  },
  {
   "cell_type": "code",
   "execution_count": 19,
   "id": "46701894-c865-42a0-ab78-f43b502db4bf",
   "metadata": {
    "tags": []
   },
   "outputs": [
    {
     "name": "stdout",
     "output_type": "stream",
     "text": [
      "{'new_code': '61CC', 'status': True, 'url': '/home/bobafett/Work/bstamps_shell/api_master_v1/static/out_store/Sale:receipt:sale:KDls4Nu8Yl.png'}\n"
     ]
    }
   ],
   "source": [
    "receipt_res_dict = receipt_res.json()\n",
    "print(receipt_res_dict)"
   ]
  },
  {
   "cell_type": "code",
   "execution_count": 156,
   "id": "3bb5917a-586e-4b08-887c-01cb19e5764c",
   "metadata": {},
   "outputs": [],
   "source": [
    "file_path2_test_receipt = receipt_res_dict['url']\n",
    "new_code_value = receipt_res_dict['new_code']\n",
    "\n",
    "with open(file_path2_test_receipt, 'rb') as file_opened:\n",
    "    files = {'file': file_opened}\n",
    "    data = {'userInput': new_code_value}\n",
    "    recog_receipt_res = requests.post('http://localhost:5009/recognize_artifact', files=files, data=data)"
   ]
  },
  {
   "cell_type": "code",
   "execution_count": 157,
   "id": "063b19e7-6b29-4b78-92e7-79ad7a4ec190",
   "metadata": {},
   "outputs": [
    {
     "name": "stdout",
     "output_type": "stream",
     "text": [
      "{'id': 12, 'payload': {'print_data': {'heading': 'Receipt', 'item_media_plate_url': 'static/media_store/plate_two_full.jpg', 'next_service_date': 'Mon Oct 23 17:20:21 2023', 'sale_amount': 500.5, 'sale_description': 'Purchase of one ticket for Anthony Joshua Vs Madonga At KICC venue 31st August 2023', 'service_heading': 'Ticketing', 'sub_heading': 'Sale'}, 'session_data': {'active_days': 7, 'card_type': 'Receipt_Card', 'duration_in_seconds': 3600, 'level': 1, 'redeem_code': True, 'redeem_code_value': 'e206b028b8ff11a1cc4db44a3114ea69c943c02d34f9727e589b483c734fe0f1', 'session_type': 'Customer'}, 'verity_data': {'qr_data_hash': 'pbkdf2:sha256:260000$6UDKSI58UsqhSviO$9e69f6b3c0ff40d429464012440782b250f514eabc881bebe384b8cf44622d7b', 'tx_file_hash': 'ca60a2bc298e1e55d35af58337f9c2f8ba9a2fab82b41e2ef2404a7653cf6616'}}, 'timestamp': 1698070826.17819, 'uid': 'pbkdf2:sha256:260000$6UDKSI58UsqhSviO$9e69f6b3c0ff40d429464012440782b250f514eabc881bebe384b8cf44622d7b'}\n"
     ]
    }
   ],
   "source": [
    "recorg_receipt_dict = recog_receipt_res.json()\n",
    "print(recorg_receipt_dict)"
   ]
  },
  {
   "cell_type": "code",
   "execution_count": 158,
   "id": "8a549509-7e3d-418d-8817-cb137ad11caa",
   "metadata": {
    "tags": []
   },
   "outputs": [
    {
     "name": "stdout",
     "output_type": "stream",
     "text": [
      "{'id': 12, 'payload': {'print_data': {'heading': 'Receipt', 'item_media_plate_url': 'static/media_store/plate_two_full.jpg', 'next_service_date': 'Mon Oct 23 17:20:21 2023', 'sale_amount': 500.5, 'sale_description': 'Purchase of one ticket for Anthony Joshua Vs Madonga At KICC venue 31st August 2023', 'service_heading': 'Ticketing', 'sub_heading': 'Sale'}, 'session_data': {'active_days': 7, 'card_type': 'Receipt_Card', 'duration_in_seconds': 3600, 'level': 1, 'redeem_code': True, 'redeem_code_value': 'e206b028b8ff11a1cc4db44a3114ea69c943c02d34f9727e589b483c734fe0f1', 'session_type': 'Customer'}, 'verity_data': {'qr_data_hash': 'pbkdf2:sha256:260000$6UDKSI58UsqhSviO$9e69f6b3c0ff40d429464012440782b250f514eabc881bebe384b8cf44622d7b', 'tx_file_hash': 'ca60a2bc298e1e55d35af58337f9c2f8ba9a2fab82b41e2ef2404a7653cf6616'}}, 'timestamp': 1698070826.17819, 'uid': 'pbkdf2:sha256:260000$6UDKSI58UsqhSviO$9e69f6b3c0ff40d429464012440782b250f514eabc881bebe384b8cf44622d7b'}\n"
     ]
    }
   ],
   "source": [
    "# test endpoint get - but is always deleted\n",
    "uid =  recorg_receipt_dict['uid']\n",
    "get_res = requests.get(f\"http://localhost:5009/cards/{uid}\")\n",
    "\n",
    "print(get_res.json())"
   ]
  },
  {
   "cell_type": "code",
   "execution_count": 106,
   "id": "225ab83f-6059-4c73-bf86-0729f52e8f16",
   "metadata": {
    "tags": []
   },
   "outputs": [
    {
     "data": {
      "text/plain": [
       "{'status': True}"
      ]
     },
     "execution_count": 106,
     "metadata": {},
     "output_type": "execute_result"
    }
   ],
   "source": [
    "delete_receipt = {'security_key':'security_key', 'receipt_url':file_path2_test_receipt}\n",
    "\n",
    "del_receipt = requests.post('http://localhost:5009/clear_generated_card', json=delete_receipt)\n",
    "\n",
    "del_receipt.json()"
   ]
  },
  {
   "cell_type": "code",
   "execution_count": null,
   "id": "f5e7da1d-a8f3-4c21-992e-908795881781",
   "metadata": {},
   "outputs": [],
   "source": []
  },
  {
   "cell_type": "code",
   "execution_count": null,
   "id": "8c57cb02-d06d-409f-8fed-83d2866bcef1",
   "metadata": {},
   "outputs": [],
   "source": []
  }
 ],
 "metadata": {
  "kernelspec": {
   "display_name": "Python 3 (ipykernel)",
   "language": "python",
   "name": "python3"
  },
  "language_info": {
   "codemirror_mode": {
    "name": "ipython",
    "version": 3
   },
   "file_extension": ".py",
   "mimetype": "text/x-python",
   "name": "python",
   "nbconvert_exporter": "python",
   "pygments_lexer": "ipython3",
   "version": "3.10.12"
  }
 },
 "nbformat": 4,
 "nbformat_minor": 5
}
