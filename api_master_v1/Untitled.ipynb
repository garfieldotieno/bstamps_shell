{
 "cells": [
  {
   "cell_type": "code",
   "execution_count": 1,
   "id": "86f6f4b0-6028-46c3-b2e3-8077a481aebb",
   "metadata": {},
   "outputs": [],
   "source": [
    "from api_master.payments import process_mpesa_string"
   ]
  },
  {
   "cell_type": "code",
   "execution_count": null,
   "id": "4c9eb850-f862-4b31-ba56-08f0af7ee8b3",
   "metadata": {},
   "outputs": [],
   "source": [
    "# consider the different types of network payment messages of interest : (send_peer[regular_user, business_user, third_party]::shadow_central::receiving_peer[regular_user, business_user, third_party])\n",
    "# the first test being : (sending_regular_peer, receiving_regular_peer)\n",
    "\n",
    "# Inspiration to subject study,\n",
    "# with reference to lumalive project, how can we effect the 'natural' distribution of this messages, from a somewhat stochastic process"
   ]
  }
 ],
 "metadata": {
  "kernelspec": {
   "display_name": "Python 3 (ipykernel)",
   "language": "python",
   "name": "python3"
  },
  "language_info": {
   "codemirror_mode": {
    "name": "ipython",
    "version": 3
   },
   "file_extension": ".py",
   "mimetype": "text/x-python",
   "name": "python",
   "nbconvert_exporter": "python",
   "pygments_lexer": "ipython3",
   "version": "3.10.12"
  }
 },
 "nbformat": 4,
 "nbformat_minor": 5
}
