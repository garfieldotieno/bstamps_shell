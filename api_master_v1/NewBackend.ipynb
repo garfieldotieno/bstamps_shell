{
 "cells": [
  {
   "cell_type": "code",
   "execution_count": 23,
   "id": "0f3a07e0",
   "metadata": {},
   "outputs": [],
   "source": [
    "  # GET|HEAD        / ............................................................................................................... \n",
    "  # POST            _ignition/execute-solution ........ ignition.executeSolution › Spatie\\LaravelIgnition › ExecuteSolutionController\n",
    "  # GET|HEAD        _ignition/health-check .................... ignition.healthCheck › Spatie\\LaravelIgnition › HealthCheckController\n",
    "  # POST            _ignition/update-config ................. ignition.updateConfig › Spatie\\LaravelIgnition › UpdateConfigController\n",
    "  # GET|HEAD        api/auth ................................................................................... AuthController@index\n",
    "  # POST            api/auth ................................................................................... AuthController@store\n",
    "  # GET|HEAD        api/auth/{id} ............................................................................... AuthController@show\n",
    "  # PUT             api/auth/{id} ............................................................................. AuthController@update\n",
    "  # DELETE          api/auth/{id} ............................................................................ AuthController@destroy\n",
    "  # POST            api/auth/{id}/reset .................................................................... AuthController@resetAuth\n",
    "  # POST            api/auth/{id}/token .............................................................. AuthController@updateAuthToken\n",
    "  # POST            api/auth/{id}/verify-token/{token} ............................................... AuthController@verifyAuthToken\n",
    "  # GET|HEAD        api/deliveries ...................................................... deliveries.index › DeliveryController@index\n",
    "  # POST            api/deliveries ...................................................... deliveries.store › DeliveryController@store\n",
    "  # GET|HEAD        api/deliveries/{delivery} ............................................. deliveries.show › DeliveryController@show\n",
    "  # PUT|PATCH       api/deliveries/{delivery} ......................................... deliveries.update › DeliveryController@update\n",
    "  # DELETE          api/deliveries/{delivery} ....................................... deliveries.destroy › DeliveryController@destroy\n",
    "  # GET|HEAD        api/items ........................................................... items.index › ItemInventoryController@index\n",
    "  # POST            api/items ........................................................... items.store › ItemInventoryController@store\n",
    "  # GET|HEAD        api/items/{item} ...................................................... items.show › ItemInventoryController@show\n",
    "  # PUT|PATCH       api/items/{item} .................................................. items.update › ItemInventoryController@update\n",
    "  # DELETE          api/items/{item} ................................................ items.destroy › ItemInventoryController@destroy\n",
    "  # GET|HEAD        api/locations ........................................................ locations.index › LocationController@index\n",
    "  # POST            api/locations ........................................................ locations.store › LocationController@store\n",
    "  # GET|HEAD        api/locations/query_location ................................................. LocationController@GetLocationData\n",
    "  # GET|HEAD        api/locations/{location} ............................................... locations.show › LocationController@show\n",
    "  # PUT|PATCH       api/locations/{location} ........................................... locations.update › LocationController@update\n",
    "  # DELETE          api/locations/{location} ......................................... locations.destroy › LocationController@destroy\n",
    "  # GET|HEAD        api/payments ........................................................... payments.index › PaymentController@index\n",
    "  # POST            api/payments ........................................................... payments.store › PaymentController@store\n",
    "  # GET|HEAD        api/payments/{payment} ................................................... payments.show › PaymentController@show\n",
    "  # PUT|PATCH       api/payments/{payment} ............................................... payments.update › PaymentController@update\n",
    "  # DELETE          api/payments/{payment} ............................................. payments.destroy › PaymentController@destroy\n",
    "  # GET|HEAD        api/receipts ........................................................... receipts.index › ReceiptController@index\n",
    "  # POST            api/receipts ........................................................... receipts.store › ReceiptController@store\n",
    "  # GET|HEAD        api/receipts/{receipt} ................................................... receipts.show › ReceiptController@show\n",
    "  # PUT|PATCH       api/receipts/{receipt} ............................................... receipts.update › ReceiptController@update\n",
    "  # DELETE          api/receipts/{receipt} ............................................. receipts.destroy › ReceiptController@destroy\n",
    "  # GET|HEAD        api/referal-actions ....................................... referal-actions.index › ReferalActionController@index\n",
    "  # POST            api/referal-actions ....................................... referal-actions.store › ReferalActionController@store\n",
    "  # GET|HEAD        api/referal-actions/{referal_action} ........................ referal-actions.show › ReferalActionController@show\n",
    "  # PUT|PATCH       api/referal-actions/{referal_action} .................... referal-actions.update › ReferalActionController@update\n",
    "  # DELETE          api/referal-actions/{referal_action} .................. referal-actions.destroy › ReferalActionController@destroy\n",
    "  # GET|HEAD        api/referals ........................................................... referals.index › ReferalController@index\n",
    "  # POST            api/referals ........................................................... referals.store › ReferalController@store\n",
    "  # GET|HEAD        api/referals/{referal} ................................................... referals.show › ReferalController@show\n",
    "  # PUT|PATCH       api/referals/{referal} ............................................... referals.update › ReferalController@update\n",
    "  # DELETE          api/referals/{referal} ............................................. referals.destroy › ReferalController@destroy\n",
    "  # GET|HEAD        sanctum/csrf-cookie ........................... sanctum.csrf-cookie › Laravel\\Sanctum › CsrfCookieController@show"
   ]
  },
  {
   "cell_type": "code",
   "execution_count": 24,
   "id": "ac51985e",
   "metadata": {},
   "outputs": [],
   "source": [
    "import requests\n",
    "import uuid"
   ]
  },
  {
   "cell_type": "code",
   "execution_count": 25,
   "id": "809d1f99",
   "metadata": {},
   "outputs": [],
   "source": [
    "AUTH_BASE_URL = \"http://127.0.0.1:8000/api/auth\""
   ]
  },
  {
   "cell_type": "code",
   "execution_count": 28,
   "id": "b21a6528",
   "metadata": {},
   "outputs": [],
   "source": [
    "def create_auth_entry():\n",
    "    # Create a new auth entry\n",
    "    new_auth_data = {\n",
    "        \"uid\": str(uuid.uuid4()),  # Generate a new UUID\n",
    "        \"user_client_reference\": str(uuid.uuid4()),  # Generate a new UUID\n",
    "        \"user_email\": \"user@example.com\",  # Replace with the actual user email\n",
    "        \"password_hash\": \"hashed_password_here\",  # Replace with the actual hashed password\n",
    "        \"role\": \"user\",  # Replace with the actual role\n",
    "        \"current_auth_verification_status\": False,  # Set to True or False as needed\n",
    "        \"current_client_type\": \"browser\",  # or \"telegram\"\n",
    "        \"current_auth_token\": None,  # or a valid token string\n",
    "        \"current_auth_token_expiry\": None  # or a valid timestamp\n",
    "    }\n",
    "\n",
    "    response = requests.post(AUTH_BASE_URL, json=new_auth_data)\n",
    "    print(\"Create Auth Entry Response:\", response )\n"
   ]
  },
  {
   "cell_type": "code",
   "execution_count": 29,
   "id": "9d1f0952",
   "metadata": {},
   "outputs": [
    {
     "name": "stdout",
     "output_type": "stream",
     "text": [
      "Create Auth Entry Response: <Response [200]>\n"
     ]
    }
   ],
   "source": [
    "create_auth_entry()"
   ]
  },
  {
   "cell_type": "code",
   "execution_count": 32,
   "id": "560f8e22",
   "metadata": {},
   "outputs": [],
   "source": [
    "def list_all_auth_entries():\n",
    "    # List all auth entries\n",
    "    response = requests.get(AUTH_BASE_URL)\n",
    "    print(\"List All Auth Entries Response:\", response.json())\n"
   ]
  },
  {
   "cell_type": "code",
   "execution_count": 33,
   "id": "a363292a",
   "metadata": {},
   "outputs": [
    {
     "name": "stdout",
     "output_type": "stream",
     "text": [
      "List All Auth Entries Response: []\n"
     ]
    }
   ],
   "source": [
    "list_all_auth_entries()"
   ]
  },
  {
   "cell_type": "code",
   "execution_count": 34,
   "id": "f431379d",
   "metadata": {},
   "outputs": [],
   "source": [
    "def get_auth_entry(auth_id):\n",
    "    # Get a specific auth entry by ID\n",
    "    response = requests.get(f\"{AUTH_BASE_URL}/{auth_id}\")\n",
    "    print(f\"Get Auth Entry {auth_id} Response:\", response.json())\n"
   ]
  },
  {
   "cell_type": "code",
   "execution_count": 36,
   "id": "578a0241",
   "metadata": {},
   "outputs": [
    {
     "ename": "JSONDecodeError",
     "evalue": "Expecting value: line 1 column 1 (char 0)",
     "output_type": "error",
     "traceback": [
      "\u001b[0;31m---------------------------------------------------------------------------\u001b[0m",
      "\u001b[0;31mJSONDecodeError\u001b[0m                           Traceback (most recent call last)",
      "File \u001b[0;32m~/work/Work2Backup/Work/bstamps_shell/api_master_v1/venv/lib/python3.10/site-packages/requests/models.py:971\u001b[0m, in \u001b[0;36mResponse.json\u001b[0;34m(self, **kwargs)\u001b[0m\n\u001b[1;32m    970\u001b[0m \u001b[38;5;28;01mtry\u001b[39;00m:\n\u001b[0;32m--> 971\u001b[0m     \u001b[38;5;28;01mreturn\u001b[39;00m \u001b[43mcomplexjson\u001b[49m\u001b[38;5;241;43m.\u001b[39;49m\u001b[43mloads\u001b[49m\u001b[43m(\u001b[49m\u001b[38;5;28;43mself\u001b[39;49m\u001b[38;5;241;43m.\u001b[39;49m\u001b[43mtext\u001b[49m\u001b[43m,\u001b[49m\u001b[43m \u001b[49m\u001b[38;5;241;43m*\u001b[39;49m\u001b[38;5;241;43m*\u001b[39;49m\u001b[43mkwargs\u001b[49m\u001b[43m)\u001b[49m\n\u001b[1;32m    972\u001b[0m \u001b[38;5;28;01mexcept\u001b[39;00m JSONDecodeError \u001b[38;5;28;01mas\u001b[39;00m e:\n\u001b[1;32m    973\u001b[0m     \u001b[38;5;66;03m# Catch JSON-related errors and raise as requests.JSONDecodeError\u001b[39;00m\n\u001b[1;32m    974\u001b[0m     \u001b[38;5;66;03m# This aliases json.JSONDecodeError and simplejson.JSONDecodeError\u001b[39;00m\n",
      "File \u001b[0;32m/usr/lib/python3.10/json/__init__.py:346\u001b[0m, in \u001b[0;36mloads\u001b[0;34m(s, cls, object_hook, parse_float, parse_int, parse_constant, object_pairs_hook, **kw)\u001b[0m\n\u001b[1;32m    343\u001b[0m \u001b[38;5;28;01mif\u001b[39;00m (\u001b[38;5;28mcls\u001b[39m \u001b[38;5;129;01mis\u001b[39;00m \u001b[38;5;28;01mNone\u001b[39;00m \u001b[38;5;129;01mand\u001b[39;00m object_hook \u001b[38;5;129;01mis\u001b[39;00m \u001b[38;5;28;01mNone\u001b[39;00m \u001b[38;5;129;01mand\u001b[39;00m\n\u001b[1;32m    344\u001b[0m         parse_int \u001b[38;5;129;01mis\u001b[39;00m \u001b[38;5;28;01mNone\u001b[39;00m \u001b[38;5;129;01mand\u001b[39;00m parse_float \u001b[38;5;129;01mis\u001b[39;00m \u001b[38;5;28;01mNone\u001b[39;00m \u001b[38;5;129;01mand\u001b[39;00m\n\u001b[1;32m    345\u001b[0m         parse_constant \u001b[38;5;129;01mis\u001b[39;00m \u001b[38;5;28;01mNone\u001b[39;00m \u001b[38;5;129;01mand\u001b[39;00m object_pairs_hook \u001b[38;5;129;01mis\u001b[39;00m \u001b[38;5;28;01mNone\u001b[39;00m \u001b[38;5;129;01mand\u001b[39;00m \u001b[38;5;129;01mnot\u001b[39;00m kw):\n\u001b[0;32m--> 346\u001b[0m     \u001b[38;5;28;01mreturn\u001b[39;00m \u001b[43m_default_decoder\u001b[49m\u001b[38;5;241;43m.\u001b[39;49m\u001b[43mdecode\u001b[49m\u001b[43m(\u001b[49m\u001b[43ms\u001b[49m\u001b[43m)\u001b[49m\n\u001b[1;32m    347\u001b[0m \u001b[38;5;28;01mif\u001b[39;00m \u001b[38;5;28mcls\u001b[39m \u001b[38;5;129;01mis\u001b[39;00m \u001b[38;5;28;01mNone\u001b[39;00m:\n",
      "File \u001b[0;32m/usr/lib/python3.10/json/decoder.py:337\u001b[0m, in \u001b[0;36mJSONDecoder.decode\u001b[0;34m(self, s, _w)\u001b[0m\n\u001b[1;32m    333\u001b[0m \u001b[38;5;250m\u001b[39m\u001b[38;5;124;03m\"\"\"Return the Python representation of ``s`` (a ``str`` instance\u001b[39;00m\n\u001b[1;32m    334\u001b[0m \u001b[38;5;124;03mcontaining a JSON document).\u001b[39;00m\n\u001b[1;32m    335\u001b[0m \n\u001b[1;32m    336\u001b[0m \u001b[38;5;124;03m\"\"\"\u001b[39;00m\n\u001b[0;32m--> 337\u001b[0m obj, end \u001b[38;5;241m=\u001b[39m \u001b[38;5;28;43mself\u001b[39;49m\u001b[38;5;241;43m.\u001b[39;49m\u001b[43mraw_decode\u001b[49m\u001b[43m(\u001b[49m\u001b[43ms\u001b[49m\u001b[43m,\u001b[49m\u001b[43m \u001b[49m\u001b[43midx\u001b[49m\u001b[38;5;241;43m=\u001b[39;49m\u001b[43m_w\u001b[49m\u001b[43m(\u001b[49m\u001b[43ms\u001b[49m\u001b[43m,\u001b[49m\u001b[43m \u001b[49m\u001b[38;5;241;43m0\u001b[39;49m\u001b[43m)\u001b[49m\u001b[38;5;241;43m.\u001b[39;49m\u001b[43mend\u001b[49m\u001b[43m(\u001b[49m\u001b[43m)\u001b[49m\u001b[43m)\u001b[49m\n\u001b[1;32m    338\u001b[0m end \u001b[38;5;241m=\u001b[39m _w(s, end)\u001b[38;5;241m.\u001b[39mend()\n",
      "File \u001b[0;32m/usr/lib/python3.10/json/decoder.py:355\u001b[0m, in \u001b[0;36mJSONDecoder.raw_decode\u001b[0;34m(self, s, idx)\u001b[0m\n\u001b[1;32m    354\u001b[0m \u001b[38;5;28;01mexcept\u001b[39;00m \u001b[38;5;167;01mStopIteration\u001b[39;00m \u001b[38;5;28;01mas\u001b[39;00m err:\n\u001b[0;32m--> 355\u001b[0m     \u001b[38;5;28;01mraise\u001b[39;00m JSONDecodeError(\u001b[38;5;124m\"\u001b[39m\u001b[38;5;124mExpecting value\u001b[39m\u001b[38;5;124m\"\u001b[39m, s, err\u001b[38;5;241m.\u001b[39mvalue) \u001b[38;5;28;01mfrom\u001b[39;00m \u001b[38;5;28mNone\u001b[39m\n\u001b[1;32m    356\u001b[0m \u001b[38;5;28;01mreturn\u001b[39;00m obj, end\n",
      "\u001b[0;31mJSONDecodeError\u001b[0m: Expecting value: line 1 column 1 (char 0)",
      "\nDuring handling of the above exception, another exception occurred:\n",
      "\u001b[0;31mJSONDecodeError\u001b[0m                           Traceback (most recent call last)",
      "Cell \u001b[0;32mIn[36], line 1\u001b[0m\n\u001b[0;32m----> 1\u001b[0m \u001b[43mget_auth_entry\u001b[49m\u001b[43m(\u001b[49m\u001b[38;5;241;43m1\u001b[39;49m\u001b[43m)\u001b[49m\n",
      "Cell \u001b[0;32mIn[34], line 4\u001b[0m, in \u001b[0;36mget_auth_entry\u001b[0;34m(auth_id)\u001b[0m\n\u001b[1;32m      1\u001b[0m \u001b[38;5;28;01mdef\u001b[39;00m \u001b[38;5;21mget_auth_entry\u001b[39m(auth_id):\n\u001b[1;32m      2\u001b[0m     \u001b[38;5;66;03m# Get a specific auth entry by ID\u001b[39;00m\n\u001b[1;32m      3\u001b[0m     response \u001b[38;5;241m=\u001b[39m requests\u001b[38;5;241m.\u001b[39mget(\u001b[38;5;124mf\u001b[39m\u001b[38;5;124m\"\u001b[39m\u001b[38;5;132;01m{\u001b[39;00mAUTH_BASE_URL\u001b[38;5;132;01m}\u001b[39;00m\u001b[38;5;124m/\u001b[39m\u001b[38;5;132;01m{\u001b[39;00mauth_id\u001b[38;5;132;01m}\u001b[39;00m\u001b[38;5;124m\"\u001b[39m)\n\u001b[0;32m----> 4\u001b[0m     \u001b[38;5;28mprint\u001b[39m(\u001b[38;5;124mf\u001b[39m\u001b[38;5;124m\"\u001b[39m\u001b[38;5;124mGet Auth Entry \u001b[39m\u001b[38;5;132;01m{\u001b[39;00mauth_id\u001b[38;5;132;01m}\u001b[39;00m\u001b[38;5;124m Response:\u001b[39m\u001b[38;5;124m\"\u001b[39m, \u001b[43mresponse\u001b[49m\u001b[38;5;241;43m.\u001b[39;49m\u001b[43mjson\u001b[49m\u001b[43m(\u001b[49m\u001b[43m)\u001b[49m)\n",
      "File \u001b[0;32m~/work/Work2Backup/Work/bstamps_shell/api_master_v1/venv/lib/python3.10/site-packages/requests/models.py:975\u001b[0m, in \u001b[0;36mResponse.json\u001b[0;34m(self, **kwargs)\u001b[0m\n\u001b[1;32m    971\u001b[0m     \u001b[38;5;28;01mreturn\u001b[39;00m complexjson\u001b[38;5;241m.\u001b[39mloads(\u001b[38;5;28mself\u001b[39m\u001b[38;5;241m.\u001b[39mtext, \u001b[38;5;241m*\u001b[39m\u001b[38;5;241m*\u001b[39mkwargs)\n\u001b[1;32m    972\u001b[0m \u001b[38;5;28;01mexcept\u001b[39;00m JSONDecodeError \u001b[38;5;28;01mas\u001b[39;00m e:\n\u001b[1;32m    973\u001b[0m     \u001b[38;5;66;03m# Catch JSON-related errors and raise as requests.JSONDecodeError\u001b[39;00m\n\u001b[1;32m    974\u001b[0m     \u001b[38;5;66;03m# This aliases json.JSONDecodeError and simplejson.JSONDecodeError\u001b[39;00m\n\u001b[0;32m--> 975\u001b[0m     \u001b[38;5;28;01mraise\u001b[39;00m RequestsJSONDecodeError(e\u001b[38;5;241m.\u001b[39mmsg, e\u001b[38;5;241m.\u001b[39mdoc, e\u001b[38;5;241m.\u001b[39mpos)\n",
      "\u001b[0;31mJSONDecodeError\u001b[0m: Expecting value: line 1 column 1 (char 0)"
     ]
    }
   ],
   "source": [
    "get_auth_entry(1)"
   ]
  },
  {
   "cell_type": "code",
   "execution_count": 37,
   "id": "9aea425b",
   "metadata": {},
   "outputs": [],
   "source": [
    "def update_auth_entry(auth_id):\n",
    "    # Update a specific auth entry\n",
    "    updated_auth_data = {\n",
    "        \"user_email\": \"updated_user@example.com\",  # Updated email\n",
    "        \"password_hash\": \"new_hashed_password_here\",  # Updated hashed password\n",
    "        \"role\": \"admin\",  # Updated role\n",
    "        \"current_auth_verification_status\": True,  # Updated verification status\n",
    "        \"current_client_type\": \"telegram\",  # Updated client type\n",
    "        \"current_auth_token\": \"new_token_here\",  # Updated token\n",
    "        \"current_auth_token_expiry\": \"2024-12-31 23:59:59\"  # Updated expiry timestamp\n",
    "    }\n",
    "\n",
    "    response = requests.put(f\"{AUTH_BASE_URL}/{auth_id}\", json=updated_auth_data)\n",
    "    print(f\"Update Auth Entry {auth_id} Response:\", response.json())\n"
   ]
  },
  {
   "cell_type": "code",
   "execution_count": 38,
   "id": "5e91f5b9",
   "metadata": {},
   "outputs": [
    {
     "ename": "JSONDecodeError",
     "evalue": "Expecting value: line 1 column 1 (char 0)",
     "output_type": "error",
     "traceback": [
      "\u001b[0;31m---------------------------------------------------------------------------\u001b[0m",
      "\u001b[0;31mJSONDecodeError\u001b[0m                           Traceback (most recent call last)",
      "File \u001b[0;32m~/work/Work2Backup/Work/bstamps_shell/api_master_v1/venv/lib/python3.10/site-packages/requests/models.py:971\u001b[0m, in \u001b[0;36mResponse.json\u001b[0;34m(self, **kwargs)\u001b[0m\n\u001b[1;32m    970\u001b[0m \u001b[38;5;28;01mtry\u001b[39;00m:\n\u001b[0;32m--> 971\u001b[0m     \u001b[38;5;28;01mreturn\u001b[39;00m \u001b[43mcomplexjson\u001b[49m\u001b[38;5;241;43m.\u001b[39;49m\u001b[43mloads\u001b[49m\u001b[43m(\u001b[49m\u001b[38;5;28;43mself\u001b[39;49m\u001b[38;5;241;43m.\u001b[39;49m\u001b[43mtext\u001b[49m\u001b[43m,\u001b[49m\u001b[43m \u001b[49m\u001b[38;5;241;43m*\u001b[39;49m\u001b[38;5;241;43m*\u001b[39;49m\u001b[43mkwargs\u001b[49m\u001b[43m)\u001b[49m\n\u001b[1;32m    972\u001b[0m \u001b[38;5;28;01mexcept\u001b[39;00m JSONDecodeError \u001b[38;5;28;01mas\u001b[39;00m e:\n\u001b[1;32m    973\u001b[0m     \u001b[38;5;66;03m# Catch JSON-related errors and raise as requests.JSONDecodeError\u001b[39;00m\n\u001b[1;32m    974\u001b[0m     \u001b[38;5;66;03m# This aliases json.JSONDecodeError and simplejson.JSONDecodeError\u001b[39;00m\n",
      "File \u001b[0;32m/usr/lib/python3.10/json/__init__.py:346\u001b[0m, in \u001b[0;36mloads\u001b[0;34m(s, cls, object_hook, parse_float, parse_int, parse_constant, object_pairs_hook, **kw)\u001b[0m\n\u001b[1;32m    343\u001b[0m \u001b[38;5;28;01mif\u001b[39;00m (\u001b[38;5;28mcls\u001b[39m \u001b[38;5;129;01mis\u001b[39;00m \u001b[38;5;28;01mNone\u001b[39;00m \u001b[38;5;129;01mand\u001b[39;00m object_hook \u001b[38;5;129;01mis\u001b[39;00m \u001b[38;5;28;01mNone\u001b[39;00m \u001b[38;5;129;01mand\u001b[39;00m\n\u001b[1;32m    344\u001b[0m         parse_int \u001b[38;5;129;01mis\u001b[39;00m \u001b[38;5;28;01mNone\u001b[39;00m \u001b[38;5;129;01mand\u001b[39;00m parse_float \u001b[38;5;129;01mis\u001b[39;00m \u001b[38;5;28;01mNone\u001b[39;00m \u001b[38;5;129;01mand\u001b[39;00m\n\u001b[1;32m    345\u001b[0m         parse_constant \u001b[38;5;129;01mis\u001b[39;00m \u001b[38;5;28;01mNone\u001b[39;00m \u001b[38;5;129;01mand\u001b[39;00m object_pairs_hook \u001b[38;5;129;01mis\u001b[39;00m \u001b[38;5;28;01mNone\u001b[39;00m \u001b[38;5;129;01mand\u001b[39;00m \u001b[38;5;129;01mnot\u001b[39;00m kw):\n\u001b[0;32m--> 346\u001b[0m     \u001b[38;5;28;01mreturn\u001b[39;00m \u001b[43m_default_decoder\u001b[49m\u001b[38;5;241;43m.\u001b[39;49m\u001b[43mdecode\u001b[49m\u001b[43m(\u001b[49m\u001b[43ms\u001b[49m\u001b[43m)\u001b[49m\n\u001b[1;32m    347\u001b[0m \u001b[38;5;28;01mif\u001b[39;00m \u001b[38;5;28mcls\u001b[39m \u001b[38;5;129;01mis\u001b[39;00m \u001b[38;5;28;01mNone\u001b[39;00m:\n",
      "File \u001b[0;32m/usr/lib/python3.10/json/decoder.py:337\u001b[0m, in \u001b[0;36mJSONDecoder.decode\u001b[0;34m(self, s, _w)\u001b[0m\n\u001b[1;32m    333\u001b[0m \u001b[38;5;250m\u001b[39m\u001b[38;5;124;03m\"\"\"Return the Python representation of ``s`` (a ``str`` instance\u001b[39;00m\n\u001b[1;32m    334\u001b[0m \u001b[38;5;124;03mcontaining a JSON document).\u001b[39;00m\n\u001b[1;32m    335\u001b[0m \n\u001b[1;32m    336\u001b[0m \u001b[38;5;124;03m\"\"\"\u001b[39;00m\n\u001b[0;32m--> 337\u001b[0m obj, end \u001b[38;5;241m=\u001b[39m \u001b[38;5;28;43mself\u001b[39;49m\u001b[38;5;241;43m.\u001b[39;49m\u001b[43mraw_decode\u001b[49m\u001b[43m(\u001b[49m\u001b[43ms\u001b[49m\u001b[43m,\u001b[49m\u001b[43m \u001b[49m\u001b[43midx\u001b[49m\u001b[38;5;241;43m=\u001b[39;49m\u001b[43m_w\u001b[49m\u001b[43m(\u001b[49m\u001b[43ms\u001b[49m\u001b[43m,\u001b[49m\u001b[43m \u001b[49m\u001b[38;5;241;43m0\u001b[39;49m\u001b[43m)\u001b[49m\u001b[38;5;241;43m.\u001b[39;49m\u001b[43mend\u001b[49m\u001b[43m(\u001b[49m\u001b[43m)\u001b[49m\u001b[43m)\u001b[49m\n\u001b[1;32m    338\u001b[0m end \u001b[38;5;241m=\u001b[39m _w(s, end)\u001b[38;5;241m.\u001b[39mend()\n",
      "File \u001b[0;32m/usr/lib/python3.10/json/decoder.py:355\u001b[0m, in \u001b[0;36mJSONDecoder.raw_decode\u001b[0;34m(self, s, idx)\u001b[0m\n\u001b[1;32m    354\u001b[0m \u001b[38;5;28;01mexcept\u001b[39;00m \u001b[38;5;167;01mStopIteration\u001b[39;00m \u001b[38;5;28;01mas\u001b[39;00m err:\n\u001b[0;32m--> 355\u001b[0m     \u001b[38;5;28;01mraise\u001b[39;00m JSONDecodeError(\u001b[38;5;124m\"\u001b[39m\u001b[38;5;124mExpecting value\u001b[39m\u001b[38;5;124m\"\u001b[39m, s, err\u001b[38;5;241m.\u001b[39mvalue) \u001b[38;5;28;01mfrom\u001b[39;00m \u001b[38;5;28mNone\u001b[39m\n\u001b[1;32m    356\u001b[0m \u001b[38;5;28;01mreturn\u001b[39;00m obj, end\n",
      "\u001b[0;31mJSONDecodeError\u001b[0m: Expecting value: line 1 column 1 (char 0)",
      "\nDuring handling of the above exception, another exception occurred:\n",
      "\u001b[0;31mJSONDecodeError\u001b[0m                           Traceback (most recent call last)",
      "Cell \u001b[0;32mIn[38], line 1\u001b[0m\n\u001b[0;32m----> 1\u001b[0m \u001b[43mupdate_auth_entry\u001b[49m\u001b[43m(\u001b[49m\u001b[38;5;241;43m1\u001b[39;49m\u001b[43m)\u001b[49m\n",
      "Cell \u001b[0;32mIn[37], line 14\u001b[0m, in \u001b[0;36mupdate_auth_entry\u001b[0;34m(auth_id)\u001b[0m\n\u001b[1;32m      3\u001b[0m updated_auth_data \u001b[38;5;241m=\u001b[39m {\n\u001b[1;32m      4\u001b[0m     \u001b[38;5;124m\"\u001b[39m\u001b[38;5;124muser_email\u001b[39m\u001b[38;5;124m\"\u001b[39m: \u001b[38;5;124m\"\u001b[39m\u001b[38;5;124mupdated_user@example.com\u001b[39m\u001b[38;5;124m\"\u001b[39m,  \u001b[38;5;66;03m# Updated email\u001b[39;00m\n\u001b[1;32m      5\u001b[0m     \u001b[38;5;124m\"\u001b[39m\u001b[38;5;124mpassword_hash\u001b[39m\u001b[38;5;124m\"\u001b[39m: \u001b[38;5;124m\"\u001b[39m\u001b[38;5;124mnew_hashed_password_here\u001b[39m\u001b[38;5;124m\"\u001b[39m,  \u001b[38;5;66;03m# Updated hashed password\u001b[39;00m\n\u001b[0;32m   (...)\u001b[0m\n\u001b[1;32m     10\u001b[0m     \u001b[38;5;124m\"\u001b[39m\u001b[38;5;124mcurrent_auth_token_expiry\u001b[39m\u001b[38;5;124m\"\u001b[39m: \u001b[38;5;124m\"\u001b[39m\u001b[38;5;124m2024-12-31 23:59:59\u001b[39m\u001b[38;5;124m\"\u001b[39m  \u001b[38;5;66;03m# Updated expiry timestamp\u001b[39;00m\n\u001b[1;32m     11\u001b[0m }\n\u001b[1;32m     13\u001b[0m response \u001b[38;5;241m=\u001b[39m requests\u001b[38;5;241m.\u001b[39mput(\u001b[38;5;124mf\u001b[39m\u001b[38;5;124m\"\u001b[39m\u001b[38;5;132;01m{\u001b[39;00mAUTH_BASE_URL\u001b[38;5;132;01m}\u001b[39;00m\u001b[38;5;124m/\u001b[39m\u001b[38;5;132;01m{\u001b[39;00mauth_id\u001b[38;5;132;01m}\u001b[39;00m\u001b[38;5;124m\"\u001b[39m, json\u001b[38;5;241m=\u001b[39mupdated_auth_data)\n\u001b[0;32m---> 14\u001b[0m \u001b[38;5;28mprint\u001b[39m(\u001b[38;5;124mf\u001b[39m\u001b[38;5;124m\"\u001b[39m\u001b[38;5;124mUpdate Auth Entry \u001b[39m\u001b[38;5;132;01m{\u001b[39;00mauth_id\u001b[38;5;132;01m}\u001b[39;00m\u001b[38;5;124m Response:\u001b[39m\u001b[38;5;124m\"\u001b[39m, \u001b[43mresponse\u001b[49m\u001b[38;5;241;43m.\u001b[39;49m\u001b[43mjson\u001b[49m\u001b[43m(\u001b[49m\u001b[43m)\u001b[49m)\n",
      "File \u001b[0;32m~/work/Work2Backup/Work/bstamps_shell/api_master_v1/venv/lib/python3.10/site-packages/requests/models.py:975\u001b[0m, in \u001b[0;36mResponse.json\u001b[0;34m(self, **kwargs)\u001b[0m\n\u001b[1;32m    971\u001b[0m     \u001b[38;5;28;01mreturn\u001b[39;00m complexjson\u001b[38;5;241m.\u001b[39mloads(\u001b[38;5;28mself\u001b[39m\u001b[38;5;241m.\u001b[39mtext, \u001b[38;5;241m*\u001b[39m\u001b[38;5;241m*\u001b[39mkwargs)\n\u001b[1;32m    972\u001b[0m \u001b[38;5;28;01mexcept\u001b[39;00m JSONDecodeError \u001b[38;5;28;01mas\u001b[39;00m e:\n\u001b[1;32m    973\u001b[0m     \u001b[38;5;66;03m# Catch JSON-related errors and raise as requests.JSONDecodeError\u001b[39;00m\n\u001b[1;32m    974\u001b[0m     \u001b[38;5;66;03m# This aliases json.JSONDecodeError and simplejson.JSONDecodeError\u001b[39;00m\n\u001b[0;32m--> 975\u001b[0m     \u001b[38;5;28;01mraise\u001b[39;00m RequestsJSONDecodeError(e\u001b[38;5;241m.\u001b[39mmsg, e\u001b[38;5;241m.\u001b[39mdoc, e\u001b[38;5;241m.\u001b[39mpos)\n",
      "\u001b[0;31mJSONDecodeError\u001b[0m: Expecting value: line 1 column 1 (char 0)"
     ]
    }
   ],
   "source": [
    "update_auth_entry(1)"
   ]
  },
  {
   "cell_type": "code",
   "execution_count": 39,
   "id": "39956ed0",
   "metadata": {},
   "outputs": [],
   "source": [
    "def delete_auth_entry(auth_id):\n",
    "    # Delete a specific auth entry\n",
    "    response = requests.delete(f\"{AUTH_BASE_URL}/{auth_id}\")\n",
    "    print(f\"Delete Auth Entry {auth_id} Response Status Code:\", response.status_code)\n"
   ]
  },
  {
   "cell_type": "code",
   "execution_count": 40,
   "id": "fc23c306",
   "metadata": {},
   "outputs": [
    {
     "name": "stdout",
     "output_type": "stream",
     "text": [
      "Delete Auth Entry 1 Response Status Code: 404\n"
     ]
    }
   ],
   "source": [
    "delete_auth_entry(1)"
   ]
  },
  {
   "cell_type": "code",
   "execution_count": null,
   "id": "44b5b993",
   "metadata": {},
   "outputs": [],
   "source": []
  }
 ],
 "metadata": {
  "kernelspec": {
   "display_name": "Python 3 (ipykernel)",
   "language": "python",
   "name": "python3"
  },
  "language_info": {
   "codemirror_mode": {
    "name": "ipython",
    "version": 3
   },
   "file_extension": ".py",
   "mimetype": "text/x-python",
   "name": "python",
   "nbconvert_exporter": "python",
   "pygments_lexer": "ipython3",
   "version": "3.10.12"
  }
 },
 "nbformat": 4,
 "nbformat_minor": 5
}
