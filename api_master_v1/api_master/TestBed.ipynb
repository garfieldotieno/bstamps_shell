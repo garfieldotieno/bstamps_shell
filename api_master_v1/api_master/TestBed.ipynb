{
 "cells": [
  {
   "cell_type": "code",
   "execution_count": 1,
   "id": "bc145aec-44a1-49d7-885b-7b42d6011ee9",
   "metadata": {
    "tags": []
   },
   "outputs": [],
   "source": [
    "from models_base import create_all_tables, Item, Delivery, Invoice, Payment, PaymentTransaction, SessionLocal"
   ]
  },
  {
   "cell_type": "code",
   "execution_count": 2,
   "id": "caabedcc-c517-4981-afb4-014ff618e11f",
   "metadata": {
    "tags": []
   },
   "outputs": [],
   "source": [
    "session = SessionLocal()"
   ]
  },
  {
   "cell_type": "code",
   "execution_count": 3,
   "id": "87d24874-7e32-45ff-9e1d-3205119898d7",
   "metadata": {
    "tags": []
   },
   "outputs": [],
   "source": [
    "create_all_tables()"
   ]
  },
  {
   "cell_type": "code",
   "execution_count": 4,
   "id": "c070ca6c-9503-4cf4-9d95-0b733ed857d2",
   "metadata": {
    "tags": []
   },
   "outputs": [],
   "source": [
    "import time"
   ]
  },
  {
   "cell_type": "code",
   "execution_count": 5,
   "id": "90fbd1b5-f68a-4179-a882-432a9426d9cc",
   "metadata": {
    "tags": []
   },
   "outputs": [
    {
     "data": {
      "text/plain": [
       "1734542967.2422335"
      ]
     },
     "execution_count": 5,
     "metadata": {},
     "output_type": "execute_result"
    }
   ],
   "source": [
    "time.time()"
   ]
  },
  {
   "cell_type": "code",
   "execution_count": null,
   "id": "97e8b786-85ff-4945-82c4-44d900fc82b0",
   "metadata": {},
   "outputs": [],
   "source": []
  },
  {
   "cell_type": "code",
   "execution_count": 6,
   "id": "4f025da0-3827-4bd9-9cce-fd5b9b53b594",
   "metadata": {
    "tags": []
   },
   "outputs": [
    {
     "name": "stdout",
     "output_type": "stream",
     "text": [
      "Added Item: id : 4, name : Premium Coffee\n"
     ]
    }
   ],
   "source": [
    "# Create an instance of Item with attributes\n",
    "item = Item(\n",
    "    name=\"Premium Coffee\",\n",
    "    description=\"A rich blend of roasted coffee beans.\",\n",
    "    price=15.99,\n",
    "    prompt_live_media=True,\n",
    "    public=True,\n",
    "    item_type=\"Beverage\",\n",
    "    item_media_url=\"http://example.com/media/coffee.png\",\n",
    "    item_media_order_plate_url=\"http://example.com/media/order_plate.png\",\n",
    "    item_media_receipt_plate_url=\"http://example.com/media/receipt_plate.png\",\n",
    "    item_media_instacard_big_plate_url=\"http://example.com/media/instacard_big.png\",\n",
    "    item_media_instacard_small_plate_url=\"http://example.com/media/instacard_small.png\"\n",
    ")\n",
    "\n",
    "# Add to the session and commit to the database\n",
    "session.add(item)\n",
    "session.commit()\n",
    "\n",
    "# Print the added item\n",
    "print(f\"Added Item: {item}\")"
   ]
  },
  {
   "cell_type": "code",
   "execution_count": 7,
   "id": "2b22569b-63fd-484a-8265-e84cfb23826c",
   "metadata": {
    "tags": []
   },
   "outputs": [
    {
     "name": "stdout",
     "output_type": "stream",
     "text": [
      "Added Delivery: id:1, type:Express\n"
     ]
    }
   ],
   "source": [
    "# Create an instance of Delivery with attributes\n",
    "delivery = Delivery(\n",
    "    item_uid=\"unique_item_uid_1\",  # Assume this UID is linked to an existing item\n",
    "    item_amount=15.99,\n",
    "    delivery_type_amount=5.00,\n",
    "    delivery_total_amount=20.99,\n",
    "    delivery_type=\"Express\",\n",
    "    delivery_date=time.time(),  # Example date in YYYY-MM-DD format, plus time factored\n",
    "    delivery_time=time.time(),    # Example time in HH:MM:SS format\n",
    "    delivery_description=\"Fast delivery to downtown area.\",\n",
    "    delivery_location_uid=\"location_uid_123\",\n",
    "    vendor_uid=\"vendor_uid_456\",\n",
    "    customer_uid=\"customer_uid_789\"\n",
    ")\n",
    "\n",
    "# Add to the session and commit to the database\n",
    "session.add(delivery)\n",
    "session.commit()\n",
    "\n",
    "# Print the added delivery\n",
    "print(f\"Added Delivery: {delivery}\")\n"
   ]
  },
  {
   "cell_type": "code",
   "execution_count": 8,
   "id": "82db3a11-77c6-4e3c-99c1-c51aac95487d",
   "metadata": {
    "tags": []
   },
   "outputs": [
    {
     "name": "stdout",
     "output_type": "stream",
     "text": [
      "Added Invoice: id : 1\n"
     ]
    }
   ],
   "source": [
    "# Create an instance of Invoice with attributes\n",
    "invoice = Invoice(\n",
    "    delivery_uid=\"unique_delivery_uid_1\",  # Assume this UID is linked to an existing delivery\n",
    "    delivery_total_amount=20.99,\n",
    "    delivery_complete=False,\n",
    "    payment_status=False,\n",
    "    payment_uid=\"payment_uid_123\"\n",
    ")\n",
    "\n",
    "# Add to the session and commit to the database\n",
    "session.add(invoice)\n",
    "session.commit()\n",
    "\n",
    "# Print the added invoice\n",
    "print(f\"Added Invoice: {invoice}\")\n"
   ]
  },
  {
   "cell_type": "code",
   "execution_count": 9,
   "id": "c01ba48b-cc88-4c36-887a-df2d99118844",
   "metadata": {
    "tags": []
   },
   "outputs": [
    {
     "name": "stdout",
     "output_type": "stream",
     "text": [
      "Added Payment: id : 1\n"
     ]
    }
   ],
   "source": [
    "# Create an instance of Payment with attributes\n",
    "payment = Payment(\n",
    "    invoice_uid=\"unique_invoice_uid_1\",  # Assume this UID is linked to an existing invoice\n",
    "    payment_method=\"Credit Card\",\n",
    "    payment_external_ref=\"txn_00123456\",\n",
    "    payment_total_amount=20.99,\n",
    "    payment_reconciled_status=False\n",
    ")\n",
    "\n",
    "# Add to the session and commit to the database\n",
    "session.add(payment)\n",
    "session.commit()\n",
    "\n",
    "# Print the added payment\n",
    "print(f\"Added Payment: {payment}\")\n"
   ]
  },
  {
   "cell_type": "code",
   "execution_count": 10,
   "id": "59bbac66-9b29-4835-b8c9-f6d7df4938f0",
   "metadata": {
    "tags": []
   },
   "outputs": [
    {
     "name": "stdout",
     "output_type": "stream",
     "text": [
      "Added PaymentTransaction: PaymentTransaction(transaction_id=txn_00123456, amount_received=20.99, name=Premium Coffee Payment)\n"
     ]
    }
   ],
   "source": [
    "# Create an instance of PaymentTransaction with attributes\n",
    "payment_transaction = PaymentTransaction(\n",
    "    transaction_id=\"txn_00123456\",  # Unique transaction ID\n",
    "    invoice_id=\"unique_invoice_uid_1\",  # Assume this UID is linked to an existing invoice\n",
    "    client_service_number=\"CSN123456\",  # Client service number\n",
    "    amount_received=20.99,\n",
    "    name=\"Premium Coffee Payment\",\n",
    "    date=time.time()  # Current timestamp for the transaction date\n",
    ")\n",
    "\n",
    "# Add to the session and commit to the database\n",
    "session.add(payment_transaction)\n",
    "session.commit()\n",
    "\n",
    "# Print the added payment transaction\n",
    "print(f\"Added PaymentTransaction: {payment_transaction}\")\n"
   ]
  },
  {
   "cell_type": "code",
   "execution_count": null,
   "id": "277da19e-62f3-4643-99ab-a13ab3174abe",
   "metadata": {},
   "outputs": [],
   "source": []
  },
  {
   "cell_type": "code",
   "execution_count": null,
   "id": "d6f4725a-86c3-4f69-a938-f50a7ea98dd8",
   "metadata": {},
   "outputs": [],
   "source": []
  }
 ],
 "metadata": {
  "kernelspec": {
   "display_name": "Python 3 (ipykernel)",
   "language": "python",
   "name": "python3"
  },
  "language_info": {
   "codemirror_mode": {
    "name": "ipython",
    "version": 3
   },
   "file_extension": ".py",
   "mimetype": "text/x-python",
   "name": "python",
   "nbconvert_exporter": "python",
   "pygments_lexer": "ipython3",
   "version": "3.10.12"
  }
 },
 "nbformat": 4,
 "nbformat_minor": 5
}
