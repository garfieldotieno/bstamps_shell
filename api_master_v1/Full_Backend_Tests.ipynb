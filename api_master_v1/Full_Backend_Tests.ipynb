{
 "cells": [
  {
   "cell_type": "code",
   "execution_count": 1,
   "id": "f1ba35c5-bea0-4e9a-a17f-640e5139233b",
   "metadata": {
    "tags": []
   },
   "outputs": [
    {
     "name": "stdout",
     "output_type": "stream",
     "text": [
      "2023-11-11 17:49:49,533 INFO sqlalchemy.engine.Engine SELECT DATABASE()\n",
      "2023-11-11 17:49:49,534 INFO sqlalchemy.engine.Engine [raw sql] ()\n",
      "2023-11-11 17:49:49,535 INFO sqlalchemy.engine.Engine SELECT @@sql_mode\n",
      "2023-11-11 17:49:49,536 INFO sqlalchemy.engine.Engine [raw sql] ()\n",
      "2023-11-11 17:49:49,537 INFO sqlalchemy.engine.Engine SELECT @@lower_case_table_names\n",
      "2023-11-11 17:49:49,537 INFO sqlalchemy.engine.Engine [raw sql] ()\n"
     ]
    }
   ],
   "source": [
    "from api_master.models import engine, metadata, user_session_profile_table"
   ]
  },
  {
   "cell_type": "code",
   "execution_count": 2,
   "id": "73706ba0-2a50-4bc7-ab0c-13ed0330641b",
   "metadata": {
    "tags": []
   },
   "outputs": [],
   "source": [
    "from api_master import datetime, timedelta, secrets, string, token_urlsafe, time"
   ]
  },
  {
   "cell_type": "code",
   "execution_count": 3,
   "id": "9e805c74-fc10-4abe-9825-534126d71658",
   "metadata": {
    "tags": []
   },
   "outputs": [],
   "source": [
    "import unittest"
   ]
  },
  {
   "cell_type": "code",
   "execution_count": 4,
   "id": "ad8c8667-121d-4ee5-b04b-d3e4c8792965",
   "metadata": {},
   "outputs": [],
   "source": [
    "import time, uuid"
   ]
  },
  {
   "cell_type": "code",
   "execution_count": 5,
   "id": "747abea4-32c3-4e11-b3bd-7fd8b43d8847",
   "metadata": {
    "tags": []
   },
   "outputs": [
    {
     "name": "stdout",
     "output_type": "stream",
     "text": [
      "current_epoch => 1699714194.468205\n",
      "current time in string => Sat Nov 11 17:49:54 2023\n",
      "next epoch time is : Sat Nov 11 18:19:54 2023\n"
     ]
    }
   ],
   "source": [
    "# time management for the models approach [serialization, deserialization ]\n",
    "\n",
    "current_epoch = time.time()\n",
    "print(f\"current_epoch => {current_epoch}\")\n",
    "\n",
    "print(f\"current time in string => {time.ctime(current_epoch)}\")\n",
    "\n",
    "next_30mins = 60*30\n",
    "\n",
    "next_epoch = next_30mins + current_epoch\n",
    "\n",
    "print(f\"next epoch time is : {time.ctime(next_epoch)}\")"
   ]
  },
  {
   "cell_type": "code",
   "execution_count": 6,
   "id": "a3c764a9-bddd-4a5b-8a6e-a31d274acd94",
   "metadata": {},
   "outputs": [],
   "source": [
    "# Test sequence [session, card, item, ]"
   ]
  },
  {
   "cell_type": "code",
   "execution_count": 7,
   "id": "11c9dcb4-8c4c-47a6-88e2-8a4b88d8e0f8",
   "metadata": {
    "tags": []
   },
   "outputs": [],
   "source": [
    "conn = engine.connect()"
   ]
  },
  {
   "cell_type": "code",
   "execution_count": null,
   "id": "8447cb52-112d-44aa-97d0-ff13deece090",
   "metadata": {},
   "outputs": [],
   "source": []
  },
  {
   "cell_type": "code",
   "execution_count": 8,
   "id": "a0d06cfd-1946-49b7-baaa-cd87d5ce0487",
   "metadata": {
    "tags": []
   },
   "outputs": [],
   "source": [
    "# session testing"
   ]
  },
  {
   "cell_type": "code",
   "execution_count": 9,
   "id": "7cd66090-3ac9-48f2-9163-d616a3021335",
   "metadata": {
    "tags": []
   },
   "outputs": [],
   "source": []
  },
  {
   "cell_type": "code",
   "execution_count": 16,
   "id": "06e3ea04-829d-4ede-8eec-1e5edd5d41dc",
   "metadata": {
    "tags": []
   },
   "outputs": [
    {
     "data": {
      "text/plain": [
       "{'uid': '696edc07-0857-4dbc-aa31-1dc6dd84eaa1',\n",
       " 'session_type': 'Regular',\n",
       " 'session_duration': 1699717803.0513277,\n",
       " 'is_authorized': False,\n",
       " 'bot_type': 'Web_Bot',\n",
       " 'contact': 0,\n",
       " 'activity_json': '{\"contact\": 0, \"slot_filling\": False, \"acceptable_intent_input\": [\"Check-in\", \"Refresh\", \"Call\", \"Mail\", \"About\"], \"current_input\": None, \"current_intent\": None, \"updated_card_list\": []}',\n",
       " 'response_json': '{\"data\": {\"current_resource\": \"Item\"}, \"session_swap\": False, \"session_swap_data\": {}, \"current_bot_buttons\": [({\"label\": \"Check-in\", \"icon\": \"fa fa-qrcode\"}, {\"label\": \"Refresh\", \"icon\": \"fa fa-refresh\"}), ({\"label\": \"Call\", \"icon\": \"fa fa-phone\"}, {\"label\": \"Mail\", \"icon\": \"fa fa-envelope\"}, {\"label\": \"About\", \"icon\": \"fa fa-info-circle\"})], \"current_bot_screen_media\": [\"static/bot_media/wake_up_big.gif\", \"static/bot_media/wake_up_small.gif\"], \"current_bot_header\": []}'}"
      ]
     },
     "execution_count": 16,
     "metadata": {},
     "output_type": "execute_result"
    }
   ],
   "source": [
    "session_data"
   ]
  },
  {
   "cell_type": "code",
   "execution_count": 17,
   "id": "2d7c202c-1438-4896-bc91-4a6f5e6f2597",
   "metadata": {
    "tags": []
   },
   "outputs": [],
   "source": [
    "# fetch all"
   ]
  },
  {
   "cell_type": "code",
   "execution_count": 18,
   "id": "5fe9642d-87e9-48ae-9d0b-7af36d3339d2",
   "metadata": {
    "tags": []
   },
   "outputs": [],
   "source": [
    "sel_all = user_session_profile_table.select()"
   ]
  },
  {
   "cell_type": "code",
   "execution_count": 19,
   "id": "afbd3282-d7a9-4020-aca4-83edca430c75",
   "metadata": {
    "tags": []
   },
   "outputs": [
    {
     "name": "stdout",
     "output_type": "stream",
     "text": [
      "2023-11-11 17:51:23,167 INFO sqlalchemy.engine.Engine SELECT user_session_profile.id, user_session_profile.uid, user_session_profile.session_type, user_session_profile.session_duration, user_session_profile.is_authorized, user_session_profile.contact, user_session_profile.bot_type, user_session_profile.activity_json, user_session_profile.response_json, user_session_profile.create_at, user_session_profile.updated_at \n",
      "FROM user_session_profile\n",
      "2023-11-11 17:51:23,170 INFO sqlalchemy.engine.Engine [cached since 71.27s ago] ()\n"
     ]
    }
   ],
   "source": [
    "sel_all_res = conn.execute(sel_all)"
   ]
  },
  {
   "cell_type": "code",
   "execution_count": 20,
   "id": "84460e2e-2000-4d09-93fc-0510303755cd",
   "metadata": {
    "tags": []
   },
   "outputs": [],
   "source": [
    "res = sel_all_res.fetchall()"
   ]
  },
  {
   "cell_type": "code",
   "execution_count": 21,
   "id": "33287c40-2b73-409b-900a-3b05da201465",
   "metadata": {
    "tags": []
   },
   "outputs": [
    {
     "data": {
      "text/plain": [
       "[]"
      ]
     },
     "execution_count": 21,
     "metadata": {},
     "output_type": "execute_result"
    }
   ],
   "source": [
    "res"
   ]
  },
  {
   "cell_type": "code",
   "execution_count": 22,
   "id": "b163733e-e0ff-44d5-81a9-7858efe0d36e",
   "metadata": {
    "tags": []
   },
   "outputs": [],
   "source": [
    "# insert"
   ]
  },
  {
   "cell_type": "code",
   "execution_count": 23,
   "id": "38f8e01c-3537-43c0-8a9e-6ca10bd175cb",
   "metadata": {
    "tags": []
   },
   "outputs": [],
   "source": [
    "ins_one_stmt = user_session_profile_table.insert().values(**session_data)"
   ]
  },
  {
   "cell_type": "code",
   "execution_count": 24,
   "id": "4e4c7d16-59b0-49d9-80d4-7fa7b3b74288",
   "metadata": {
    "tags": []
   },
   "outputs": [
    {
     "name": "stdout",
     "output_type": "stream",
     "text": [
      "2023-11-11 17:51:35,624 INFO sqlalchemy.engine.Engine INSERT INTO user_session_profile (uid, session_type, session_duration, is_authorized, contact, bot_type, activity_json, response_json, create_at, updated_at) VALUES (%s, %s, %s, %s, %s, %s, %s, %s, %s, %s)\n",
      "2023-11-11 17:51:35,626 INFO sqlalchemy.engine.Engine [generated in 0.00183s] ('696edc07-0857-4dbc-aa31-1dc6dd84eaa1', 'Regular', 1699717803.0513277, 0, 0, 'Web_Bot', '\"{\\\\\"contact\\\\\": 0, \\\\\"slot_filling\\\\\": False, \\\\\"acceptable_intent_input\\\\\": [\\\\\"Check-in\\\\\", \\\\\"Refresh\\\\\", \\\\\"Call\\\\\", \\\\\"Mail\\\\\", \\\\\"About\\\\\"], \\\\\"current_input\\\\\": None, \\\\\"current_intent\\\\\": None, \\\\\"updated_card_list\\\\\": []}\"', '\"{\\\\\"data\\\\\": {\\\\\"current_resource\\\\\": \\\\\"Item\\\\\"}, \\\\\"session_swap\\\\\": False, \\\\\"session_swap_data\\\\\": {}, \\\\\"current_bot_buttons\\\\\": [({\\\\\"label\\\\\" ... (299 characters truncated) ... ], \\\\\"current_bot_screen_media\\\\\": [\\\\\"static/bot_media/wake_up_big.gif\\\\\", \\\\\"static/bot_media/wake_up_small.gif\\\\\"], \\\\\"current_bot_header\\\\\": []}\"', datetime.datetime(2023, 11, 11, 14, 51, 35, 624656), datetime.datetime(2023, 11, 11, 14, 51, 35, 624661))\n"
     ]
    }
   ],
   "source": [
    "insert_one_res = conn.execute(ins_one_stmt)"
   ]
  },
  {
   "cell_type": "code",
   "execution_count": 25,
   "id": "a8bd8915-e052-4bbe-b927-e1d1b87fb90e",
   "metadata": {
    "tags": []
   },
   "outputs": [
    {
     "data": {
      "text/plain": [
       "sqlalchemy.engine.cursor.CursorResult"
      ]
     },
     "execution_count": 25,
     "metadata": {},
     "output_type": "execute_result"
    }
   ],
   "source": [
    "type(insert_one_res)"
   ]
  },
  {
   "cell_type": "code",
   "execution_count": 26,
   "id": "12b2e7fe-d5a0-4388-9660-b04c6b2329f6",
   "metadata": {
    "tags": []
   },
   "outputs": [],
   "source": [
    "# updsate session_type column;"
   ]
  },
  {
   "cell_type": "code",
   "execution_count": 27,
   "id": "f11b467a-028a-42c4-8ae5-a7dd0af762c2",
   "metadata": {
    "tags": []
   },
   "outputs": [],
   "source": [
    "sel_stmt2 = user_session_profile_table.select()"
   ]
  },
  {
   "cell_type": "code",
   "execution_count": 28,
   "id": "27ead7d4-5bd4-4b66-9db8-d56b2f3d28fd",
   "metadata": {
    "tags": []
   },
   "outputs": [
    {
     "name": "stdout",
     "output_type": "stream",
     "text": [
      "2023-11-11 17:51:50,336 INFO sqlalchemy.engine.Engine SELECT user_session_profile.id, user_session_profile.uid, user_session_profile.session_type, user_session_profile.session_duration, user_session_profile.is_authorized, user_session_profile.contact, user_session_profile.bot_type, user_session_profile.activity_json, user_session_profile.response_json, user_session_profile.create_at, user_session_profile.updated_at \n",
      "FROM user_session_profile\n",
      "2023-11-11 17:51:50,337 INFO sqlalchemy.engine.Engine [cached since 98.44s ago] ()\n"
     ]
    }
   ],
   "source": [
    "res3 = conn.execute(sel_stmt2).fetchall()"
   ]
  },
  {
   "cell_type": "code",
   "execution_count": 29,
   "id": "0dc5c9cd-6ece-421a-9233-f70c3aaca3bd",
   "metadata": {
    "tags": []
   },
   "outputs": [
    {
     "data": {
      "text/plain": [
       "[(1, '696edc07-0857-4dbc-aa31-1dc6dd84eaa1', 'Regular', 1699720000.0, False, 0, 'Web_Bot', '{\"contact\": 0, \"slot_filling\": False, \"acceptable_intent_input\": [\"Check-in\", \"Refresh\", \"Call\", \"Mail\", \"About\"], \"current_input\": None, \"current_intent\": None, \"updated_card_list\": []}', '{\"data\": {\"current_resource\": \"Item\"}, \"session_swap\": False, \"session_swap_data\": {}, \"current_bot_buttons\": [({\"label\": \"Check-in\", \"icon\": \"fa fa- ... (177 characters truncated) ... fa-info-circle\"})], \"current_bot_screen_media\": [\"static/bot_media/wake_up_big.gif\", \"static/bot_media/wake_up_small.gif\"], \"current_bot_header\": []}', datetime.datetime(2023, 11, 11, 14, 51, 36), datetime.datetime(2023, 11, 11, 14, 51, 36))]"
      ]
     },
     "execution_count": 29,
     "metadata": {},
     "output_type": "execute_result"
    }
   ],
   "source": [
    "res3"
   ]
  },
  {
   "cell_type": "code",
   "execution_count": 30,
   "id": "35efb9ba-45d1-4abb-8cf7-f83bf3e03a5a",
   "metadata": {
    "tags": []
   },
   "outputs": [
    {
     "data": {
      "text/plain": [
       "list"
      ]
     },
     "execution_count": 30,
     "metadata": {},
     "output_type": "execute_result"
    }
   ],
   "source": [
    "type(res3)"
   ]
  },
  {
   "cell_type": "code",
   "execution_count": 31,
   "id": "5c1b46e4-0e93-42ff-aee2-a8ae2855bf56",
   "metadata": {
    "tags": []
   },
   "outputs": [
    {
     "data": {
      "text/plain": [
       "'Regular'"
      ]
     },
     "execution_count": 31,
     "metadata": {},
     "output_type": "execute_result"
    }
   ],
   "source": [
    "res3[0].session_type"
   ]
  },
  {
   "cell_type": "code",
   "execution_count": 32,
   "id": "289934e0-77f4-44c0-a607-810073a75956",
   "metadata": {
    "tags": []
   },
   "outputs": [
    {
     "data": {
      "text/plain": [
       "'{\"contact\": 0, \"slot_filling\": False, \"acceptable_intent_input\": [\"Check-in\", \"Refresh\", \"Call\", \"Mail\", \"About\"], \"current_input\": None, \"current_intent\": None, \"updated_card_list\": []}'"
      ]
     },
     "execution_count": 32,
     "metadata": {},
     "output_type": "execute_result"
    }
   ],
   "source": [
    "res3[0].activity_json"
   ]
  },
  {
   "cell_type": "code",
   "execution_count": 44,
   "id": "fb395d00-3be5-4655-bd21-87d38e07c983",
   "metadata": {
    "tags": []
   },
   "outputs": [],
   "source": [
    "u_data = {'session_type':'Admin'}"
   ]
  },
  {
   "cell_type": "code",
   "execution_count": 45,
   "id": "c1aa2817-8543-4986-a810-b5cad0b63792",
   "metadata": {
    "tags": []
   },
   "outputs": [],
   "source": [
    "update_stmt = user_session_profile_table.update().where(user_session_profile_table.c.id==3).values(**u_data)"
   ]
  },
  {
   "cell_type": "code",
   "execution_count": 46,
   "id": "eb1e5c41-6150-49b3-b877-b614739aaa51",
   "metadata": {
    "tags": []
   },
   "outputs": [
    {
     "data": {
      "text/plain": [
       "'UPDATE user_session_profile SET session_type=:session_type, updated_at=:updated_at WHERE user_session_profile.id = :id_1'"
      ]
     },
     "execution_count": 46,
     "metadata": {},
     "output_type": "execute_result"
    }
   ],
   "source": [
    "str(update_stmt)"
   ]
  },
  {
   "cell_type": "code",
   "execution_count": 47,
   "id": "14f10abb-52a9-4604-8947-73d7f57592bd",
   "metadata": {
    "tags": []
   },
   "outputs": [
    {
     "name": "stdout",
     "output_type": "stream",
     "text": [
      "2023-11-11 05:31:12,585 INFO sqlalchemy.engine.Engine UPDATE user_session_profile SET session_type=%s, updated_at=%s WHERE user_session_profile.id = %s\n",
      "2023-11-11 05:31:12,590 INFO sqlalchemy.engine.Engine [generated in 0.00468s] ('Admin', datetime.datetime(2023, 11, 11, 2, 31, 12, 585877), 3)\n"
     ]
    },
    {
     "data": {
      "text/plain": [
       "<sqlalchemy.engine.cursor.CursorResult at 0x7f99afe9acf0>"
      ]
     },
     "execution_count": 47,
     "metadata": {},
     "output_type": "execute_result"
    }
   ],
   "source": [
    "conn.execute(update_stmt)"
   ]
  },
  {
   "cell_type": "code",
   "execution_count": 58,
   "id": "0e87e8ec-a26f-4af6-805f-50e533106986",
   "metadata": {
    "tags": []
   },
   "outputs": [],
   "source": [
    "u_data2 = {'activity_json': {\"current_intent\":\"Landing_page\"}}"
   ]
  },
  {
   "cell_type": "code",
   "execution_count": 59,
   "id": "d2dbb48d-e1be-4014-93f5-ec64749f840e",
   "metadata": {
    "tags": []
   },
   "outputs": [],
   "source": [
    "update_stmt2 = user_session_profile_table.update().where(user_session_profile_table.c.id==3).values(**u_data2)"
   ]
  },
  {
   "cell_type": "code",
   "execution_count": 60,
   "id": "04e34d54-a8c6-4311-a76e-6820209b3d14",
   "metadata": {
    "tags": []
   },
   "outputs": [
    {
     "data": {
      "text/plain": [
       "'UPDATE user_session_profile SET activity_json=:activity_json, updated_at=:updated_at WHERE user_session_profile.id = :id_1'"
      ]
     },
     "execution_count": 60,
     "metadata": {},
     "output_type": "execute_result"
    }
   ],
   "source": [
    "str(update_stmt2)"
   ]
  },
  {
   "cell_type": "code",
   "execution_count": 62,
   "id": "54b5c2eb-09ff-43c2-b0bb-c087c9a36a6e",
   "metadata": {
    "tags": []
   },
   "outputs": [
    {
     "name": "stdout",
     "output_type": "stream",
     "text": [
      "2023-11-11 05:35:03,707 INFO sqlalchemy.engine.Engine UPDATE user_session_profile SET activity_json=%s, updated_at=%s WHERE user_session_profile.id = %s\n",
      "2023-11-11 05:35:03,712 INFO sqlalchemy.engine.Engine [generated in 0.00540s] ('{\"current_intent\": \"Landing_page\"}', datetime.datetime(2023, 11, 11, 2, 35, 3, 706927), 3)\n"
     ]
    },
    {
     "data": {
      "text/plain": [
       "<sqlalchemy.engine.cursor.CursorResult at 0x7f99afe9a190>"
      ]
     },
     "execution_count": 62,
     "metadata": {},
     "output_type": "execute_result"
    }
   ],
   "source": [
    "conn.execute(update_stmt2)"
   ]
  },
  {
   "cell_type": "code",
   "execution_count": null,
   "id": "255ea2c8-69fe-4137-a64f-d31859db0048",
   "metadata": {},
   "outputs": [],
   "source": []
  },
  {
   "cell_type": "code",
   "execution_count": 1,
   "id": "102d5499-85a5-4c3d-b359-a798e6a5048b",
   "metadata": {
    "tags": []
   },
   "outputs": [],
   "source": [
    "items_b2c = [\n",
    "      {\n",
    "        \"name\": \"Tax\",\n",
    "        \"item_type\": \"Callback\",\n",
    "        \"price\": 350.00,\n",
    "        \"description\": \"Subscribe Today for a callback card and take charge of your Tax.\",\n",
    "        \"title\": \"Callback Card\",\n",
    "        \n",
    "        \"item_media_url\": \"static/landing_images/callback_bg.jpg\",\n",
    "        \"item_media_order_plate_url\": \"static/media_store/plate_one_half_reverse.jpg\",\n",
    "        \"item_media_receipt_plate_url\": \"static/media_store/plate_one_full.jpg\",\n",
    "        \"item_media_instacard_big_plate_url\": \"static/media_store/plate_one_full_centerd.jpg\",\n",
    "        \"item_media_instacard_small_plate_url\": \"static/media_store/plate_one_half.jpg\",\n",
    "        \"public\": True\n",
    "      },\n",
    "      {\n",
    "        \"name\": \"Search\",\n",
    "        \"item_type\": \"Location\",\n",
    "        \"price\": 100,\n",
    "        \"description\": \"Order a location card today and be able to search for items and services within your area \",\n",
    "        \"title\": \"Location Card\",\n",
    "        \n",
    "        \"item_media_url\": \"static/landing_images/location.jpg\",\n",
    "        \"item_media_order_plate_url\": \"static/media_store/plate_two_half_reverse.jpg\",\n",
    "        \"item_media_receipt_plate_url\": \"static/media_store/plate_two_full.jpg\",\n",
    "        \"item_media_instacard_big_plate_url\": \"static/media_store/plate_two_full_centerd.jpg\",\n",
    "        \"item_media_instacard_small_plate_url\": \"static/media_store/plate_two_half.jpg\",\n",
    "        \"public\": True\n",
    "      },\n",
    "      {\n",
    "        \"name\": \"Travel\",\n",
    "        \"item_type\": \"Travel\",\n",
    "        \"price\": 350.00,\n",
    "        \"description\": \"Subscribe Now and get latest information on prices, routes and booking travel in a simple and secure way.\",\n",
    "        \"title\": \"Travel Card\",\n",
    "        \n",
    "        \"item_media_url\": \"static/landing_images/travel_bg_four.jpg\",\n",
    "        \"item_media_order_plate_url\": \"static/media_store/plate_three_half_reverse.jpg\",\n",
    "        \"item_media_receipt_plate_url\": \"static/media_store/plate_three_full.jpg\",\n",
    "        \"item_media_instacard_big_plate_url\": \"static/media_store/plate_three_full_centerd.jpg\",\n",
    "        \"item_media_instacard_small_plate_url\": \"static/media_store/plate_three_half.jpg\",\n",
    "        \"public\": False\n",
    "      },\n",
    "      {\n",
    "        \"name\": \"Ent\",\n",
    "        \"item_type\": \"Entertainment\",\n",
    "        \"price\": 350.00,\n",
    "        \"description\": \"Subscribe Now and get latest information on prices, events, entertainment and booking tickets in a simple and secure way.\",\n",
    "        \"title\": \"Entertainment Card\",\n",
    "        \n",
    "        \"item_media_url\": \"static/landing_images/entertainment_bg.jpg\",\n",
    "        \"item_media_order_plate_url\": \"static/media_store/plate_four_half_reverse.jpg\",\n",
    "        \"item_media_receipt_plate_url\": \"static/media_store/plate_four_full.jpg\",\n",
    "        \"item_media_instacard_big_plate_url\": \"static/media_store/plate_four_full_centerd.jpg\",\n",
    "        \"item_media_instacard_small_plate_url\": \"static/media_store/plate_four_half.jpg\",\n",
    "        \"public\": False\n",
    "      }, \n",
    "      {\n",
    "        \"name\": \"Box\",\n",
    "        \"item_type\": \"Subscription\",\n",
    "        \"price\": 350,\n",
    "        \"description\":\"Subscribe now for our box services and get regular delivery on items you like buying online\",\n",
    "        \"title\": \"Box Card\",\n",
    "\n",
    "        \"item_media_url\": \"static/landing_images/bud1_landing_bg.jpg\",\n",
    "        \"item_media_order_plate_url\": \"static/media_store/plate_27_half_reverse.jpg\",\n",
    "        \"item_media_receipt_plate_url\": \"static/media_store/plate_27_full.jpg\",\n",
    "        \"item_media_instacard_big_plate_url\": \"static/media_store/plate_27_full_centerd.jpg\",\n",
    "        \"item_media_instacard_small_plate_url\": \"static/media_store/plate_27_half.jpg\",\n",
    "        \"public\": False\n",
    "      }\n",
    "    ]\n",
    "\n",
    "\n",
    "items_b2b = [\n",
    "      {\n",
    "        \"name\": \"App\",\n",
    "        \"item_type\": \"BusinessWeb\",\n",
    "        \"price\": 15000.00,\n",
    "        \"description\": \"Order a web card today for your business and get access to a personalized experience for web development \",\n",
    "        \"title\": \"Web Card\",\n",
    "        \n",
    "        \"item_media_url\": \"static/landing_images/business_web_card.jpg\",\n",
    "        \"item_media_order_plate_url\": \"static/media_store/plate_five_half_reverse.jpg\",\n",
    "        \"item_media_receipt_plate_url\": \"static/media_store/plate_five_full.jpg\",\n",
    "        \"item_media_instacard_big_plate_url\": \"static/media_store/plate_five_full_centerd.jpg\",\n",
    "        \"item_media_instacard_small_plate_url\": \"static/media_store/plate_five_half.jpg\",\n",
    "        \"public\": False\n",
    "      },\n",
    "      {\n",
    "        \"name\": \"Loca\",\n",
    "        \"item_type\": \"BusinessLocation\",\n",
    "        \"price\": 350,\n",
    "        \"description\": \"Order a location card today and be able to sell items and services within your area \",\n",
    "        \"title\": \"Location Card\",\n",
    "        \n",
    "        \"item_media_url\": \"static/landing_images/business_location_card.jpg\",\n",
    "        \"item_media_order_plate_url\": \"static/media_store/plate_six_half_reverse.jpg\",\n",
    "        \"item_media_receipt_plate_url\": \"static/media_store/plate_six_full.jpg\",\n",
    "        \"item_media_instacard_big_plate_url\": \"static/media_store/plate_six_full_centerd.jpg\",\n",
    "        \"item_media_instacard_small_plate_url\": \"static/media_store/plate_six_half.jpg\",\n",
    "        \"public\": True\n",
    "      },\n",
    "      {\n",
    "        \"name\": \"Advert\",\n",
    "        \"item_type\": \"BusinessCopy\",\n",
    "        \"price\": 350,\n",
    "        \"description\": \"Order a copywriting card now and take charge of your copy for your business or any other venture. We offer a variety of services for websites upto social media pages. \",\n",
    "        \"title\": \"Copy Card\",\n",
    "        \n",
    "        \"item_media_url\": \"static/landing_images/business_copy_card.jpg\",\n",
    "        \"item_media_order_plate_url\": \"static/media_store/plate_seven_half_reverse.jpg\",\n",
    "        \"item_media_receipt_plate_url\": \"static/media_store/plate_seven_full.jpg\",\n",
    "        \"item_media_instacard_big_plate_url\": \"static/media_store/plate_seven_full_centerd.jpg\",\n",
    "        \"item_media_instacard_small_plate_url\": \"static/media_store/plate_seven_half.jpg\",\n",
    "        \"public\": False\n",
    "      }\n",
    "    ]"
   ]
  },
  {
   "cell_type": "code",
   "execution_count": 2,
   "id": "8a4c5b6a-5e63-433f-8dd3-c3bd575ba5f0",
   "metadata": {
    "tags": []
   },
   "outputs": [
    {
     "data": {
      "text/plain": [
       "list"
      ]
     },
     "execution_count": 2,
     "metadata": {},
     "output_type": "execute_result"
    }
   ],
   "source": [
    "type(items_b2c)"
   ]
  },
  {
   "cell_type": "code",
   "execution_count": 11,
   "id": "487cb94c-9265-4122-85d9-34c1fae6e28c",
   "metadata": {
    "tags": []
   },
   "outputs": [
    {
     "name": "stdout",
     "output_type": "stream",
     "text": [
      "testing test_create_items, response: \n",
      " {'created_at': '2022-01-01T00:00:00', 'description': 'Subscribe Today for a callback card and take charge of your Tax.', 'id': 1, 'item_media_instacard_big_plate_url': 'static/media_store/plate_one_full_centerd.jpg', 'item_media_instacard_small_plate_url': 'static/media_store/plate_one_half.jpg', 'item_media_order_plate_url': 'static/media_store/plate_one_half_reverse.jpg', 'item_media_receipt_plate_url': 'static/media_store/plate_one_full.jpg', 'item_media_url': 'static/landing_images/callback_bg.jpg', 'name': 'Tax', 'price': 350.0, 'public': True, 'timestamp': 1698718055.194325, 'title': 'Callback Card', 'type': 'Callback', 'uid': '001'}\n",
      "testing test_create_items, response: \n",
      " {'created_at': '2022-01-01T00:00:00', 'description': 'Order a location card today and be able to search for items and services within your area ', 'id': 2, 'item_media_instacard_big_plate_url': 'static/media_store/plate_two_full_centerd.jpg', 'item_media_instacard_small_plate_url': 'static/media_store/plate_two_half.jpg', 'item_media_order_plate_url': 'static/media_store/plate_two_half_reverse.jpg', 'item_media_receipt_plate_url': 'static/media_store/plate_two_full.jpg', 'item_media_url': 'static/landing_images/location.jpg', 'name': 'Search', 'price': 100, 'public': True, 'timestamp': 1698718055.1994603, 'title': 'Location Card', 'type': 'Location', 'uid': '002'}\n",
      "testing test_create_items, response: \n",
      " {'created_at': '2022-01-01T00:00:00', 'description': 'Subscribe Now and get latest information on prices, routes and booking travel in a simple and secure way.', 'id': 3, 'item_media_instacard_big_plate_url': 'static/media_store/plate_three_full_centerd.jpg', 'item_media_instacard_small_plate_url': 'static/media_store/plate_three_half.jpg', 'item_media_order_plate_url': 'static/media_store/plate_three_half_reverse.jpg', 'item_media_receipt_plate_url': 'static/media_store/plate_three_full.jpg', 'item_media_url': 'static/landing_images/travel_bg_four.jpg', 'name': 'Travel', 'price': 350.0, 'public': False, 'timestamp': 1698718055.2045832, 'title': 'Travel Card', 'type': 'Travel', 'uid': '003'}\n",
      "testing test_create_items, response: \n",
      " {'created_at': '2022-01-01T00:00:00', 'description': 'Subscribe Now and get latest information on prices, events, entertainment and booking tickets in a simple and secure way.', 'id': 4, 'item_media_instacard_big_plate_url': 'static/media_store/plate_four_full_centerd.jpg', 'item_media_instacard_small_plate_url': 'static/media_store/plate_four_half.jpg', 'item_media_order_plate_url': 'static/media_store/plate_four_half_reverse.jpg', 'item_media_receipt_plate_url': 'static/media_store/plate_four_full.jpg', 'item_media_url': 'static/landing_images/entertainment_bg.jpg', 'name': 'Ent', 'price': 350.0, 'public': False, 'timestamp': 1698718055.2089145, 'title': 'Entertainment Card', 'type': 'Entertainment', 'uid': '004'}\n",
      "testing test_create_items, response: \n",
      " {'created_at': '2022-01-01T00:00:00', 'description': 'Order a web card today for your business and get access to a personalized experience for web development ', 'id': 5, 'item_media_instacard_big_plate_url': 'static/media_store/plate_five_full_centerd.jpg', 'item_media_instacard_small_plate_url': 'static/media_store/plate_five_half.jpg', 'item_media_order_plate_url': 'static/media_store/plate_five_half_reverse.jpg', 'item_media_receipt_plate_url': 'static/media_store/plate_five_full.jpg', 'item_media_url': 'static/landing_images/business_web_card.jpg', 'name': 'App', 'price': 15000.0, 'public': False, 'timestamp': 1698718055.2131672, 'title': 'Web Card', 'type': 'BusinessWeb', 'uid': '005'}\n",
      "testing test_create_items, response: \n",
      " {'created_at': '2022-01-01T00:00:00', 'description': 'Order a location card today and be able to sell items and services within your area ', 'id': 6, 'item_media_instacard_big_plate_url': 'static/media_store/plate_six_full_centerd.jpg', 'item_media_instacard_small_plate_url': 'static/media_store/plate_six_half.jpg', 'item_media_order_plate_url': 'static/media_store/plate_six_half_reverse.jpg', 'item_media_receipt_plate_url': 'static/media_store/plate_six_full.jpg', 'item_media_url': 'static/landing_images/business_location_card.jpg', 'name': 'Loca', 'price': 350, 'public': True, 'timestamp': 1698718055.218368, 'title': 'Location Card', 'type': 'BusinessLocation', 'uid': '006'}\n",
      "testing test_create_items, response: \n",
      " {'created_at': '2022-01-01T00:00:00', 'description': 'Order a copywriting card now and take charge of your copy for your business or any other venture. We offer a variety of services for websites upto social media pages. ', 'id': 7, 'item_media_instacard_big_plate_url': 'static/media_store/plate_seven_full_centerd.jpg', 'item_media_instacard_small_plate_url': 'static/media_store/plate_seven_half.jpg', 'item_media_order_plate_url': 'static/media_store/plate_seven_half_reverse.jpg', 'item_media_receipt_plate_url': 'static/media_store/plate_seven_full.jpg', 'item_media_url': 'static/landing_images/business_copy_card.jpg', 'name': 'Advert', 'price': 350, 'public': False, 'timestamp': 1698718055.2240343, 'title': 'Copy Card', 'type': 'BusinessCopy', 'uid': '007'}\n",
      "\n",
      "\n",
      "testing test_get_all_items, response: \n",
      " [{'created_at': '2022-01-01T00:00:00', 'description': 'Subscribe Today for a callback card and take charge of your Tax.', 'id': 1, 'item_media_instacard_big_plate_url': 'static/media_store/plate_one_full_centerd.jpg', 'item_media_instacard_small_plate_url': 'static/media_store/plate_one_half.jpg', 'item_media_order_plate_url': 'static/media_store/plate_one_half_reverse.jpg', 'item_media_receipt_plate_url': 'static/media_store/plate_one_full.jpg', 'item_media_url': 'static/landing_images/callback_bg.jpg', 'name': 'Tax', 'price': 350.0, 'public': True, 'timestamp': 1698718055.194325, 'title': 'Callback Card', 'type': 'Callback', 'uid': '001'}, {'created_at': '2022-01-01T00:00:00', 'description': 'Order a location card today and be able to search for items and services within your area ', 'id': 2, 'item_media_instacard_big_plate_url': 'static/media_store/plate_two_full_centerd.jpg', 'item_media_instacard_small_plate_url': 'static/media_store/plate_two_half.jpg', 'item_media_order_plate_url': 'static/media_store/plate_two_half_reverse.jpg', 'item_media_receipt_plate_url': 'static/media_store/plate_two_full.jpg', 'item_media_url': 'static/landing_images/location.jpg', 'name': 'Search', 'price': 100, 'public': True, 'timestamp': 1698718055.1994605, 'title': 'Location Card', 'type': 'Location', 'uid': '002'}, {'created_at': '2022-01-01T00:00:00', 'description': 'Subscribe Now and get latest information on prices, routes and booking travel in a simple and secure way.', 'id': 3, 'item_media_instacard_big_plate_url': 'static/media_store/plate_three_full_centerd.jpg', 'item_media_instacard_small_plate_url': 'static/media_store/plate_three_half.jpg', 'item_media_order_plate_url': 'static/media_store/plate_three_half_reverse.jpg', 'item_media_receipt_plate_url': 'static/media_store/plate_three_full.jpg', 'item_media_url': 'static/landing_images/travel_bg_four.jpg', 'name': 'Travel', 'price': 350.0, 'public': False, 'timestamp': 1698718055.2045832, 'title': 'Travel Card', 'type': 'Travel', 'uid': '003'}, {'created_at': '2022-01-01T00:00:00', 'description': 'Subscribe Now and get latest information on prices, events, entertainment and booking tickets in a simple and secure way.', 'id': 4, 'item_media_instacard_big_plate_url': 'static/media_store/plate_four_full_centerd.jpg', 'item_media_instacard_small_plate_url': 'static/media_store/plate_four_half.jpg', 'item_media_order_plate_url': 'static/media_store/plate_four_half_reverse.jpg', 'item_media_receipt_plate_url': 'static/media_store/plate_four_full.jpg', 'item_media_url': 'static/landing_images/entertainment_bg.jpg', 'name': 'Ent', 'price': 350.0, 'public': False, 'timestamp': 1698718055.2089145, 'title': 'Entertainment Card', 'type': 'Entertainment', 'uid': '004'}, {'created_at': '2022-01-01T00:00:00', 'description': 'Order a web card today for your business and get access to a personalized experience for web development ', 'id': 5, 'item_media_instacard_big_plate_url': 'static/media_store/plate_five_full_centerd.jpg', 'item_media_instacard_small_plate_url': 'static/media_store/plate_five_half.jpg', 'item_media_order_plate_url': 'static/media_store/plate_five_half_reverse.jpg', 'item_media_receipt_plate_url': 'static/media_store/plate_five_full.jpg', 'item_media_url': 'static/landing_images/business_web_card.jpg', 'name': 'App', 'price': 15000.0, 'public': False, 'timestamp': 1698718055.2131672, 'title': 'Web Card', 'type': 'BusinessWeb', 'uid': '005'}, {'created_at': '2022-01-01T00:00:00', 'description': 'Order a location card today and be able to sell items and services within your area ', 'id': 6, 'item_media_instacard_big_plate_url': 'static/media_store/plate_six_full_centerd.jpg', 'item_media_instacard_small_plate_url': 'static/media_store/plate_six_half.jpg', 'item_media_order_plate_url': 'static/media_store/plate_six_half_reverse.jpg', 'item_media_receipt_plate_url': 'static/media_store/plate_six_full.jpg', 'item_media_url': 'static/landing_images/business_location_card.jpg', 'name': 'Loca', 'price': 350, 'public': True, 'timestamp': 1698718055.218368, 'title': 'Location Card', 'type': 'BusinessLocation', 'uid': '006'}, {'created_at': '2022-01-01T00:00:00', 'description': 'Order a copywriting card now and take charge of your copy for your business or any other venture. We offer a variety of services for websites upto social media pages. ', 'id': 7, 'item_media_instacard_big_plate_url': 'static/media_store/plate_seven_full_centerd.jpg', 'item_media_instacard_small_plate_url': 'static/media_store/plate_seven_half.jpg', 'item_media_order_plate_url': 'static/media_store/plate_seven_half_reverse.jpg', 'item_media_receipt_plate_url': 'static/media_store/plate_seven_full.jpg', 'item_media_url': 'static/landing_images/business_copy_card.jpg', 'name': 'Advert', 'price': 350, 'public': False, 'timestamp': 1698718055.2240343, 'title': 'Copy Card', 'type': 'BusinessCopy', 'uid': '007'}]\n",
      "\n",
      "\n",
      "testing test_get_item, response: \n",
      " {'created_at': '2022-01-01T00:00:00', 'description': 'Order a location card today and be able to search for items and services within your area ', 'id': 2, 'item_media_instacard_big_plate_url': 'static/media_store/plate_two_full_centerd.jpg', 'item_media_instacard_small_plate_url': 'static/media_store/plate_two_half.jpg', 'item_media_order_plate_url': 'static/media_store/plate_two_half_reverse.jpg', 'item_media_receipt_plate_url': 'static/media_store/plate_two_full.jpg', 'item_media_url': 'static/landing_images/location.jpg', 'name': 'Search', 'price': 100, 'public': True, 'timestamp': 1698718055.1994605, 'title': 'Location Card', 'type': 'Location', 'uid': '002'}\n",
      "\n",
      "\n",
      "testing test_update_user_session_profile, response: \n",
      " {'created_at': '2022-01-01T00:00:00', 'description': 'Subscribe Now and get latest information on prices, routes and booking travel in a simple and secure way.', 'id': 3, 'item_media_instacard_big_plate_url': 'static/media_store/plate_three_full_centerd.jpg', 'item_media_instacard_small_plate_url': 'static/media_store/plate_three_half.jpg', 'item_media_order_plate_url': 'static/media_store/plate_three_half_reverse.jpg', 'item_media_receipt_plate_url': 'static/media_store/plate_three_full.jpg', 'item_media_url': 'static/landing_images/travel_bg_four.jpg', 'name': 'Travel', 'price': 125.99, 'public': False, 'timestamp': 1698718055.2045832, 'title': 'Travel Card', 'type': 'Travel', 'uid': '003'}\n",
      "\n",
      "\n",
      "\n",
      "\n",
      "testing test_get_all_items, response: \n",
      " [{'created_at': '2022-01-01T00:00:00', 'description': 'Subscribe Today for a callback card and take charge of your Tax.', 'id': 1, 'item_media_instacard_big_plate_url': 'static/media_store/plate_one_full_centerd.jpg', 'item_media_instacard_small_plate_url': 'static/media_store/plate_one_half.jpg', 'item_media_order_plate_url': 'static/media_store/plate_one_half_reverse.jpg', 'item_media_receipt_plate_url': 'static/media_store/plate_one_full.jpg', 'item_media_url': 'static/landing_images/callback_bg.jpg', 'name': 'Tax', 'price': 350.0, 'public': True, 'timestamp': 1698718055.194325, 'title': 'Callback Card', 'type': 'Callback', 'uid': '001'}, {'created_at': '2022-01-01T00:00:00', 'description': 'Order a location card today and be able to search for items and services within your area ', 'id': 2, 'item_media_instacard_big_plate_url': 'static/media_store/plate_two_full_centerd.jpg', 'item_media_instacard_small_plate_url': 'static/media_store/plate_two_half.jpg', 'item_media_order_plate_url': 'static/media_store/plate_two_half_reverse.jpg', 'item_media_receipt_plate_url': 'static/media_store/plate_two_full.jpg', 'item_media_url': 'static/landing_images/location.jpg', 'name': 'Search', 'price': 100, 'public': True, 'timestamp': 1698718055.1994605, 'title': 'Location Card', 'type': 'Location', 'uid': '002'}, {'created_at': '2022-01-01T00:00:00', 'description': 'Subscribe Now and get latest information on prices, routes and booking travel in a simple and secure way.', 'id': 3, 'item_media_instacard_big_plate_url': 'static/media_store/plate_three_full_centerd.jpg', 'item_media_instacard_small_plate_url': 'static/media_store/plate_three_half.jpg', 'item_media_order_plate_url': 'static/media_store/plate_three_half_reverse.jpg', 'item_media_receipt_plate_url': 'static/media_store/plate_three_full.jpg', 'item_media_url': 'static/landing_images/travel_bg_four.jpg', 'name': 'Travel', 'price': 125.99, 'public': False, 'timestamp': 1698718055.2045832, 'title': 'Travel Card', 'type': 'Travel', 'uid': '003'}, {'created_at': '2022-01-01T00:00:00', 'description': 'Subscribe Now and get latest information on prices, events, entertainment and booking tickets in a simple and secure way.', 'id': 4, 'item_media_instacard_big_plate_url': 'static/media_store/plate_four_full_centerd.jpg', 'item_media_instacard_small_plate_url': 'static/media_store/plate_four_half.jpg', 'item_media_order_plate_url': 'static/media_store/plate_four_half_reverse.jpg', 'item_media_receipt_plate_url': 'static/media_store/plate_four_full.jpg', 'item_media_url': 'static/landing_images/entertainment_bg.jpg', 'name': 'Ent', 'price': 350.0, 'public': False, 'timestamp': 1698718055.2089145, 'title': 'Entertainment Card', 'type': 'Entertainment', 'uid': '004'}, {'created_at': '2022-01-01T00:00:00', 'description': 'Order a web card today for your business and get access to a personalized experience for web development ', 'id': 5, 'item_media_instacard_big_plate_url': 'static/media_store/plate_five_full_centerd.jpg', 'item_media_instacard_small_plate_url': 'static/media_store/plate_five_half.jpg', 'item_media_order_plate_url': 'static/media_store/plate_five_half_reverse.jpg', 'item_media_receipt_plate_url': 'static/media_store/plate_five_full.jpg', 'item_media_url': 'static/landing_images/business_web_card.jpg', 'name': 'App', 'price': 15000.0, 'public': False, 'timestamp': 1698718055.2131672, 'title': 'Web Card', 'type': 'BusinessWeb', 'uid': '005'}, {'created_at': '2022-01-01T00:00:00', 'description': 'Order a location card today and be able to sell items and services within your area ', 'id': 6, 'item_media_instacard_big_plate_url': 'static/media_store/plate_six_full_centerd.jpg', 'item_media_instacard_small_plate_url': 'static/media_store/plate_six_half.jpg', 'item_media_order_plate_url': 'static/media_store/plate_six_half_reverse.jpg', 'item_media_receipt_plate_url': 'static/media_store/plate_six_full.jpg', 'item_media_url': 'static/landing_images/business_location_card.jpg', 'name': 'Loca', 'price': 350, 'public': True, 'timestamp': 1698718055.218368, 'title': 'Location Card', 'type': 'BusinessLocation', 'uid': '006'}, {'created_at': '2022-01-01T00:00:00', 'description': 'Order a copywriting card now and take charge of your copy for your business or any other venture. We offer a variety of services for websites upto social media pages. ', 'id': 7, 'item_media_instacard_big_plate_url': 'static/media_store/plate_seven_full_centerd.jpg', 'item_media_instacard_small_plate_url': 'static/media_store/plate_seven_half.jpg', 'item_media_order_plate_url': 'static/media_store/plate_seven_half_reverse.jpg', 'item_media_receipt_plate_url': 'static/media_store/plate_seven_full.jpg', 'item_media_url': 'static/landing_images/business_copy_card.jpg', 'name': 'Advert', 'price': 350, 'public': False, 'timestamp': 1698718055.2240343, 'title': 'Copy Card', 'type': 'BusinessCopy', 'uid': '007'}]\n"
     ]
    }
   ],
   "source": [
    "\n",
    "# Define the base URL for the API endpoints\n",
    "base_url = 'http://localhost:5009'\n",
    "\n",
    "# Test GET /items\n",
    "def test_get_all_items():\n",
    "    url = f'{base_url}/items'\n",
    "    response = requests.get(url)\n",
    "    print(f\"testing test_get_all_items, response: \\n {response.json()}\")\n",
    "    assert response.status_code == 200\n",
    "    # Assert other expectations on the response data\n",
    "\n",
    "# Test POST /items\n",
    "def test_create_items():\n",
    "    url = f'{base_url}/items'\n",
    "\n",
    "    for item_b2c in items_b2c:\n",
    "        response = requests.post(url, json=item_b2c)\n",
    "        print(f\"testing test_create_items, response: \\n {response.json()}\")\n",
    "        assert response.status_code == 201, f\"Expected status code 201, but got {response.status_code}\"\n",
    "    \n",
    "    for item_b2b in items_b2b:\n",
    "        response = requests.post(url, json=item_b2b)\n",
    "        print(f\"testing test_create_items, response: \\n {response.json()}\")\n",
    "        assert response.status_code == 201, f\"Expected status code 201, but got {response.status_code}\"\n",
    "\n",
    "\n",
    "# Test GET /items/{id}\n",
    "def test_get_item(id):\n",
    "    url = f'{base_url}/items/{id}'\n",
    "    response = requests.get(url)\n",
    "    print(f\"testing test_get_item, response: \\n {response.json()}\")\n",
    "    assert response.status_code == 200\n",
    "    # Assert other expectations on the response data\n",
    "\n",
    "# Test PUT /items/{id}\n",
    "def test_update_item(id):\n",
    "    url = f'{base_url}/items/{id}'\n",
    "    data = {\n",
    "        'price': 125.99,\n",
    "    }\n",
    "    response = requests.put(url, json=data)\n",
    "    print(f\"testing test_update_user_session_profile, response: \\n {response.json()}\")\n",
    "    assert response.status_code == 200\n",
    "    # Assert other expectations on the response data\n",
    "\n",
    "# Test DELETE /test_delete_item/{id}\n",
    "def test_delete_item(id):\n",
    "    url = f'{base_url}/items/{id}'\n",
    "    response = requests.delete(url)\n",
    "    print(f\"testing test_delete_item, response: \\n {response.json()}\")\n",
    "    assert response.status_code == 200\n",
    "    # Assert other expectations on the response data\n",
    "\n",
    "# Run the tests sequentially\n",
    "test_create_items()\n",
    "print(\"\\n\")\n",
    "test_get_all_items()\n",
    "print(\"\\n\")\n",
    "test_get_item(2)  # Provide an appropriate ID for testing\n",
    "print(\"\\n\")\n",
    "test_update_item(3)  # Provide an appropriate ID for testing\n",
    "print(\"\\n\")\n",
    "# test_delete_item(1)  # Provide an appropriate ID for testing\n",
    "print(\"\\n\")\n",
    "test_get_all_items()\n"
   ]
  },
  {
   "cell_type": "code",
   "execution_count": null,
   "id": "5d9620e4-4742-495e-8cf0-2dce0ef6f474",
   "metadata": {},
   "outputs": [],
   "source": []
  },
  {
   "cell_type": "code",
   "execution_count": 34,
   "id": "c74a3f86-0ab0-4f79-a2b2-75c650a41213",
   "metadata": {
    "tags": []
   },
   "outputs": [],
   "source": [
    "transaction_data = {\n",
    "    'user_type': 'example_user_type',\n",
    "    'tx_type': 'example_tx_type',\n",
    "    'timestamp': time.time()\n",
    "}\n",
    "\n",
    "transaction_data2 = {\n",
    "    'user_type': 'another_user_type',\n",
    "    'tx_type': 'another_tx_type',\n",
    "    'timestamp': time.time()\n",
    "}\n",
    "\n",
    "transaction_data3 = {\n",
    "    'user_type': 'third_user_type',\n",
    "    'tx_type': 'third_tx_type',\n",
    "    'timestamp': time.time()\n",
    "}\n",
    "\n",
    "transaction_data4 = {\n",
    "    'user_type': 'fourth_user_type',\n",
    "    'tx_type': 'fourth_tx_type',\n",
    "    'timestamp': time.time()\n",
    "}"
   ]
  },
  {
   "cell_type": "code",
   "execution_count": 34,
   "id": "4d3bed40-968e-4e01-96c5-e2da7e2fe0ed",
   "metadata": {
    "tags": []
   },
   "outputs": [
    {
     "ename": "NameError",
     "evalue": "name 'transaction_data' is not defined",
     "output_type": "error",
     "traceback": [
      "\u001b[0;31m---------------------------------------------------------------------------\u001b[0m",
      "\u001b[0;31mNameError\u001b[0m                                 Traceback (most recent call last)",
      "Cell \u001b[0;32mIn[34], line 57\u001b[0m\n\u001b[1;32m     53\u001b[0m     \u001b[38;5;28;01massert\u001b[39;00m response\u001b[38;5;241m.\u001b[39mstatus_code \u001b[38;5;241m==\u001b[39m \u001b[38;5;241m200\u001b[39m\n\u001b[1;32m     54\u001b[0m     \u001b[38;5;66;03m# Assert other expectations on the response data\u001b[39;00m\n\u001b[1;32m     55\u001b[0m \n\u001b[1;32m     56\u001b[0m \u001b[38;5;66;03m# Run the tests sequentially\u001b[39;00m\n\u001b[0;32m---> 57\u001b[0m \u001b[43mtest_create_transactions\u001b[49m\u001b[43m(\u001b[49m\u001b[43m)\u001b[49m\n\u001b[1;32m     58\u001b[0m \u001b[38;5;28mprint\u001b[39m(\u001b[38;5;124m\"\u001b[39m\u001b[38;5;130;01m\\n\u001b[39;00m\u001b[38;5;124m\"\u001b[39m)\n\u001b[1;32m     59\u001b[0m test_get_all_transactions()\n",
      "Cell \u001b[0;32mIn[34], line 15\u001b[0m, in \u001b[0;36mtest_create_transactions\u001b[0;34m()\u001b[0m\n\u001b[1;32m     13\u001b[0m \u001b[38;5;28;01mdef\u001b[39;00m \u001b[38;5;21mtest_create_transactions\u001b[39m():\n\u001b[1;32m     14\u001b[0m     url \u001b[38;5;241m=\u001b[39m \u001b[38;5;124mf\u001b[39m\u001b[38;5;124m'\u001b[39m\u001b[38;5;132;01m{\u001b[39;00mbase_url\u001b[38;5;132;01m}\u001b[39;00m\u001b[38;5;124m/transactions\u001b[39m\u001b[38;5;124m'\u001b[39m\n\u001b[0;32m---> 15\u001b[0m     response \u001b[38;5;241m=\u001b[39m requests\u001b[38;5;241m.\u001b[39mpost(url, json\u001b[38;5;241m=\u001b[39m\u001b[43mtransaction_data\u001b[49m)\n\u001b[1;32m     16\u001b[0m     \u001b[38;5;28mprint\u001b[39m(\u001b[38;5;124mf\u001b[39m\u001b[38;5;124m\"\u001b[39m\u001b[38;5;124mtesting test_create_transactions, response: \u001b[39m\u001b[38;5;130;01m\\n\u001b[39;00m\u001b[38;5;124m \u001b[39m\u001b[38;5;132;01m{\u001b[39;00mresponse\u001b[38;5;241m.\u001b[39mjson()\u001b[38;5;132;01m}\u001b[39;00m\u001b[38;5;124m\"\u001b[39m)\n\u001b[1;32m     17\u001b[0m     \u001b[38;5;28;01massert\u001b[39;00m response\u001b[38;5;241m.\u001b[39mstatus_code \u001b[38;5;241m==\u001b[39m \u001b[38;5;241m201\u001b[39m\n",
      "\u001b[0;31mNameError\u001b[0m: name 'transaction_data' is not defined"
     ]
    }
   ],
   "source": [
    "# Define the base URL for the API endpoints\n",
    "base_url = 'http://localhost:5009'\n",
    "\n",
    "# Test GET /transactions\n",
    "def test_get_all_transactions():\n",
    "    url = f'{base_url}/transactions'\n",
    "    response = requests.get(url)\n",
    "    print(f\"testing test_get_all_transactions, response: \\n {response.json()}\")\n",
    "    assert response.status_code == 200\n",
    "    # Assert other expectations on the response data\n",
    "\n",
    "# Test POST /transactions\n",
    "def test_create_transactions():\n",
    "    url = f'{base_url}/transactions'\n",
    "    response = requests.post(url, json=transaction_data)\n",
    "    print(f\"testing test_create_transactions, response: \\n {response.json()}\")\n",
    "    assert response.status_code == 201\n",
    "    response1 = requests.post(url, json=transaction_data2)\n",
    "    print(f\"testing test_create_transactions, response: \\n {response1.json()}\")\n",
    "    assert response1.status_code == 201\n",
    "    response2 = requests.post(url, json=transaction_data3)\n",
    "    print(f\"testing test_create_transactions, response: \\n {response2.json()}\")\n",
    "    assert response2.status_code == 201\n",
    "    response3 = requests.post(url, json=transaction_data4)\n",
    "    print(f\"testing test_create_transactions, response: \\n {response3.json()}\")\n",
    "    assert response3.status_code == 201\n",
    "    # Assert other expectations on the response data\n",
    "\n",
    "# Test GET /transactions/{id}\n",
    "def test_get_transaction(id):\n",
    "    url = f'{base_url}/transactions/{id}'\n",
    "    response = requests.get(url)\n",
    "    print(f\"testing test_get_transaction, response: \\n {response.json()}\")\n",
    "    assert response.status_code == 200\n",
    "    # Assert other expectations on the response data\n",
    "\n",
    "# Test PUT /items/{id}\n",
    "def test_update_transaction(id):\n",
    "    url = f'{base_url}/transactions/{id}'\n",
    "    data = {\n",
    "        'price': 125.99,\n",
    "    }\n",
    "    response = requests.put(url, json=data)\n",
    "    print(f\"testing test_update_transaction, response: \\n {response.json()}\")\n",
    "    assert response.status_code == 200\n",
    "    # Assert other expectations on the response data\n",
    "\n",
    "# Test DELETE /test_transaction_item/{id}\n",
    "def test_delete_transaction(id):\n",
    "    url = f'{base_url}/transactions/{id}'\n",
    "    response = requests.delete(url)\n",
    "    print(f\"testing test_transaction_item, response: \\n {response.json()}\")\n",
    "    assert response.status_code == 200\n",
    "    # Assert other expectations on the response data\n",
    "\n",
    "# Run the tests sequentially\n",
    "test_create_transactions()\n",
    "print(\"\\n\")\n",
    "test_get_all_transactions()\n",
    "print(\"\\n\")\n",
    "test_get_transaction(2)\n",
    "print(\"\\n\")\n",
    "test_update_transaction(3)\n",
    "print(\"\\n\")\n",
    "# test_delete_transaction(1)\n",
    "print(\"\\n\")\n",
    "test_get_all_transactions()"
   ]
  },
  {
   "cell_type": "code",
   "execution_count": null,
   "id": "3d1686ed-398d-46c7-9938-104e5b609646",
   "metadata": {},
   "outputs": [],
   "source": []
  },
  {
   "cell_type": "code",
   "execution_count": 36,
   "id": "96bda0a4-6ee4-420e-8a33-b76d36f1abe9",
   "metadata": {
    "tags": []
   },
   "outputs": [],
   "source": [
    "payment_data = {\n",
    "    'item_uid': str(uuid.uuid4()),\n",
    "    'amount_asked': 10.99,\n",
    "    'amount_received': 10.99,\n",
    "    'complete': True,\n",
    "    'customer_uid': str(uuid.uuid4()),\n",
    "    'payment_type': 'example_payment_type',\n",
    "    'customer_name': 'John Doe',\n",
    "    'payment_ref_id': secrets.token_hex(7).upper() + secrets.token_hex(1).upper(),\n",
    "    'timestamp': time.time()\n",
    "}\n",
    "\n",
    "payment_data2 = {\n",
    "    'item_uid': str(uuid.uuid4()),\n",
    "    'amount_asked': 19.99,\n",
    "    'amount_received': 19.99,\n",
    "    'complete': True,\n",
    "    'customer_uid': str(uuid.uuid4()),\n",
    "    'payment_type': 'another_payment_type',\n",
    "    'customer_name': 'Jane Smith',\n",
    "    'payment_ref_id': secrets.token_hex(7).upper() + secrets.token_hex(1).upper(),\n",
    "    'timestamp': time.time()\n",
    "}\n",
    "\n",
    "payment_data3 = {\n",
    "    'item_uid': str(uuid.uuid4()),\n",
    "    'amount_asked': 15.99,\n",
    "    'amount_received': 15.99,\n",
    "    'complete': False,\n",
    "    'customer_uid': str(uuid.uuid4()),\n",
    "    'payment_type': 'third_payment_type',\n",
    "    'customer_name': 'Michael Johnson',\n",
    "    'payment_ref_id': secrets.token_hex(7).upper() + secrets.token_hex(1).upper(),\n",
    "    'timestamp': time.time()\n",
    "}\n",
    "\n",
    "payment_data4 = {\n",
    "    'item_uid': str(uuid.uuid4()),\n",
    "    'amount_asked': 12.99,\n",
    "    'amount_received': 12.99,\n",
    "    'complete': False,\n",
    "    'customer_uid': str(uuid.uuid4()),\n",
    "    'payment_type': 'fourth_payment_type',\n",
    "    'customer_name': 'Sarah Anderson',\n",
    "    'payment_ref_id': secrets.token_hex(7).upper() + secrets.token_hex(1).upper(),\n",
    "    'timestamp': time.time()\n",
    "}"
   ]
  },
  {
   "cell_type": "code",
   "execution_count": 37,
   "id": "112c6a96-3d8a-413a-89a6-b62aa02ecebb",
   "metadata": {
    "tags": []
   },
   "outputs": [
    {
     "data": {
      "text/plain": [
       "'8DEC3582336FC038'"
      ]
     },
     "execution_count": 37,
     "metadata": {},
     "output_type": "execute_result"
    }
   ],
   "source": [
    "payment_data4['payment_ref_id']"
   ]
  },
  {
   "cell_type": "code",
   "execution_count": 38,
   "id": "c43303dd-f671-49a4-b732-c95a8ce519b2",
   "metadata": {
    "tags": []
   },
   "outputs": [
    {
     "name": "stdout",
     "output_type": "stream",
     "text": [
      "testing test_create_payments, response: \n",
      " {'amount_asked': 10.99, 'amount_received': 10.99, 'complete': True, 'customer_name': 'John Doe', 'customer_uid': 'df50d966-9f2d-4901-ae67-f0cf105853fc', 'id': 1, 'item_uid': 'baaaa1cc-2721-4d88-b53f-e185c87168f2', 'payment_ref_id': '90B13338878B12C2', 'payment_type': 'example_payment_type', 'timestamp': 1690453011.9053113, 'uid': 'd6698f73-b210-4d14-9bca-d29c9a0927fb'}\n",
      "testing test_create_payments, response: \n",
      " {'amount_asked': 19.99, 'amount_received': 19.99, 'complete': True, 'customer_name': 'Jane Smith', 'customer_uid': 'cdf16905-e85d-44b0-8ad1-c8a9a9dda0d3', 'id': 2, 'item_uid': 'dac3fc2a-7083-40bf-82c7-97114ee66722', 'payment_ref_id': '4DC6DDFF989B3A5A', 'payment_type': 'another_payment_type', 'timestamp': 1690453011.9056692, 'uid': 'c763828a-219e-4c54-96be-5385ba1a2b2f'}\n",
      "testing test_create_payments, response: \n",
      " {'amount_asked': 15.99, 'amount_received': 15.99, 'complete': False, 'customer_name': 'Michael Johnson', 'customer_uid': 'f27e74c5-5728-4d6b-be08-f31ff3248590', 'id': 3, 'item_uid': '82d91104-f027-4078-9028-e19db033f39e', 'payment_ref_id': '2FE66E6D0A628C2D', 'payment_type': 'third_payment_type', 'timestamp': 1690453011.9058852, 'uid': '5dc4c112-4ff0-41d2-9a2b-76a806fad5c3'}\n",
      "testing test_create_payments, response: \n",
      " {'amount_asked': 12.99, 'amount_received': 12.99, 'complete': False, 'customer_name': 'Sarah Anderson', 'customer_uid': '01189ac1-3172-487b-8160-440dadce3708', 'id': 4, 'item_uid': 'c358cdc5-9e5c-4e13-b831-7020a172b5e5', 'payment_ref_id': '8DEC3582336FC038', 'payment_type': 'fourth_payment_type', 'timestamp': 1690453011.906037, 'uid': '3d5bb088-8027-4238-97f0-c09ab217b8bb'}\n",
      "\n",
      "\n",
      "testing test_get_all_payments, response: \n",
      " [{'amount_asked': 10.99, 'amount_received': 10.99, 'complete': True, 'customer_name': 'John Doe', 'customer_uid': 'df50d966-9f2d-4901-ae67-f0cf105853fc', 'id': 1, 'item_uid': 'baaaa1cc-2721-4d88-b53f-e185c87168f2', 'payment_ref_id': '90B13338878B12C2', 'payment_type': 'example_payment_type', 'timestamp': 1690453011.905311, 'uid': 'd6698f73-b210-4d14-9bca-d29c9a0927fb'}, {'amount_asked': 19.99, 'amount_received': 19.99, 'complete': True, 'customer_name': 'Jane Smith', 'customer_uid': 'cdf16905-e85d-44b0-8ad1-c8a9a9dda0d3', 'id': 2, 'item_uid': 'dac3fc2a-7083-40bf-82c7-97114ee66722', 'payment_ref_id': '4DC6DDFF989B3A5A', 'payment_type': 'another_payment_type', 'timestamp': 1690453011.9056692, 'uid': 'c763828a-219e-4c54-96be-5385ba1a2b2f'}, {'amount_asked': 15.99, 'amount_received': 15.99, 'complete': False, 'customer_name': 'Michael Johnson', 'customer_uid': 'f27e74c5-5728-4d6b-be08-f31ff3248590', 'id': 3, 'item_uid': '82d91104-f027-4078-9028-e19db033f39e', 'payment_ref_id': '2FE66E6D0A628C2D', 'payment_type': 'third_payment_type', 'timestamp': 1690453011.9058852, 'uid': '5dc4c112-4ff0-41d2-9a2b-76a806fad5c3'}, {'amount_asked': 12.99, 'amount_received': 12.99, 'complete': False, 'customer_name': 'Sarah Anderson', 'customer_uid': '01189ac1-3172-487b-8160-440dadce3708', 'id': 4, 'item_uid': 'c358cdc5-9e5c-4e13-b831-7020a172b5e5', 'payment_ref_id': '8DEC3582336FC038', 'payment_type': 'fourth_payment_type', 'timestamp': 1690453011.906037, 'uid': '3d5bb088-8027-4238-97f0-c09ab217b8bb'}]\n",
      "\n",
      "\n",
      "testing test_get_payment, response: \n",
      " {'amount_asked': 19.99, 'amount_received': 19.99, 'complete': True, 'customer_name': 'Jane Smith', 'customer_uid': 'cdf16905-e85d-44b0-8ad1-c8a9a9dda0d3', 'id': 2, 'item_uid': 'dac3fc2a-7083-40bf-82c7-97114ee66722', 'payment_ref_id': '4DC6DDFF989B3A5A', 'payment_type': 'another_payment_type', 'timestamp': 1690453011.9056692, 'uid': 'c763828a-219e-4c54-96be-5385ba1a2b2f'}\n",
      "\n",
      "\n",
      "testing test_update_payment, response: \n",
      " {'amount_asked': 15.99, 'amount_received': 15.99, 'complete': True, 'customer_name': 'Michael Johnson', 'customer_uid': 'f27e74c5-5728-4d6b-be08-f31ff3248590', 'id': 3, 'item_uid': '82d91104-f027-4078-9028-e19db033f39e', 'payment_ref_id': '2FE66E6D0A628C2D', 'payment_type': 'third_payment_type', 'timestamp': 1690453011.9058852, 'uid': '5dc4c112-4ff0-41d2-9a2b-76a806fad5c3'}\n",
      "\n",
      "\n",
      "testing test_delete_payment, response: \n",
      " {'message': 'Payment deleted.'}\n",
      "\n",
      "\n",
      "testing test_get_all_payments, response: \n",
      " [{'amount_asked': 19.99, 'amount_received': 19.99, 'complete': True, 'customer_name': 'Jane Smith', 'customer_uid': 'cdf16905-e85d-44b0-8ad1-c8a9a9dda0d3', 'id': 2, 'item_uid': 'dac3fc2a-7083-40bf-82c7-97114ee66722', 'payment_ref_id': '4DC6DDFF989B3A5A', 'payment_type': 'another_payment_type', 'timestamp': 1690453011.9056692, 'uid': 'c763828a-219e-4c54-96be-5385ba1a2b2f'}, {'amount_asked': 15.99, 'amount_received': 15.99, 'complete': True, 'customer_name': 'Michael Johnson', 'customer_uid': 'f27e74c5-5728-4d6b-be08-f31ff3248590', 'id': 3, 'item_uid': '82d91104-f027-4078-9028-e19db033f39e', 'payment_ref_id': '2FE66E6D0A628C2D', 'payment_type': 'third_payment_type', 'timestamp': 1690453011.9058852, 'uid': '5dc4c112-4ff0-41d2-9a2b-76a806fad5c3'}, {'amount_asked': 12.99, 'amount_received': 12.99, 'complete': False, 'customer_name': 'Sarah Anderson', 'customer_uid': '01189ac1-3172-487b-8160-440dadce3708', 'id': 4, 'item_uid': 'c358cdc5-9e5c-4e13-b831-7020a172b5e5', 'payment_ref_id': '8DEC3582336FC038', 'payment_type': 'fourth_payment_type', 'timestamp': 1690453011.906037, 'uid': '3d5bb088-8027-4238-97f0-c09ab217b8bb'}]\n"
     ]
    }
   ],
   "source": [
    "# Define the base URL for the API endpoints\n",
    "base_url = 'http://localhost:5009'\n",
    "\n",
    "# Test GET /payments\n",
    "def test_get_all_payments():\n",
    "    url = f'{base_url}/payments'\n",
    "    response = requests.get(url)\n",
    "    print(f\"testing test_get_all_payments, response: \\n {response.json()}\")\n",
    "    assert response.status_code == 200\n",
    "    # Assert other expectations on the response data\n",
    "\n",
    "# Test POST /payments\n",
    "def test_create_payments():\n",
    "    url = f'{base_url}/payments'\n",
    "    response = requests.post(url, json=payment_data)\n",
    "    print(f\"testing test_create_payments, response: \\n {response.json()}\")\n",
    "    assert response.status_code == 201\n",
    "    response1 = requests.post(url, json=payment_data2)\n",
    "    print(f\"testing test_create_payments, response: \\n {response1.json()}\")\n",
    "    assert response1.status_code == 201\n",
    "    response2 = requests.post(url, json=payment_data3)\n",
    "    print(f\"testing test_create_payments, response: \\n {response2.json()}\")\n",
    "    assert response2.status_code == 201\n",
    "    response3 = requests.post(url, json=payment_data4)\n",
    "    print(f\"testing test_create_payments, response: \\n {response3.json()}\")\n",
    "    assert response3.status_code == 201\n",
    "    # Assert other expectations on the response data\n",
    "\n",
    "# Test GET /payments/{id}\n",
    "def test_get_payment(id):\n",
    "    url = f'{base_url}/payments/{id}'\n",
    "    response = requests.get(url)\n",
    "    print(f\"testing test_get_payment, response: \\n {response.json()}\")\n",
    "    assert response.status_code == 200\n",
    "    # Assert other expectations on the response data\n",
    "\n",
    "# Test PUT /payments/{id}\n",
    "def test_update_payment(id):\n",
    "    url = f'{base_url}/payments/{id}'\n",
    "    data = {\n",
    "        'complete': True,\n",
    "    }\n",
    "    response = requests.put(url, json=data)\n",
    "    print(f\"testing test_update_payment, response: \\n {response.json()}\")\n",
    "    assert response.status_code == 200\n",
    "    # Assert other expectations on the response data\n",
    "\n",
    "# Test DELETE /test_transaction_item/{id}\n",
    "def test_delete_payment(id):\n",
    "    url = f'{base_url}/payments/{id}'\n",
    "    response = requests.delete(url)\n",
    "    print(f\"testing test_delete_payment, response: \\n {response.json()}\")\n",
    "    assert response.status_code == 200\n",
    "    # Assert other expectations on the response data\n",
    "\n",
    "# Run the tests sequentially\n",
    "test_create_payments()\n",
    "print(\"\\n\")\n",
    "test_get_all_payments()\n",
    "print(\"\\n\")\n",
    "test_get_payment(2)\n",
    "print(\"\\n\")\n",
    "test_update_payment(3)\n",
    "print(\"\\n\")\n",
    "test_delete_payment(1)\n",
    "print(\"\\n\")\n",
    "test_get_all_payments()"
   ]
  },
  {
   "cell_type": "code",
   "execution_count": null,
   "id": "a67eba05-2eaf-441b-94dc-bfe600c6d6f4",
   "metadata": {},
   "outputs": [],
   "source": []
  },
  {
   "cell_type": "code",
   "execution_count": 39,
   "id": "2d7bc859-941c-4a43-a313-afc17b02caeb",
   "metadata": {
    "tags": []
   },
   "outputs": [],
   "source": [
    "order_data = {\n",
    "    'item_uid': str(uuid.uuid4()),\n",
    "    'payment_uid': str(uuid.uuid4()),\n",
    "    'customer_uid': str(uuid.uuid4()),\n",
    "    'timestamp': time.time()\n",
    "}\n",
    "\n",
    "order_data2 = {\n",
    "    'item_uid': str(uuid.uuid4()),\n",
    "    'payment_uid': str(uuid.uuid4()),\n",
    "    'customer_uid': str(uuid.uuid4()),\n",
    "    'timestamp': time.time()\n",
    "}\n",
    "\n",
    "order_data3 = {\n",
    "    'item_uid': str(uuid.uuid4()),\n",
    "    'payment_uid': str(uuid.uuid4()),\n",
    "    'customer_uid': str(uuid.uuid4()),\n",
    "    'timestamp': time.time()\n",
    "}\n",
    "\n",
    "order_data4 = {\n",
    "    'item_uid': str(uuid.uuid4()),\n",
    "    'payment_uid': str(uuid.uuid4()),\n",
    "    'customer_uid': str(uuid.uuid4()),\n",
    "    'timestamp': time.time()\n",
    "}"
   ]
  },
  {
   "cell_type": "code",
   "execution_count": 40,
   "id": "cbbbb02c-91ad-4281-9d79-bb349cef229d",
   "metadata": {
    "tags": []
   },
   "outputs": [
    {
     "name": "stdout",
     "output_type": "stream",
     "text": [
      "testing test_create_orders, response: \n",
      " {'customer_uid': '78b44e4a-8035-4905-b640-6caa5cad40c8', 'id': 1, 'item_uid': 'b37b3a5f-64f4-4d47-a1a9-945baf12b604', 'payment_uid': 'd5cc6987-3dce-42d3-83d7-15f2a3154ec7', 'timestamp': 1690453022.4826968, 'uid': '00722d67-52c7-4423-9dba-ed3364e9683c'}\n",
      "testing test_create_orders, response: \n",
      " {'customer_uid': 'b13e6fa6-b8ba-44a8-88da-27b69c4520f6', 'id': 2, 'item_uid': '4bb017f4-b5b5-472f-a120-1e88275ddda5', 'payment_uid': '4ed8397e-747c-47f4-a397-626aeb920299', 'timestamp': 1690453022.482908, 'uid': '227271c7-5935-4767-9efd-dd42ad2b4f92'}\n",
      "testing test_create_orders, response: \n",
      " {'customer_uid': '1c72e7df-d898-49e3-ab16-374b205e5809', 'id': 3, 'item_uid': '5847e071-5fb6-44a5-a6e7-76beebbdb28f', 'payment_uid': '91dc0326-0708-415c-84f1-7925f0262f9f', 'timestamp': 1690453022.4831545, 'uid': '208a3f05-1a59-404b-9a7b-133a383fa6eb'}\n",
      "testing test_create_orders, response: \n",
      " {'customer_uid': '81dcfde0-3b58-42b7-a5f8-1abbbb7fba83', 'id': 4, 'item_uid': '1bcd7e62-7e74-424c-8e63-9d0cadbfb935', 'payment_uid': 'db32713d-11d3-43a4-8387-23bbaf4d82f8', 'timestamp': 1690453022.4833236, 'uid': '6370df2d-53f8-42b0-a2ba-42335cf17147'}\n",
      "\n",
      "\n",
      "testing test_get_all_orders, response: \n",
      " [{'customer_uid': '78b44e4a-8035-4905-b640-6caa5cad40c8', 'id': 1, 'item_uid': 'b37b3a5f-64f4-4d47-a1a9-945baf12b604', 'payment_uid': 'd5cc6987-3dce-42d3-83d7-15f2a3154ec7', 'timestamp': 1690453022.4826968, 'uid': '00722d67-52c7-4423-9dba-ed3364e9683c'}, {'customer_uid': 'b13e6fa6-b8ba-44a8-88da-27b69c4520f6', 'id': 2, 'item_uid': '4bb017f4-b5b5-472f-a120-1e88275ddda5', 'payment_uid': '4ed8397e-747c-47f4-a397-626aeb920299', 'timestamp': 1690453022.482908, 'uid': '227271c7-5935-4767-9efd-dd42ad2b4f92'}, {'customer_uid': '1c72e7df-d898-49e3-ab16-374b205e5809', 'id': 3, 'item_uid': '5847e071-5fb6-44a5-a6e7-76beebbdb28f', 'payment_uid': '91dc0326-0708-415c-84f1-7925f0262f9f', 'timestamp': 1690453022.4831543, 'uid': '208a3f05-1a59-404b-9a7b-133a383fa6eb'}, {'customer_uid': '81dcfde0-3b58-42b7-a5f8-1abbbb7fba83', 'id': 4, 'item_uid': '1bcd7e62-7e74-424c-8e63-9d0cadbfb935', 'payment_uid': 'db32713d-11d3-43a4-8387-23bbaf4d82f8', 'timestamp': 1690453022.4833236, 'uid': '6370df2d-53f8-42b0-a2ba-42335cf17147'}]\n",
      "\n",
      "\n",
      "testing test_get_order, response: \n",
      " {'customer_uid': 'b13e6fa6-b8ba-44a8-88da-27b69c4520f6', 'id': 2, 'item_uid': '4bb017f4-b5b5-472f-a120-1e88275ddda5', 'payment_uid': '4ed8397e-747c-47f4-a397-626aeb920299', 'timestamp': 1690453022.482908, 'uid': '227271c7-5935-4767-9efd-dd42ad2b4f92'}\n",
      "\n",
      "\n",
      "testing test_update_order, response: \n",
      " {'complete': True, 'customer_uid': '1c72e7df-d898-49e3-ab16-374b205e5809', 'id': 3, 'item_uid': '5847e071-5fb6-44a5-a6e7-76beebbdb28f', 'payment_uid': '91dc0326-0708-415c-84f1-7925f0262f9f', 'timestamp': 1690453022.4831543, 'uid': '208a3f05-1a59-404b-9a7b-133a383fa6eb'}\n",
      "\n",
      "\n",
      "testing test_delete_order, response: \n",
      " {'message': 'Order deleted.'}\n",
      "\n",
      "\n",
      "testing test_get_all_orders, response: \n",
      " [{'customer_uid': 'b13e6fa6-b8ba-44a8-88da-27b69c4520f6', 'id': 2, 'item_uid': '4bb017f4-b5b5-472f-a120-1e88275ddda5', 'payment_uid': '4ed8397e-747c-47f4-a397-626aeb920299', 'timestamp': 1690453022.482908, 'uid': '227271c7-5935-4767-9efd-dd42ad2b4f92'}, {'complete': True, 'customer_uid': '1c72e7df-d898-49e3-ab16-374b205e5809', 'id': 3, 'item_uid': '5847e071-5fb6-44a5-a6e7-76beebbdb28f', 'payment_uid': '91dc0326-0708-415c-84f1-7925f0262f9f', 'timestamp': 1690453022.4831543, 'uid': '208a3f05-1a59-404b-9a7b-133a383fa6eb'}, {'customer_uid': '81dcfde0-3b58-42b7-a5f8-1abbbb7fba83', 'id': 4, 'item_uid': '1bcd7e62-7e74-424c-8e63-9d0cadbfb935', 'payment_uid': 'db32713d-11d3-43a4-8387-23bbaf4d82f8', 'timestamp': 1690453022.4833236, 'uid': '6370df2d-53f8-42b0-a2ba-42335cf17147'}]\n"
     ]
    }
   ],
   "source": [
    "# Define the base URL for the API endpoints\n",
    "base_url = 'http://localhost:5009'\n",
    "\n",
    "# Test GET /orders\n",
    "def test_get_all_orders():\n",
    "    url = f'{base_url}/orders'\n",
    "    response = requests.get(url)\n",
    "    print(f\"testing test_get_all_orders, response: \\n {response.json()}\")\n",
    "    assert response.status_code == 200\n",
    "    # Assert other expectations on the response data\n",
    "\n",
    "# Test POST /orders\n",
    "def test_create_orders():\n",
    "    url = f'{base_url}/orders'\n",
    "    response = requests.post(url, json=order_data)\n",
    "    print(f\"testing test_create_orders, response: \\n {response.json()}\")\n",
    "    assert response.status_code == 201\n",
    "    response1 = requests.post(url, json=order_data2)\n",
    "    print(f\"testing test_create_orders, response: \\n {response1.json()}\")\n",
    "    assert response1.status_code == 201\n",
    "    response2 = requests.post(url, json=order_data3)\n",
    "    print(f\"testing test_create_orders, response: \\n {response2.json()}\")\n",
    "    assert response2.status_code == 201\n",
    "    response3 = requests.post(url, json=order_data4)\n",
    "    print(f\"testing test_create_orders, response: \\n {response3.json()}\")\n",
    "    assert response3.status_code == 201\n",
    "    # Assert other expectations on the response data\n",
    "\n",
    "# Test GET /orders/{id}\n",
    "def test_get_order(id):\n",
    "    url = f'{base_url}/orders/{id}'\n",
    "    response = requests.get(url)\n",
    "    print(f\"testing test_get_order, response: \\n {response.json()}\")\n",
    "    assert response.status_code == 200\n",
    "    # Assert other expectations on the response data\n",
    "\n",
    "# Test PUT /orders/{id}\n",
    "def test_update_order(id):\n",
    "    url = f'{base_url}/orders/{id}'\n",
    "    data = {\n",
    "        'complete': True,\n",
    "    }\n",
    "    response = requests.put(url, json=data)\n",
    "    print(f\"testing test_update_order, response: \\n {response.json()}\")\n",
    "    assert response.status_code == 200\n",
    "    # Assert other expectations on the response data\n",
    "\n",
    "# Test DELETE /orders/{id}\n",
    "def test_delete_order(id):\n",
    "    url = f'{base_url}/orders/{id}'\n",
    "    response = requests.delete(url)\n",
    "    print(f\"testing test_delete_order, response: \\n {response.json()}\")\n",
    "    assert response.status_code == 200\n",
    "    # Assert other expectations on the response data\n",
    "\n",
    "# Run the tests sequentially\n",
    "test_create_orders()\n",
    "print(\"\\n\")\n",
    "test_get_all_orders()\n",
    "print(\"\\n\")\n",
    "test_get_order(2)\n",
    "print(\"\\n\")\n",
    "test_update_order(3)\n",
    "print(\"\\n\")\n",
    "test_delete_order(1)\n",
    "print(\"\\n\")\n",
    "test_get_all_orders()"
   ]
  },
  {
   "cell_type": "code",
   "execution_count": null,
   "id": "90e15f8e-9291-4875-8022-23bb6d562fe6",
   "metadata": {},
   "outputs": [],
   "source": []
  },
  {
   "cell_type": "code",
   "execution_count": 41,
   "id": "5a7c5f29-9d7c-4f02-a8ce-c2437d2e2c0b",
   "metadata": {
    "tags": []
   },
   "outputs": [],
   "source": [
    "card_data = {\n",
    "    'payload': {'key1': 'value1', 'key2': 'value2'},\n",
    "    'timestamp': time.time()\n",
    "}\n",
    "\n",
    "card_data2 = {\n",
    "    'payload': {'key3': 'value3', 'key4': 'value4'},\n",
    "    'timestamp': time.time()\n",
    "}\n",
    "\n",
    "card_data3 = {\n",
    "    'payload': {'key5': 'value5', 'key6': 'value6'},\n",
    "    'timestamp': time.time()\n",
    "}\n",
    "\n",
    "card_data4 = {\n",
    "    'payload': {'key7': 'value7', 'key8': 'value8'},\n",
    "    'timestamp': time.time()\n",
    "}"
   ]
  },
  {
   "cell_type": "code",
   "execution_count": 46,
   "id": "43d14573-257e-4075-a432-68feb7ef9513",
   "metadata": {
    "tags": []
   },
   "outputs": [
    {
     "name": "stdout",
     "output_type": "stream",
     "text": [
      "testing test_create_card, response: \n",
      " {'id': 1, 'payload': {'key1': 'value1', 'key2': 'value2'}, 'timestamp': 1690453026.4475484, 'uid': '36328e64-5c3a-4013-9e9a-dd13785740b2'}\n",
      "testing test_create_card, response: \n",
      " {'id': 2, 'payload': {'key3': 'value3', 'key4': 'value4'}, 'timestamp': 1690453026.4476397, 'uid': '3f64165f-e19a-440d-a318-b53adb788ba6'}\n",
      "testing test_create_card, response: \n",
      " {'id': 3, 'payload': {'key5': 'value5', 'key6': 'value6'}, 'timestamp': 1690453026.447714, 'uid': '78aac587-f636-443a-b0ce-193f3728f02c'}\n",
      "testing test_create_card, response: \n",
      " {'id': 4, 'payload': {'key7': 'value7', 'key8': 'value8'}, 'timestamp': 1690453026.4477813, 'uid': '72760bd5-06ea-4d23-a43d-2483069a84fe'}\n",
      "\n",
      "\n"
     ]
    }
   ],
   "source": [
    "# Define the base URL for the API endpoints\n",
    "base_url = 'http://localhost:5009'\n",
    "\n",
    "# Test GET /cards\n",
    "def test_get_all_cards():\n",
    "    url = f'{base_url}/cards'\n",
    "    response = requests.get(url)\n",
    "    print(f\"testing test_get_all_cards, response: \\n {response.json()}\")\n",
    "    assert response.status_code == 200\n",
    "    # Assert other expectations on the response data\n",
    "\n",
    "# Test POST /cards\n",
    "def test_create_card():\n",
    "    url = f'{base_url}/cards'\n",
    "    response = requests.post(url, json=card_data)\n",
    "    print(f\"testing test_create_card, response: \\n {response.json()}\")\n",
    "    assert response.status_code == 201\n",
    "    response1 = requests.post(url, json=card_data2)\n",
    "    print(f\"testing test_create_card, response: \\n {response1.json()}\")\n",
    "    assert response1.status_code == 201\n",
    "    response2 = requests.post(url, json=card_data3)\n",
    "    print(f\"testing test_create_card, response: \\n {response2.json()}\")\n",
    "    assert response2.status_code == 201\n",
    "    response3 = requests.post(url, json=card_data4)\n",
    "    print(f\"testing test_create_card, response: \\n {response3.json()}\")\n",
    "    assert response3.status_code == 201\n",
    "    # Assert other expectations on the response data\n",
    "\n",
    "# Test GET /cards/{uid}\n",
    "def test_get_card(uid):\n",
    "    url = f'{base_url}/cards/{uid}'\n",
    "    response = requests.get(url)\n",
    "    print(f\"testing test_get_card, response: \\n {response.json()}\")\n",
    "    assert response.status_code == 200\n",
    "    # Assert other expectations on the response data\n",
    "\n",
    "# Test PUT /cards/{id}\n",
    "def test_update_card(id):\n",
    "    url = f'{base_url}/cards/{id}'\n",
    "    data = {\n",
    "        'payload': {'key1': 'updated_value1', 'key2': 'updated_value2'},\n",
    "    }\n",
    "    response = requests.put(url, json=data)\n",
    "    print(f\"testing test_update_card, response: \\n {response.json()}\")\n",
    "    assert response.status_code == 200\n",
    "    # Assert other expectations on the response data\n",
    "\n",
    "# Test DELETE /cards/{id}\n",
    "def test_delete_card(id):\n",
    "    url = f'{base_url}/cards/{id}'\n",
    "    response = requests.delete(url)\n",
    "    print(f\"testing test_delete_card, response: \\n {response.json()}\")\n",
    "    assert response.status_code == 200\n",
    "    # Assert other expectations on the response data\n",
    "\n",
    "# Run the tests sequentially\n",
    "test_create_card()\n",
    "print(\"\\n\")\n",
    "# test_get_all_cards()\n",
    "# print(\"\\n\")\n",
    "# test_get_card(\"pbkdf2:sha256:260000$UdU01uSQfn0sCmf3$d93884ad034f129e6db16d2278168f4da1737204f4acdba3c1b78ec225ddcf0c\")\n",
    "# print(\"\\n\")\n",
    "# test_update_card(3)\n",
    "# print(\"\\n\")\n",
    "# test_delete_card(1)\n",
    "# print(\"\\n\")\n",
    "# test_get_all_cards()\n"
   ]
  },
  {
   "cell_type": "code",
   "execution_count": null,
   "id": "d0185bf5-cff9-4ab2-a1f6-8a07f5f22b13",
   "metadata": {},
   "outputs": [],
   "source": []
  },
  {
   "cell_type": "code",
   "execution_count": 45,
   "id": "1caf20ae-5376-41ac-ae4d-b61ca03be483",
   "metadata": {
    "tags": []
   },
   "outputs": [
    {
     "name": "stdout",
     "output_type": "stream",
     "text": [
      "testing test_get_all_cards, response: \n",
      " []\n"
     ]
    }
   ],
   "source": [
    "test_get_all_cards()"
   ]
  },
  {
   "cell_type": "code",
   "execution_count": 47,
   "id": "d63a6f65-62f4-41c5-a89b-4a850ab7f355",
   "metadata": {
    "tags": []
   },
   "outputs": [
    {
     "name": "stdout",
     "output_type": "stream",
     "text": [
      "testing test_get_card, response: \n",
      " {'id': 2, 'payload': {'key3': 'value3', 'key4': 'value4'}, 'timestamp': 1690453026.4476397, 'uid': '3f64165f-e19a-440d-a318-b53adb788ba6'}\n"
     ]
    }
   ],
   "source": [
    "test_get_card(\"3f64165f-e19a-440d-a318-b53adb788ba6\")"
   ]
  },
  {
   "cell_type": "code",
   "execution_count": 49,
   "id": "0717a8a2-1da2-4bd3-97ad-76e107704ce0",
   "metadata": {
    "tags": []
   },
   "outputs": [],
   "source": [
    "task_data = {\n",
    "    'order_uid': 'order123',\n",
    "    'next_service_date': 1678900000,\n",
    "    'timestamp': time.time()\n",
    "}\n",
    "\n",
    "task_data2 = {\n",
    "    'order_uid': 'order456',\n",
    "    'next_service_date': 1678900000,\n",
    "    'timestamp': time.time()\n",
    "}\n",
    "\n",
    "task_data3 = {\n",
    "    'order_uid': 'order789',\n",
    "    'next_service_date': 1678900000,\n",
    "    'timestamp': time.time()\n",
    "}\n",
    "\n",
    "task_data4 = {\n",
    "    'order_uid': 'order987',\n",
    "    'next_service_date': 1678900000,\n",
    "    'timestamp': time.time()\n",
    "}\n"
   ]
  },
  {
   "cell_type": "code",
   "execution_count": 50,
   "id": "cf5ee88e-7624-4d8b-97c8-1ece9a57316e",
   "metadata": {
    "tags": []
   },
   "outputs": [
    {
     "name": "stdout",
     "output_type": "stream",
     "text": [
      "Testing POST /tasks, response: \n",
      " {'id': 1, 'next_service_date': 1678900000, 'order_uid': 'order123', 'timestamp': 1690453183.3358524, 'uid': 'e49f36da-8c50-4fb1-b919-ea9a3346388a'}\n",
      "Testing POST /tasks, response: \n",
      " {'id': 2, 'next_service_date': 1678900000, 'order_uid': 'order456', 'timestamp': 1690453183.3359137, 'uid': 'ed9890c4-348c-4e7e-b111-9548278f9de8'}\n",
      "Testing POST /tasks, response: \n",
      " {'id': 3, 'next_service_date': 1678900000, 'order_uid': 'order789', 'timestamp': 1690453183.3359575, 'uid': '97e3058a-0116-468e-8eef-66a74ebd7af4'}\n",
      "Testing POST /tasks, response: \n",
      " {'id': 4, 'next_service_date': 1678900000, 'order_uid': 'order987', 'timestamp': 1690453183.3359966, 'uid': '90feb8c6-922c-464d-b343-ca43cc84e6ed'}\n",
      "\n",
      "\n",
      "Testing GET /tasks, response: \n",
      " [{'id': 1, 'next_service_date': 1678900000, 'order_uid': 'order123', 'timestamp': 1690453183.3358524, 'uid': 'e49f36da-8c50-4fb1-b919-ea9a3346388a'}, {'id': 2, 'next_service_date': 1678900000, 'order_uid': 'order456', 'timestamp': 1690453183.3359137, 'uid': 'ed9890c4-348c-4e7e-b111-9548278f9de8'}, {'id': 3, 'next_service_date': 1678900000, 'order_uid': 'order789', 'timestamp': 1690453183.3359575, 'uid': '97e3058a-0116-468e-8eef-66a74ebd7af4'}, {'id': 4, 'next_service_date': 1678900000, 'order_uid': 'order987', 'timestamp': 1690453183.3359966, 'uid': '90feb8c6-922c-464d-b343-ca43cc84e6ed'}]\n",
      "\n",
      "\n",
      "Testing GET /tasks/2, response: \n",
      " {'id': 2, 'next_service_date': 1678900000, 'order_uid': 'order456', 'timestamp': 1690453183.3359137, 'uid': 'ed9890c4-348c-4e7e-b111-9548278f9de8'}\n",
      "\n",
      "\n",
      "Testing PUT /tasks/3, response: \n",
      " {'id': 3, 'next_service_date': 1680000000, 'order_uid': 'order789', 'timestamp': 1690453183.3359575, 'uid': '97e3058a-0116-468e-8eef-66a74ebd7af4'}\n",
      "\n",
      "\n",
      "Testing DELETE /tasks/1, response: \n",
      " {'message': 'Task deleted.'}\n",
      "\n",
      "\n",
      "Testing GET /tasks, response: \n",
      " [{'id': 1, 'next_service_date': 1678900000, 'order_uid': 'order123', 'timestamp': 1690453183.3358524, 'uid': 'e49f36da-8c50-4fb1-b919-ea9a3346388a'}, {'id': 2, 'next_service_date': 1678900000, 'order_uid': 'order456', 'timestamp': 1690453183.3359137, 'uid': 'ed9890c4-348c-4e7e-b111-9548278f9de8'}, {'id': 3, 'next_service_date': 1680000000, 'order_uid': 'order789', 'timestamp': 1690453183.3359575, 'uid': '97e3058a-0116-468e-8eef-66a74ebd7af4'}, {'id': 4, 'next_service_date': 1678900000, 'order_uid': 'order987', 'timestamp': 1690453183.3359966, 'uid': '90feb8c6-922c-464d-b343-ca43cc84e6ed'}]\n"
     ]
    }
   ],
   "source": [
    "# Define the base URL for the API endpoints\n",
    "base_url = 'http://localhost:5009'\n",
    "\n",
    "# Test GET /tasks\n",
    "def test_get_all_tasks():\n",
    "    url = f'{base_url}/tasks'\n",
    "    response = requests.get(url)\n",
    "    print(f\"Testing GET /tasks, response: \\n {response.json()}\")\n",
    "    assert response.status_code == 200\n",
    "    # Assert other expectations on the response data\n",
    "\n",
    "# Test POST /tasks\n",
    "def test_create_task():\n",
    "    url = f'{base_url}/tasks'\n",
    "    response = requests.post(url, json=task_data)\n",
    "    print(f\"Testing POST /tasks, response: \\n {response.json()}\")\n",
    "    assert response.status_code == 201\n",
    "    response1 = requests.post(url, json=task_data2)\n",
    "    print(f\"Testing POST /tasks, response: \\n {response1.json()}\")\n",
    "    assert response1.status_code == 201\n",
    "    response2 = requests.post(url, json=task_data3)\n",
    "    print(f\"Testing POST /tasks, response: \\n {response2.json()}\")\n",
    "    assert response2.status_code == 201\n",
    "    response3 = requests.post(url, json=task_data4)\n",
    "    print(f\"Testing POST /tasks, response: \\n {response3.json()}\")\n",
    "    assert response3.status_code == 201\n",
    "    # Assert other expectations on the response data\n",
    "\n",
    "# Test GET /tasks/{id}\n",
    "def test_get_task(id):\n",
    "    url = f'{base_url}/tasks/{id}'\n",
    "    response = requests.get(url)\n",
    "    print(f\"Testing GET /tasks/{id}, response: \\n {response.json()}\")\n",
    "    assert response.status_code == 200\n",
    "    # Assert other expectations on the response data\n",
    "\n",
    "# Test PUT /tasks/{id}\n",
    "def test_update_task(id):\n",
    "    url = f'{base_url}/tasks/{id}'\n",
    "    data = {\n",
    "        'next_service_date': 1680000000,\n",
    "    }\n",
    "    response = requests.put(url, json=data)\n",
    "    print(f\"Testing PUT /tasks/{id}, response: \\n {response.json()}\")\n",
    "    assert response.status_code == 200\n",
    "    # Assert other expectations on the response data\n",
    "\n",
    "# Test DELETE /tasks/{id}\n",
    "def test_delete_task(id):\n",
    "    url = f'{base_url}/tasks/{id}'\n",
    "    response = requests.delete(url)\n",
    "    print(f\"Testing DELETE /tasks/{id}, response: \\n {response.json()}\")\n",
    "    assert response.status_code == 200\n",
    "    # Assert other expectations on the response data\n",
    "\n",
    "# Run the tests sequentially\n",
    "test_create_task()\n",
    "print(\"\\n\")\n",
    "test_get_all_tasks()\n",
    "print(\"\\n\")\n",
    "test_get_task(2)\n",
    "print(\"\\n\")\n",
    "test_update_task(3)\n",
    "print(\"\\n\")\n",
    "test_delete_task(1)\n",
    "print(\"\\n\")\n",
    "test_get_all_tasks()\n"
   ]
  },
  {
   "cell_type": "code",
   "execution_count": null,
   "id": "b27a1b0b-b151-4546-8500-4a950242bb3a",
   "metadata": {},
   "outputs": [],
   "source": []
  },
  {
   "cell_type": "code",
   "execution_count": 8,
   "id": "dc95d3cf-93b2-4a23-8ad0-f47b567300d3",
   "metadata": {
    "tags": []
   },
   "outputs": [],
   "source": [
    "geo_data = {\n",
    "    'latitude': 51.5074,\n",
    "    'longitude': -0.1278,\n",
    "    'timestamp': time.time()\n",
    "}\n",
    "\n",
    "geo_data2 = {\n",
    "    'latitude': 40.7128,\n",
    "    'longitude': -74.0060,\n",
    "    'timestamp': time.time()\n",
    "}\n",
    "\n",
    "geo_data3 = {\n",
    "    'latitude': 48.8566,\n",
    "    'longitude': 2.3522,\n",
    "    'timestamp': time.time()\n",
    "}\n",
    "\n",
    "geo_data4 = {\n",
    "    'latitude': 34.0522,\n",
    "    'longitude': -118.2437,\n",
    "    'timestamp': time.time()\n",
    "}\n"
   ]
  },
  {
   "cell_type": "code",
   "execution_count": 9,
   "id": "80114123-532b-41ab-ad51-fc7084b38aa9",
   "metadata": {
    "tags": []
   },
   "outputs": [],
   "source": [
    "# telegram bot current-location-drop dump\n",
    "bot_message =  {'update_id': 276580166, 'message': {'message_id': 316, 'from': {'id': 1529145263, 'is_bot': False, 'first_name': 'Joe', 'last_name': 'Gitau 🇰🇪', 'username': 'JahSwish', 'language_code': 'en'}, 'chat': {'id': 1529145263, 'first_name': 'Joe', 'last_name': 'Gitau 🇰🇪', 'username': 'JahSwish', 'type': 'private'}, 'date': 1690300892, 'location': {'latitude': -1.223427, 'longitude': 36.900053}, 'venue': {'location': {'latitude': -1.223427, 'longitude': 36.900053}, 'title': 'Sportsview Hotel Kasarani', 'address': 'P.O Box 74194', 'foursquare_id': '4e13099c7d8b4d5613e8768e'}}}\n"
   ]
  },
  {
   "cell_type": "code",
   "execution_count": 10,
   "id": "2b928626-d093-4286-807c-5cd7114571ad",
   "metadata": {
    "tags": []
   },
   "outputs": [
    {
     "data": {
      "text/plain": [
       "dict_keys(['update_id', 'message'])"
      ]
     },
     "execution_count": 10,
     "metadata": {},
     "output_type": "execute_result"
    }
   ],
   "source": [
    "bot_message.keys()"
   ]
  },
  {
   "cell_type": "code",
   "execution_count": 11,
   "id": "af91bd6d-a531-42a4-b8ff-26e6454523da",
   "metadata": {
    "tags": []
   },
   "outputs": [
    {
     "data": {
      "text/plain": [
       "{'latitude': -1.223427, 'longitude': 36.900053}"
      ]
     },
     "execution_count": 11,
     "metadata": {},
     "output_type": "execute_result"
    }
   ],
   "source": [
    "user_location_1 = bot_message['message']['location']\n",
    "user_location_1"
   ]
  },
  {
   "cell_type": "code",
   "execution_count": 12,
   "id": "5b7e0163-3def-47c9-b15d-0c73af480391",
   "metadata": {
    "tags": []
   },
   "outputs": [],
   "source": [
    "# test data 2 is \n",
    "bot_message2 = {'update_id': 276580168, 'message': {'message_id': 318, 'from': {'id': 1529145263, 'is_bot': False, 'first_name': 'Joe', 'last_name': 'Gitau 🇰🇪', 'username': 'JahSwish', 'language_code': 'en'}, 'chat': {'id': 1529145263, 'first_name': 'Joe', 'last_name': 'Gitau 🇰🇪', 'username': 'JahSwish', 'type': 'private'}, 'date': 1690301672, 'location': {'latitude': -1.250774, 'longitude': 36.928597}}}"
   ]
  },
  {
   "cell_type": "code",
   "execution_count": 13,
   "id": "36a4c6ce-7e7d-49fb-85ce-d3b5e99ac7ee",
   "metadata": {
    "tags": []
   },
   "outputs": [
    {
     "data": {
      "text/plain": [
       "{'latitude': -1.250774, 'longitude': 36.928597}"
      ]
     },
     "execution_count": 13,
     "metadata": {},
     "output_type": "execute_result"
    }
   ],
   "source": [
    "user_location_2 = bot_message2['message']['location']\n",
    "user_location_2"
   ]
  },
  {
   "cell_type": "code",
   "execution_count": 14,
   "id": "66a260bc-9e4e-44c8-a5db-ba23c1b7a1aa",
   "metadata": {
    "tags": []
   },
   "outputs": [],
   "source": [
    "bot_message_3 = {'update_id': 276580172, 'message': {'message_id': 327, 'from': {'id': 1529145263, 'is_bot': False, 'first_name': 'Joe', 'last_name': 'Gitau 🇰🇪', 'username': 'JahSwish', 'language_code': 'en'}, 'chat': {'id': 1529145263, 'first_name': 'Joe', 'last_name': 'Gitau 🇰🇪', 'username': 'JahSwish', 'type': 'private'}, 'date': 1690303005, 'location': {'latitude': -1.250782, 'longitude': 36.928586}}}"
   ]
  },
  {
   "cell_type": "code",
   "execution_count": 15,
   "id": "aa603fa0-1500-4abe-a7fe-fc8a1c96f50c",
   "metadata": {
    "tags": []
   },
   "outputs": [
    {
     "data": {
      "text/plain": [
       "{'latitude': -1.250782, 'longitude': 36.928586}"
      ]
     },
     "execution_count": 15,
     "metadata": {},
     "output_type": "execute_result"
    }
   ],
   "source": [
    "user_location_3 = bot_message_3['message']['location']\n",
    "user_location_3"
   ]
  },
  {
   "cell_type": "code",
   "execution_count": 16,
   "id": "7cdf4745-dea4-43eb-b477-8a2a7ec5ad61",
   "metadata": {},
   "outputs": [],
   "source": [
    "# outside"
   ]
  },
  {
   "cell_type": "code",
   "execution_count": 17,
   "id": "7fbc72b7-6dcf-44a6-919d-8115b60cb579",
   "metadata": {
    "tags": []
   },
   "outputs": [],
   "source": [
    "bot_message_4 =  {'update_id': 276580175, 'message': {'message_id': 332, 'from': {'id': 1529145263, 'is_bot': False, 'first_name': 'Joe', 'last_name': 'Gitau 🇰🇪', 'username': 'JahSwish', 'language_code': 'en'}, 'chat': {'id': 1529145263, 'first_name': 'Joe', 'last_name': 'Gitau 🇰🇪', 'username': 'JahSwish', 'type': 'private'}, 'date': 1690310280, 'location': {'latitude': -1.25052, 'longitude': 36.928005}}}"
   ]
  },
  {
   "cell_type": "code",
   "execution_count": 18,
   "id": "caea7e46-1bb0-4725-b3d0-714bdd06e401",
   "metadata": {
    "tags": []
   },
   "outputs": [],
   "source": [
    "user_location_4 = bot_message_4['message']['location']"
   ]
  },
  {
   "cell_type": "code",
   "execution_count": 19,
   "id": "5c4ae958-9b1d-461f-9e2a-bbabe233d8ca",
   "metadata": {
    "tags": []
   },
   "outputs": [
    {
     "data": {
      "text/plain": [
       "{'latitude': -1.25052, 'longitude': 36.928005}"
      ]
     },
     "execution_count": 19,
     "metadata": {},
     "output_type": "execute_result"
    }
   ],
   "source": [
    "user_location_4"
   ]
  },
  {
   "cell_type": "code",
   "execution_count": 20,
   "id": "53bd8708-5af1-420d-a38c-33a1254a8d2b",
   "metadata": {
    "tags": []
   },
   "outputs": [],
   "source": [
    "bot_message_5 =  {'update_id': 276580176, 'message': {'message_id': 333, 'from': {'id': 1529145263, 'is_bot': False, 'first_name': 'Joe', 'last_name': 'Gitau 🇰🇪', 'username': 'JahSwish', 'language_code': 'en'}, 'chat': {'id': 1529145263, 'first_name': 'Joe', 'last_name': 'Gitau 🇰🇪', 'username': 'JahSwish', 'type': 'private'}, 'date': 1690310280, 'location': {'latitude': -1.250507, 'longitude': 36.927628}}}"
   ]
  },
  {
   "cell_type": "code",
   "execution_count": 21,
   "id": "3b26d30e-05d6-4a70-9091-5252dc672374",
   "metadata": {
    "tags": []
   },
   "outputs": [
    {
     "data": {
      "text/plain": [
       "{'latitude': -1.250507, 'longitude': 36.927628}"
      ]
     },
     "execution_count": 21,
     "metadata": {},
     "output_type": "execute_result"
    }
   ],
   "source": [
    "user_location_5 = bot_message_5['message']['location']\n",
    "user_location_5\n"
   ]
  },
  {
   "cell_type": "code",
   "execution_count": 22,
   "id": "4a946166-5d53-439d-9bc7-e04e03a4a35e",
   "metadata": {
    "tags": []
   },
   "outputs": [],
   "source": [
    "bot_message_6 = {'update_id': 276580177, 'message': {'message_id': 334, 'from': {'id': 1529145263, 'is_bot': False, 'first_name': 'Joe', 'last_name': 'Gitau 🇰🇪', 'username': 'JahSwish', 'language_code': 'en'}, 'chat': {'id': 1529145263, 'first_name': 'Joe', 'last_name': 'Gitau 🇰🇪', 'username': 'JahSwish', 'type': 'private'}, 'date': 1690310280, 'location': {'latitude': -1.250554, 'longitude': 36.927611}}}"
   ]
  },
  {
   "cell_type": "code",
   "execution_count": 23,
   "id": "37491f7d-a1fc-42e6-b5a5-50ea5c28523d",
   "metadata": {
    "tags": []
   },
   "outputs": [
    {
     "data": {
      "text/plain": [
       "{'latitude': -1.250554, 'longitude': 36.927611}"
      ]
     },
     "execution_count": 23,
     "metadata": {},
     "output_type": "execute_result"
    }
   ],
   "source": [
    "user_location_6 = bot_message_6['message']['location']\n",
    "user_location_6"
   ]
  },
  {
   "cell_type": "code",
   "execution_count": 24,
   "id": "7641fed8-c497-43e4-8c64-3538c5cdce99",
   "metadata": {
    "tags": []
   },
   "outputs": [],
   "source": [
    "bot_message_7 = {'update_id': 276580178, 'message': {'message_id': 335, 'from': {'id': 1529145263, 'is_bot': False, 'first_name': 'Joe', 'last_name': 'Gitau 🇰🇪', 'username': 'JahSwish', 'language_code': 'en'}, 'chat': {'id': 1529145263, 'first_name': 'Joe', 'last_name': 'Gitau 🇰🇪', 'username': 'JahSwish', 'type': 'private'}, 'date': 1690310280, 'location': {'latitude': -1.250656, 'longitude': 36.9265}}}"
   ]
  },
  {
   "cell_type": "code",
   "execution_count": 25,
   "id": "6aa21fac-ab63-4992-8bfd-17a03f8aea3e",
   "metadata": {
    "tags": []
   },
   "outputs": [
    {
     "data": {
      "text/plain": [
       "{'latitude': -1.250656, 'longitude': 36.9265}"
      ]
     },
     "execution_count": 25,
     "metadata": {},
     "output_type": "execute_result"
    }
   ],
   "source": [
    "user_location_7 = bot_message_7['message']['location']\n",
    "user_location_7"
   ]
  },
  {
   "cell_type": "code",
   "execution_count": 26,
   "id": "b760cd46-d776-4170-9f01-8cd6995e6322",
   "metadata": {
    "tags": []
   },
   "outputs": [],
   "source": [
    "bot_message_8 = {'update_id': 276580179, 'message': {'message_id': 336, 'from': {'id': 1529145263, 'is_bot': False, 'first_name': 'Joe', 'last_name': 'Gitau 🇰🇪', 'username': 'JahSwish', 'language_code': 'en'}, 'chat': {'id': 1529145263, 'first_name': 'Joe', 'last_name': 'Gitau 🇰🇪', 'username': 'JahSwish', 'type': 'private'}, 'date': 1690310280, 'location': {'latitude': -1.251008, 'longitude': 36.925542}}}"
   ]
  },
  {
   "cell_type": "code",
   "execution_count": 27,
   "id": "3bf2d226-ec93-4048-af34-8f3c00e1e052",
   "metadata": {
    "tags": []
   },
   "outputs": [
    {
     "data": {
      "text/plain": [
       "{'latitude': -1.251008, 'longitude': 36.925542}"
      ]
     },
     "execution_count": 27,
     "metadata": {},
     "output_type": "execute_result"
    }
   ],
   "source": [
    "user_location_8 = bot_message_8['message']['location']\n",
    "user_location_8"
   ]
  },
  {
   "cell_type": "code",
   "execution_count": 28,
   "id": "97861a38-2d8b-4775-8e80-9be06770d3df",
   "metadata": {
    "tags": []
   },
   "outputs": [],
   "source": [
    "bot_message_9 = {'update_id': 276580180, 'message': {'message_id': 337, 'from': {'id': 1529145263, 'is_bot': False, 'first_name': 'Joe', 'last_name': 'Gitau 🇰🇪', 'username': 'JahSwish', 'language_code': 'en'}, 'chat': {'id': 1529145263, 'first_name': 'Joe', 'last_name': 'Gitau 🇰🇪', 'username': 'JahSwish', 'type': 'private'}, 'date': 1690310280, 'location': {'latitude': -1.251868, 'longitude': 36.923237}}}"
   ]
  },
  {
   "cell_type": "code",
   "execution_count": 29,
   "id": "4fcaa581-6139-4198-9105-8f9afb3d6c19",
   "metadata": {
    "tags": []
   },
   "outputs": [
    {
     "data": {
      "text/plain": [
       "{'latitude': -1.251868, 'longitude': 36.923237}"
      ]
     },
     "execution_count": 29,
     "metadata": {},
     "output_type": "execute_result"
    }
   ],
   "source": [
    "user_location_9 = bot_message_9['message']['location']\n",
    "user_location_9"
   ]
  },
  {
   "cell_type": "code",
   "execution_count": 30,
   "id": "4415ae73-4b5f-4939-9515-1eb63899fe2e",
   "metadata": {
    "tags": []
   },
   "outputs": [],
   "source": [
    "bot_message_10 = {'update_id': 276580184, 'message': {'message_id': 342, 'from': {'id': 1529145263, 'is_bot': False, 'first_name': 'Joe', 'last_name': 'Gitau 🇰🇪', 'username': 'JahSwish', 'language_code': 'en'}, 'chat': {'id': 1529145263, 'first_name': 'Joe', 'last_name': 'Gitau 🇰🇪', 'username': 'JahSwish', 'type': 'private'}, 'date': 1690370029, 'location': {'latitude': -1.25041, 'longitude': 36.948202}}}"
   ]
  },
  {
   "cell_type": "code",
   "execution_count": 31,
   "id": "d1e9c84e-0ee0-40a6-b89a-2291080d301e",
   "metadata": {
    "tags": []
   },
   "outputs": [
    {
     "data": {
      "text/plain": [
       "{'latitude': -1.25041, 'longitude': 36.948202}"
      ]
     },
     "execution_count": 31,
     "metadata": {},
     "output_type": "execute_result"
    }
   ],
   "source": [
    "user_location_10 = bot_message_10['message']['location']\n",
    "user_location_10"
   ]
  },
  {
   "cell_type": "code",
   "execution_count": 32,
   "id": "5aa1cd8d-17ac-4210-98cb-98cdeb217a24",
   "metadata": {
    "tags": []
   },
   "outputs": [],
   "source": [
    "bot_message_11 = {'update_id': 276580184, 'message': {'message_id': 342, 'from': {'id': 1529145263, 'is_bot': False, 'first_name': 'Joe', 'last_name': 'Gitau 🇰🇪', 'username': 'JahSwish', 'language_code': 'en'}, 'chat': {'id': 1529145263, 'first_name': 'Joe', 'last_name': 'Gitau 🇰🇪', 'username': 'JahSwish', 'type': 'private'}, 'date': 1690370029, 'location': {'latitude': -1.25041, 'longitude': 36.948202}}}"
   ]
  },
  {
   "cell_type": "code",
   "execution_count": 33,
   "id": "a8efa15d-a8bb-4618-aca9-e719ea4db1b5",
   "metadata": {
    "tags": []
   },
   "outputs": [
    {
     "data": {
      "text/plain": [
       "{'latitude': -1.25041, 'longitude': 36.948202}"
      ]
     },
     "execution_count": 33,
     "metadata": {},
     "output_type": "execute_result"
    }
   ],
   "source": [
    "user_location_11 = bot_message_11['message']['location']\n",
    "user_location_11"
   ]
  },
  {
   "cell_type": "code",
   "execution_count": 34,
   "id": "766f5838-76e9-4f1b-9e13-962d658b9e2c",
   "metadata": {
    "tags": []
   },
   "outputs": [],
   "source": [
    "bot_message_12 = {'update_id': 276580184, 'message': {'message_id': 342, 'from': {'id': 1529145263, 'is_bot': False, 'first_name': 'Joe', 'last_name': 'Gitau 🇰🇪', 'username': 'JahSwish', 'language_code': 'en'}, 'chat': {'id': 1529145263, 'first_name': 'Joe', 'last_name': 'Gitau 🇰🇪', 'username': 'JahSwish', 'type': 'private'}, 'date': 1690370029, 'location': {'latitude': -1.25041, 'longitude': 36.948202}}}"
   ]
  },
  {
   "cell_type": "code",
   "execution_count": 35,
   "id": "e14c8c60-c5e3-47fe-8a39-1cd804662d61",
   "metadata": {
    "tags": []
   },
   "outputs": [
    {
     "data": {
      "text/plain": [
       "{'latitude': -1.25041, 'longitude': 36.948202}"
      ]
     },
     "execution_count": 35,
     "metadata": {},
     "output_type": "execute_result"
    }
   ],
   "source": [
    "user_location_12 = bot_message_12['message']['location']\n",
    "user_location_12"
   ]
  },
  {
   "cell_type": "code",
   "execution_count": 36,
   "id": "773b24a5-2f9d-4736-b48c-fc17c830c056",
   "metadata": {
    "tags": []
   },
   "outputs": [],
   "source": [
    "bot_message_13 = {'update_id': 276580185, 'message': {'message_id': 343, 'from': {'id': 1529145263, 'is_bot': False, 'first_name': 'Joe', 'last_name': 'Gitau 🇰🇪', 'username': 'JahSwish', 'language_code': 'en'}, 'chat': {'id': 1529145263, 'first_name': 'Joe', 'last_name': 'Gitau 🇰🇪', 'username': 'JahSwish', 'type': 'private'}, 'date': 1690378546, 'location': {'latitude': -1.249053, 'longitude': 36.943548}}}"
   ]
  },
  {
   "cell_type": "code",
   "execution_count": 37,
   "id": "e1cdf270-aed1-41ae-8a33-33e3bbf02ffe",
   "metadata": {
    "tags": []
   },
   "outputs": [
    {
     "data": {
      "text/plain": [
       "{'latitude': -1.249053, 'longitude': 36.943548}"
      ]
     },
     "execution_count": 37,
     "metadata": {},
     "output_type": "execute_result"
    }
   ],
   "source": [
    "user_location_13 = bot_message_13['message']['location']\n",
    "user_location_13"
   ]
  },
  {
   "cell_type": "code",
   "execution_count": 38,
   "id": "9547d36b-b1e1-4cbb-9bbf-6fe2ea0782ff",
   "metadata": {
    "tags": []
   },
   "outputs": [],
   "source": [
    "bot_message_14 = {'update_id': 276580186, 'message': {'message_id': 344, 'from': {'id': 1529145263, 'is_bot': False, 'first_name': 'Joe', 'last_name': 'Gitau 🇰🇪', 'username': 'JahSwish', 'language_code': 'en'}, 'chat': {'id': 1529145263, 'first_name': 'Joe', 'last_name': 'Gitau 🇰🇪', 'username': 'JahSwish', 'type': 'private'}, 'date': 1690378547, 'location': {'latitude': -1.249477, 'longitude': 36.942311}}}"
   ]
  },
  {
   "cell_type": "code",
   "execution_count": 39,
   "id": "7f42ae10-c0d3-4519-ad5c-265609cac92a",
   "metadata": {
    "tags": []
   },
   "outputs": [
    {
     "data": {
      "text/plain": [
       "{'latitude': -1.249477, 'longitude': 36.942311}"
      ]
     },
     "execution_count": 39,
     "metadata": {},
     "output_type": "execute_result"
    }
   ],
   "source": [
    "user_location_14 = bot_message_14['message']['location']\n",
    "user_location_14"
   ]
  },
  {
   "cell_type": "code",
   "execution_count": 40,
   "id": "2d6b29da-3790-4355-961d-79514e5a2de4",
   "metadata": {
    "tags": []
   },
   "outputs": [],
   "source": [
    "bot_message_15 = {'update_id': 276580187, 'message': {'message_id': 345, 'from': {'id': 1529145263, 'is_bot': False, 'first_name': 'Joe', 'last_name': 'Gitau 🇰🇪', 'username': 'JahSwish', 'language_code': 'en'}, 'chat': {'id': 1529145263, 'first_name': 'Joe', 'last_name': 'Gitau 🇰🇪', 'username': 'JahSwish', 'type': 'private'}, 'date': 1690378564, 'location': {'latitude': -1.250336, 'longitude': 36.940495}}}"
   ]
  },
  {
   "cell_type": "code",
   "execution_count": 41,
   "id": "95e1f49b-e592-4d75-a457-d4aefe9eb78e",
   "metadata": {
    "tags": []
   },
   "outputs": [
    {
     "data": {
      "text/plain": [
       "{'latitude': -1.250336, 'longitude': 36.940495}"
      ]
     },
     "execution_count": 41,
     "metadata": {},
     "output_type": "execute_result"
    }
   ],
   "source": [
    "user_location_15 = bot_message_15['message']['location']\n",
    "user_location_15"
   ]
  },
  {
   "cell_type": "code",
   "execution_count": 42,
   "id": "962064e9-fd28-4912-8e07-eab51346d0ed",
   "metadata": {
    "tags": []
   },
   "outputs": [],
   "source": [
    "bot_message_16 = {'update_id': 276580188, 'message': {'message_id': 346, 'from': {'id': 1529145263, 'is_bot': False, 'first_name': 'Joe', 'last_name': 'Gitau 🇰🇪', 'username': 'JahSwish', 'language_code': 'en'}, 'chat': {'id': 1529145263, 'first_name': 'Joe', 'last_name': 'Gitau 🇰🇪', 'username': 'JahSwish', 'type': 'private'}, 'date': 1690378564, 'location': {'latitude': -1.250784, 'longitude': 36.939504}}}"
   ]
  },
  {
   "cell_type": "code",
   "execution_count": 43,
   "id": "a642c4f9-8158-4995-a17e-11dcbba168c5",
   "metadata": {
    "tags": []
   },
   "outputs": [
    {
     "data": {
      "text/plain": [
       "{'latitude': -1.250784, 'longitude': 36.939504}"
      ]
     },
     "execution_count": 43,
     "metadata": {},
     "output_type": "execute_result"
    }
   ],
   "source": [
    "user_location_16 = bot_message_16['message']['location']\n",
    "user_location_16"
   ]
  },
  {
   "cell_type": "code",
   "execution_count": 44,
   "id": "9fa4c87b-85dd-496f-be41-273a26ef0f1c",
   "metadata": {
    "tags": []
   },
   "outputs": [
    {
     "data": {
      "text/plain": [
       "{'latitude': -1.251842, 'longitude': 36.93726}"
      ]
     },
     "execution_count": 44,
     "metadata": {},
     "output_type": "execute_result"
    }
   ],
   "source": [
    "bot_message_17 = {'update_id': 276580189, 'message': {'message_id': 347, 'from': {'id': 1529145263, 'is_bot': False, 'first_name': 'Joe', 'last_name': 'Gitau 🇰🇪', 'username': 'JahSwish', 'language_code': 'en'}, 'chat': {'id': 1529145263, 'first_name': 'Joe', 'last_name': 'Gitau 🇰🇪', 'username': 'JahSwish', 'type': 'private'}, 'date': 1690378565, 'location': {'latitude': -1.251842, 'longitude': 36.93726}}}\n",
    "user_location_17 = bot_message_17['message']['location']\n",
    "user_location_17"
   ]
  },
  {
   "cell_type": "code",
   "execution_count": 45,
   "id": "78e410bf-8e6b-45c4-9748-ad3cbb05c864",
   "metadata": {
    "tags": []
   },
   "outputs": [
    {
     "data": {
      "text/plain": [
       "{'latitude': -1.254679, 'longitude': 36.928651}"
      ]
     },
     "execution_count": 45,
     "metadata": {},
     "output_type": "execute_result"
    }
   ],
   "source": [
    "bot_message_18 = {'update_id': 276580190, 'message': {'message_id': 348, 'from': {'id': 1529145263, 'is_bot': False, 'first_name': 'Joe', 'last_name': 'Gitau 🇰🇪', 'username': 'JahSwish', 'language_code': 'en'}, 'chat': {'id': 1529145263, 'first_name': 'Joe', 'last_name': 'Gitau 🇰🇪', 'username': 'JahSwish', 'type': 'private'}, 'date': 1690378565, 'location': {'latitude': -1.254679, 'longitude': 36.928651}}}\n",
    "user_location_18 = bot_message_18['message']['location']\n",
    "user_location_18"
   ]
  },
  {
   "cell_type": "code",
   "execution_count": 46,
   "id": "2171e793-a20b-45e8-b9d5-baad9b7a73bd",
   "metadata": {
    "tags": []
   },
   "outputs": [
    {
     "data": {
      "text/plain": [
       "{'latitude': -1.253672, 'longitude': 36.928296}"
      ]
     },
     "execution_count": 46,
     "metadata": {},
     "output_type": "execute_result"
    }
   ],
   "source": [
    "bot_message_19 = {'update_id': 276580191, 'message': {'message_id': 349, 'from': {'id': 1529145263, 'is_bot': False, 'first_name': 'Joe', 'last_name': 'Gitau 🇰🇪', 'username': 'JahSwish', 'language_code': 'en'}, 'chat': {'id': 1529145263, 'first_name': 'Joe', 'last_name': 'Gitau 🇰🇪', 'username': 'JahSwish', 'type': 'private'}, 'date': 1690378565, 'location': {'latitude': -1.253672, 'longitude': 36.928296}}}\n",
    "user_location_19 = bot_message_19['message']['location']\n",
    "user_location_19"
   ]
  },
  {
   "cell_type": "code",
   "execution_count": 47,
   "id": "95dc7acf-38a2-493e-ab1a-dd7780f53393",
   "metadata": {
    "tags": []
   },
   "outputs": [
    {
     "data": {
      "text/plain": [
       "{'latitude': -1.25097, 'longitude': 36.928011}"
      ]
     },
     "execution_count": 47,
     "metadata": {},
     "output_type": "execute_result"
    }
   ],
   "source": [
    "bot_message_20 = {'update_id': 276580192, 'message': {'message_id': 350, 'from': {'id': 1529145263, 'is_bot': False, 'first_name': 'Joe', 'last_name': 'Gitau 🇰🇪', 'username': 'JahSwish', 'language_code': 'en'}, 'chat': {'id': 1529145263, 'first_name': 'Joe', 'last_name': 'Gitau 🇰🇪', 'username': 'JahSwish', 'type': 'private'}, 'date': 1690378595, 'location': {'latitude': -1.25097, 'longitude': 36.928011}}}\n",
    "user_location_20 = bot_message_20['message']['location']\n",
    "user_location_20"
   ]
  },
  {
   "cell_type": "code",
   "execution_count": 48,
   "id": "1855024a-c671-4c22-b8b5-7252a12e2f1f",
   "metadata": {
    "tags": []
   },
   "outputs": [],
   "source": [
    "# 26th July 2023"
   ]
  },
  {
   "cell_type": "code",
   "execution_count": 49,
   "id": "7579b9e7-d2eb-4448-8b61-ba456282e1e9",
   "metadata": {
    "tags": []
   },
   "outputs": [
    {
     "data": {
      "text/plain": [
       "{'latitude': -1.250799, 'longitude': 36.928563}"
      ]
     },
     "execution_count": 49,
     "metadata": {},
     "output_type": "execute_result"
    }
   ],
   "source": [
    "bot_message_21 = {'update_id': 276580194, 'message': {'message_id': 353, 'from': {'id': 1529145263, 'is_bot': False, 'first_name': 'Joe', 'last_name': 'Gitau 🇰🇪', 'username': 'JahSwish', 'language_code': 'en'}, 'chat': {'id': 1529145263, 'first_name': 'Joe', 'last_name': 'Gitau 🇰🇪', 'username': 'JahSwish', 'type': 'private'}, 'date': 1690393764, 'location': {'latitude': -1.250799, 'longitude': 36.928563}}}\n",
    "user_location_21 = bot_message_21['message']['location']\n",
    "user_location_21"
   ]
  },
  {
   "cell_type": "code",
   "execution_count": 50,
   "id": "d4c2e268-76f1-48ca-b80e-7151f5df56f5",
   "metadata": {
    "tags": []
   },
   "outputs": [
    {
     "data": {
      "text/plain": [
       "{'latitude': -1.251644, 'longitude': 36.923837}"
      ]
     },
     "execution_count": 50,
     "metadata": {},
     "output_type": "execute_result"
    }
   ],
   "source": [
    "bot_message_22 = {'update_id': 276580196, 'message': {'message_id': 355, 'from': {'id': 1529145263, 'is_bot': False, 'first_name': 'Joe', 'last_name': 'Gitau 🇰🇪', 'username': 'JahSwish', 'language_code': 'en'}, 'chat': {'id': 1529145263, 'first_name': 'Joe', 'last_name': 'Gitau 🇰🇪', 'username': 'JahSwish', 'type': 'private'}, 'date': 1690396066, 'location': {'latitude': -1.251644, 'longitude': 36.923837}}}\n",
    "user_location_22 = bot_message_22['message']['location']\n",
    "user_location_22"
   ]
  },
  {
   "cell_type": "code",
   "execution_count": 51,
   "id": "c3c9341c-c9ae-4f28-b528-be17a9745566",
   "metadata": {
    "tags": []
   },
   "outputs": [
    {
     "data": {
      "text/plain": [
       "{'latitude': -1.251719, 'longitude': 36.923597}"
      ]
     },
     "execution_count": 51,
     "metadata": {},
     "output_type": "execute_result"
    }
   ],
   "source": [
    "bot_message_23 = {'update_id': 276580197, 'message': {'message_id': 356, 'from': {'id': 1529145263, 'is_bot': False, 'first_name': 'Joe', 'last_name': 'Gitau 🇰🇪', 'username': 'JahSwish', 'language_code': 'en'}, 'chat': {'id': 1529145263, 'first_name': 'Joe', 'last_name': 'Gitau 🇰🇪', 'username': 'JahSwish', 'type': 'private'}, 'date': 1690396066, 'location': {'latitude': -1.251719, 'longitude': 36.923597}}}\n",
    "user_location_23 = bot_message_23['message']['location']\n",
    "user_location_23"
   ]
  },
  {
   "cell_type": "code",
   "execution_count": 52,
   "id": "17ee67bc-4f41-4ae8-8ade-7a52ec2b931d",
   "metadata": {
    "tags": []
   },
   "outputs": [
    {
     "data": {
      "text/plain": [
       "{'latitude': -1.251879, 'longitude': 36.923175}"
      ]
     },
     "execution_count": 52,
     "metadata": {},
     "output_type": "execute_result"
    }
   ],
   "source": [
    "bot_message_24 = {'update_id': 276580198, 'message': {'message_id': 357, 'from': {'id': 1529145263, 'is_bot': False, 'first_name': 'Joe', 'last_name': 'Gitau 🇰🇪', 'username': 'JahSwish', 'language_code': 'en'}, 'chat': {'id': 1529145263, 'first_name': 'Joe', 'last_name': 'Gitau 🇰🇪', 'username': 'JahSwish', 'type': 'private'}, 'date': 1690396066, 'location': {'latitude': -1.251879, 'longitude': 36.923175}}}\n",
    "user_location_24 = bot_message_24['message']['location']\n",
    "user_location_24"
   ]
  },
  {
   "cell_type": "code",
   "execution_count": 53,
   "id": "d055f850-ec89-4bb6-aa19-512e33906efa",
   "metadata": {
    "tags": []
   },
   "outputs": [
    {
     "data": {
      "text/plain": [
       "{'latitude': -1.252189, 'longitude': 36.923181}"
      ]
     },
     "execution_count": 53,
     "metadata": {},
     "output_type": "execute_result"
    }
   ],
   "source": [
    "bot_message_25 = {'update_id': 276580199, 'message': {'message_id': 358, 'from': {'id': 1529145263, 'is_bot': False, 'first_name': 'Joe', 'last_name': 'Gitau 🇰🇪', 'username': 'JahSwish', 'language_code': 'en'}, 'chat': {'id': 1529145263, 'first_name': 'Joe', 'last_name': 'Gitau 🇰🇪', 'username': 'JahSwish', 'type': 'private'}, 'date': 1690396066, 'location': {'latitude': -1.252189, 'longitude': 36.923181}}}\n",
    "user_location_25 = bot_message_25['message']['location']\n",
    "user_location_25"
   ]
  },
  {
   "cell_type": "code",
   "execution_count": null,
   "id": "e54a76e0-b3b0-4e0f-a9cb-5c603a744abc",
   "metadata": {},
   "outputs": [],
   "source": []
  },
  {
   "cell_type": "code",
   "execution_count": 54,
   "id": "15484ced-d156-486b-8a77-25e30f3bd3da",
   "metadata": {
    "tags": []
   },
   "outputs": [],
   "source": [
    "import redis"
   ]
  },
  {
   "cell_type": "code",
   "execution_count": 55,
   "id": "611c6754-19ba-4db9-a2f2-36340b358c60",
   "metadata": {
    "tags": []
   },
   "outputs": [],
   "source": [
    "test_db = redis.StrictRedis(host='localhost', port=6379, db=0, decode_responses=True)"
   ]
  },
  {
   "cell_type": "code",
   "execution_count": 56,
   "id": "873bf86c-29e4-44e6-a659-bb8314d74f90",
   "metadata": {
    "tags": []
   },
   "outputs": [
    {
     "data": {
      "text/plain": [
       "0"
      ]
     },
     "execution_count": 56,
     "metadata": {},
     "output_type": "execute_result"
    }
   ],
   "source": [
    "\n",
    "coords = (user_location_1['longitude'], user_location_1['latitude'], 'test_key')\n",
    "\n",
    "\n",
    "test_db.geoadd('test_geo_index', coords)"
   ]
  },
  {
   "cell_type": "code",
   "execution_count": 57,
   "id": "e0f368e7-2e5b-4c0d-b2ee-a9fd00458c84",
   "metadata": {
    "tags": []
   },
   "outputs": [
    {
     "data": {
      "text/plain": [
       "0"
      ]
     },
     "execution_count": 57,
     "metadata": {},
     "output_type": "execute_result"
    }
   ],
   "source": [
    "coords = ('10.9971645', '45.4435245','Rome')\n",
    "\n",
    "\n",
    "test_db.geoadd('test_geo_index2', coords)"
   ]
  },
  {
   "cell_type": "code",
   "execution_count": null,
   "id": "818f9f1d-eb7b-4dea-99df-825e7594ff54",
   "metadata": {},
   "outputs": [],
   "source": []
  },
  {
   "cell_type": "code",
   "execution_count": null,
   "id": "8ad4539e-4bb0-4850-918e-056f68a30371",
   "metadata": {},
   "outputs": [],
   "source": []
  },
  {
   "cell_type": "code",
   "execution_count": 58,
   "id": "d2c52ef6-697d-4e59-94ff-fce7008080cb",
   "metadata": {
    "tags": []
   },
   "outputs": [
    {
     "name": "stdout",
     "output_type": "stream",
     "text": [
      "user_location_1\n",
      "{'latitude': -1.223427, 'longitude': 36.900053}\n",
      "user_location_2\n",
      "{'latitude': -1.250774, 'longitude': 36.928597}\n",
      "user_location_3\n",
      "{'latitude': -1.250782, 'longitude': 36.928586}\n",
      "user_location_4\n",
      "{'latitude': -1.25052, 'longitude': 36.928005}\n",
      "user_location_5\n",
      "{'latitude': -1.250507, 'longitude': 36.927628}\n",
      "user_location_6\n",
      "{'latitude': -1.250554, 'longitude': 36.927611}\n",
      "user_location_7\n",
      "{'latitude': -1.250656, 'longitude': 36.9265}\n",
      "user_location_8\n",
      "{'latitude': -1.251008, 'longitude': 36.925542}\n",
      "user_location_9\n",
      "{'latitude': -1.251868, 'longitude': 36.923237}\n",
      "user_location_10\n",
      "{'latitude': -1.25041, 'longitude': 36.948202}\n",
      "user_location_11\n",
      "{'latitude': -1.25041, 'longitude': 36.948202}\n",
      "user_location_12\n",
      "{'latitude': -1.25041, 'longitude': 36.948202}\n",
      "user_location_13\n",
      "{'latitude': -1.249053, 'longitude': 36.943548}\n",
      "user_location_14\n",
      "{'latitude': -1.249477, 'longitude': 36.942311}\n",
      "user_location_15\n",
      "{'latitude': -1.250336, 'longitude': 36.940495}\n",
      "user_location_16\n",
      "{'latitude': -1.250784, 'longitude': 36.939504}\n",
      "user_location_17\n",
      "{'latitude': -1.251842, 'longitude': 36.93726}\n",
      "user_location_18\n",
      "{'latitude': -1.254679, 'longitude': 36.928651}\n",
      "user_location_19\n",
      "{'latitude': -1.253672, 'longitude': 36.928296}\n",
      "user_location_20\n",
      "{'latitude': -1.25097, 'longitude': 36.928011}\n",
      "user_location_21\n",
      "{'latitude': -1.250799, 'longitude': 36.928563}\n",
      "user_location_22\n",
      "{'latitude': -1.251644, 'longitude': 36.923837}\n",
      "user_location_23\n",
      "{'latitude': -1.251719, 'longitude': 36.923597}\n",
      "user_location_24\n",
      "{'latitude': -1.251879, 'longitude': 36.923175}\n",
      "user_location_25\n",
      "{'latitude': -1.252189, 'longitude': 36.923181}\n",
      "Distances between points:\n",
      "Distance between user_location_1 and user_location_2: 4395.01 m\n",
      "Distance between user_location_2 and user_location_3: 1.46 m\n",
      "Distance between user_location_3 and user_location_4: 70.65 m\n",
      "Distance between user_location_4 and user_location_5: 42.37 m\n",
      "Distance between user_location_5 and user_location_6: 5.65 m\n",
      "Distance between user_location_6 and user_location_7: 123.96 m\n",
      "Distance between user_location_7 and user_location_8: 113.71 m\n",
      "Distance between user_location_8 and user_location_9: 273.10 m\n",
      "Distance between user_location_9 and user_location_10: 2780.16 m\n",
      "Distance between user_location_10 and user_location_11: 0.00 m\n",
      "Distance between user_location_11 and user_location_12: 0.00 m\n",
      "Distance between user_location_12 and user_location_13: 539.15 m\n",
      "Distance between user_location_13 and user_location_14: 145.58 m\n",
      "Distance between user_location_14 and user_location_15: 223.07 m\n",
      "Distance between user_location_15 and user_location_16: 121.08 m\n",
      "Distance between user_location_16 and user_location_17: 275.59 m\n",
      "Distance between user_location_17 and user_location_18: 1007.77 m\n",
      "Distance between user_location_18 and user_location_19: 118.61 m\n",
      "Distance between user_location_19 and user_location_20: 302.11 m\n",
      "Distance between user_location_20 and user_location_21: 64.26 m\n",
      "Distance between user_location_21 and user_location_22: 533.71 m\n",
      "Distance between user_location_22 and user_location_23: 28.14 m\n",
      "Distance between user_location_23 and user_location_24: 50.35 m\n",
      "Distance between user_location_24 and user_location_25: 34.39 m\n"
     ]
    },
    {
     "data": {
      "text/plain": [
       "1"
      ]
     },
     "execution_count": 58,
     "metadata": {},
     "output_type": "execute_result"
    }
   ],
   "source": [
    "# test distance between each\n",
    "import math\n",
    "\n",
    "\n",
    "def haversine_distance(lat1, lon1, lat2, lon2):\n",
    "    # Convert latitude and longitude from degrees to radians\n",
    "    lat1_rad = math.radians(lat1)\n",
    "    lon1_rad = math.radians(lon1)\n",
    "    lat2_rad = math.radians(lat2)\n",
    "    lon2_rad = math.radians(lon2)\n",
    "\n",
    "    # Haversine formula\n",
    "    dlon = lon2_rad - lon1_rad\n",
    "    dlat = lat2_rad - lat1_rad\n",
    "    a = math.sin(dlat/2)**2 + math.cos(lat1_rad) * math.cos(lat2_rad) * math.sin(dlon/2)**2\n",
    "    c = 2 * math.atan2(math.sqrt(a), math.sqrt(1-a))\n",
    "    earth_radius = 6371  # Earth's radius in kilometers\n",
    "    distance_km = earth_radius * c\n",
    "    distance_m = distance_km * 1000  # Convert km to meters\n",
    "    return distance_m\n",
    "\n",
    "# Sample data as a dictionary with keys following the naming convention\n",
    "locations = {\n",
    "    'user_location_1': user_location_1,\n",
    "    'user_location_2': user_location_2,\n",
    "    'user_location_3': user_location_3,\n",
    "    'user_location_4': user_location_4,\n",
    "    'user_location_5': user_location_5,\n",
    "    'user_location_6': user_location_6,\n",
    "    'user_location_7': user_location_7,\n",
    "    'user_location_8': user_location_8,\n",
    "    'user_location_9': user_location_9,\n",
    "    'user_location_10': user_location_10,\n",
    "    'user_location_11': user_location_11,\n",
    "    'user_location_12': user_location_12,\n",
    "    'user_location_13': user_location_13,\n",
    "    'user_location_14': user_location_14,\n",
    "    'user_location_15': user_location_15,\n",
    "    'user_location_16': user_location_16,\n",
    "    'user_location_17': user_location_17,\n",
    "    'user_location_18': user_location_18,\n",
    "    'user_location_19': user_location_19,\n",
    "    'user_location_20': user_location_20,\n",
    "    'user_location_21': user_location_21,\n",
    "    'user_location_22': user_location_22,\n",
    "    'user_location_23': user_location_23,\n",
    "    'user_location_24': user_location_24,\n",
    "    'user_location_25': user_location_25,\n",
    "}\n",
    "\n",
    "# Add geospatial data using GEOADD\n",
    "for key, location in locations.items():\n",
    "    latitude = location['latitude']\n",
    "    longitude = location['longitude']\n",
    "    print(key)\n",
    "    print(location)\n",
    "    # Check if the key already exists\n",
    "    if not base_bot_db.exists(key):\n",
    "        coords = (longitude, latitude, key)\n",
    "        base_bot_db.geoadd(\"locations\", coords)\n",
    "\n",
    "# Calculate distance between each pair of points and print the results\n",
    "print(\"Distances between points:\")\n",
    "for i in range(1, len(locations)):\n",
    "    start_key = f\"user_location_{i}\"\n",
    "    end_key = f\"user_location_{i+1}\"\n",
    "    start = base_bot_db.geopos(\"locations\", start_key)[0]\n",
    "    end = base_bot_db.geopos(\"locations\", end_key)[0]\n",
    "    distance = haversine_distance(start[1], start[0], end[1], end[0])\n",
    "    print(f\"Distance between {start_key} and {end_key}: {distance:.2f} m\")\n",
    "\n",
    "# Clean up by removing the key\n",
    "base_bot_db.delete(\"locations\")"
   ]
  },
  {
   "cell_type": "code",
   "execution_count": null,
   "id": "2612d498-9fdb-4dce-b8c0-f19935d5b306",
   "metadata": {},
   "outputs": [],
   "source": []
  },
  {
   "cell_type": "code",
   "execution_count": null,
   "id": "b047068a-77b0-480d-8224-1dc8df345d9b",
   "metadata": {},
   "outputs": [],
   "source": []
  },
  {
   "cell_type": "code",
   "execution_count": 59,
   "id": "82b8e0d0-f690-4ce6-aefd-9d5ef3864692",
   "metadata": {
    "tags": []
   },
   "outputs": [
    {
     "name": "stdout",
     "output_type": "stream",
     "text": [
      "Testing POST /geodata, response: \n",
      " {'id': 1, 'latitude': 51.5074, 'longitude': -0.1278, 'timestamp': 1691908729.445124, 'uid': '635eb2d3-b7a2-4dad-863e-e40b47864f33'}\n",
      "Testing POST /geodata, response: \n",
      " {'id': 2, 'latitude': 40.7128, 'longitude': -74.006, 'timestamp': 1691908729.4451697, 'uid': 'f41a5f07-8862-4b2c-a799-be8e37e4df27'}\n",
      "Testing POST /geodata, response: \n",
      " {'id': 3, 'latitude': 48.8566, 'longitude': 2.3522, 'timestamp': 1691908729.4452033, 'uid': '5d621c0d-3cfe-4277-ac85-0496f89635a9'}\n",
      "Testing POST /geodata, response: \n",
      " {'id': 4, 'latitude': 34.0522, 'longitude': -118.2437, 'timestamp': 1691908729.4452338, 'uid': '4b4f5bbc-a343-4dfd-a84e-f306881621e9'}\n",
      "\n",
      "\n",
      "Testing GET /geodata, response: \n",
      " [{'id': 1, 'latitude': 51.5074, 'longitude': -0.1278, 'timestamp': 1691908729.445124, 'uid': '635eb2d3-b7a2-4dad-863e-e40b47864f33'}, {'id': 2, 'latitude': 40.7128, 'longitude': -74.006, 'timestamp': 1691908729.4451697, 'uid': 'f41a5f07-8862-4b2c-a799-be8e37e4df27'}, {'id': 3, 'latitude': 48.8566, 'longitude': 2.3522, 'timestamp': 1691908729.4452033, 'uid': '5d621c0d-3cfe-4277-ac85-0496f89635a9'}, {'id': 4, 'latitude': 34.0522, 'longitude': -118.2437, 'timestamp': 1691908729.4452338, 'uid': '4b4f5bbc-a343-4dfd-a84e-f306881621e9'}]\n",
      "\n",
      "\n",
      "Testing GET /geodata/2, response: \n",
      " {'id': 2, 'latitude': 40.7128, 'longitude': -74.006, 'timestamp': 1691908729.4451697, 'uid': 'f41a5f07-8862-4b2c-a799-be8e37e4df27'}\n",
      "\n",
      "\n",
      "Testing PUT /geodata/3, response: \n",
      " {'id': 3, 'latitude': 37.7749, 'longitude': -122.4194, 'timestamp': 1691908729.4452033, 'uid': '5d621c0d-3cfe-4277-ac85-0496f89635a9'}\n",
      "\n",
      "\n",
      "Testing DELETE /geodata/1, response: \n",
      " {'message': 'GeoData deleted.'}\n",
      "\n",
      "\n",
      "Testing GET /geodata, response: \n",
      " [{'id': 1, 'latitude': 51.5074, 'longitude': -0.1278, 'timestamp': 1691908729.445124, 'uid': '635eb2d3-b7a2-4dad-863e-e40b47864f33'}, {'id': 2, 'latitude': 40.7128, 'longitude': -74.006, 'timestamp': 1691908729.4451697, 'uid': 'f41a5f07-8862-4b2c-a799-be8e37e4df27'}, {'id': 3, 'latitude': 37.7749, 'longitude': -122.4194, 'timestamp': 1691908729.4452033, 'uid': '5d621c0d-3cfe-4277-ac85-0496f89635a9'}, {'id': 4, 'latitude': 34.0522, 'longitude': -118.2437, 'timestamp': 1691908729.4452338, 'uid': '4b4f5bbc-a343-4dfd-a84e-f306881621e9'}]\n"
     ]
    }
   ],
   "source": [
    "# Define the base URL for the API endpoints\n",
    "base_url = 'http://localhost:5009'\n",
    "\n",
    "\n",
    "# Test GET /geodata\n",
    "def test_get_all_geodata():\n",
    "    url = f'{base_url}/geodata'\n",
    "    response = requests.get(url)\n",
    "    print(f\"Testing GET /geodata, response: \\n {response.json()}\")\n",
    "    assert response.status_code == 200\n",
    "    # Assert other expectations on the response data\n",
    "\n",
    "# Test POST /geodata\n",
    "def test_create_geodata():\n",
    "    url = f'{base_url}/geodata'\n",
    "    response = requests.post(url, json=geo_data)\n",
    "    print(f\"Testing POST /geodata, response: \\n {response.json()}\")\n",
    "    assert response.status_code == 201\n",
    "    response1 = requests.post(url, json=geo_data2)\n",
    "    print(f\"Testing POST /geodata, response: \\n {response1.json()}\")\n",
    "    assert response1.status_code == 201\n",
    "    response2 = requests.post(url, json=geo_data3)\n",
    "    print(f\"Testing POST /geodata, response: \\n {response2.json()}\")\n",
    "    assert response2.status_code == 201\n",
    "    response3 = requests.post(url, json=geo_data4)\n",
    "    print(f\"Testing POST /geodata, response: \\n {response3.json()}\")\n",
    "    assert response3.status_code == 201\n",
    "    # Assert other expectations on the response data\n",
    "\n",
    "# Test GET /geodata/{id}\n",
    "def test_get_geodata(id):\n",
    "    url = f'{base_url}/geodata/{id}'\n",
    "    response = requests.get(url)\n",
    "    print(f\"Testing GET /geodata/{id}, response: \\n {response.json()}\")\n",
    "    assert response.status_code == 200\n",
    "    # Assert other expectations on the response data\n",
    "\n",
    "# Test PUT /geodata/{id}\n",
    "def test_update_geodata(id):\n",
    "    url = f'{base_url}/geodata/{id}'\n",
    "    data = {\n",
    "        'latitude': 37.7749,\n",
    "        'longitude': -122.4194,\n",
    "    }\n",
    "    response = requests.put(url, json=data)\n",
    "    print(f\"Testing PUT /geodata/{id}, response: \\n {response.json()}\")\n",
    "    assert response.status_code == 200\n",
    "    # Assert other expectations on the response data\n",
    "\n",
    "# Test DELETE /geodata/{id}\n",
    "def test_delete_geodata(id):\n",
    "    url = f'{base_url}/geodata/{id}'\n",
    "    response = requests.delete(url)\n",
    "    print(f\"Testing DELETE /geodata/{id}, response: \\n {response.json()}\")\n",
    "    assert response.status_code == 200\n",
    "    # Assert other expectations on the response data\n",
    "\n",
    "# Run the tests sequentially\n",
    "test_create_geodata()\n",
    "print(\"\\n\")\n",
    "test_get_all_geodata()\n",
    "print(\"\\n\")\n",
    "test_get_geodata(2)\n",
    "print(\"\\n\")\n",
    "test_update_geodata(3)\n",
    "print(\"\\n\")\n",
    "test_delete_geodata(1)\n",
    "print(\"\\n\")\n",
    "test_get_all_geodata()"
   ]
  },
  {
   "cell_type": "code",
   "execution_count": 60,
   "id": "2c1b88e2-7e87-4f9d-a76e-64bf41df2f2c",
   "metadata": {
    "tags": []
   },
   "outputs": [
    {
     "name": "stdout",
     "output_type": "stream",
     "text": [
      "Testing GET /geodata, response: \n",
      " [{'id': 1, 'latitude': 51.5074, 'longitude': -0.1278, 'timestamp': 1691908729.445124, 'uid': '635eb2d3-b7a2-4dad-863e-e40b47864f33'}, {'id': 2, 'latitude': 40.7128, 'longitude': -74.006, 'timestamp': 1691908729.4451697, 'uid': 'f41a5f07-8862-4b2c-a799-be8e37e4df27'}, {'id': 3, 'latitude': 37.7749, 'longitude': -122.4194, 'timestamp': 1691908729.4452033, 'uid': '5d621c0d-3cfe-4277-ac85-0496f89635a9'}, {'id': 4, 'latitude': 34.0522, 'longitude': -118.2437, 'timestamp': 1691908729.4452338, 'uid': '4b4f5bbc-a343-4dfd-a84e-f306881621e9'}]\n"
     ]
    }
   ],
   "source": [
    "test_get_all_geodata()"
   ]
  },
  {
   "cell_type": "code",
   "execution_count": null,
   "id": "be335621-7356-4425-8c99-e6ec27a02e12",
   "metadata": {},
   "outputs": [],
   "source": []
  },
  {
   "cell_type": "code",
   "execution_count": null,
   "id": "8a38730c-3b3f-4f08-83c3-6968c9e8e631",
   "metadata": {},
   "outputs": [],
   "source": [
    "def get_coords(google_maps_url_string):\n",
    "    pass"
   ]
  }
 ],
 "metadata": {
  "kernelspec": {
   "display_name": "Python 3 (ipykernel)",
   "language": "python",
   "name": "python3"
  },
  "language_info": {
   "codemirror_mode": {
    "name": "ipython",
    "version": 3
   },
   "file_extension": ".py",
   "mimetype": "text/x-python",
   "name": "python",
   "nbconvert_exporter": "python",
   "pygments_lexer": "ipython3",
   "version": "3.10.12"
  }
 },
 "nbformat": 4,
 "nbformat_minor": 5
}
