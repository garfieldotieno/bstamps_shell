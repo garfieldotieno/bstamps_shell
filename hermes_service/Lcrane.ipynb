{
 "cells": [
  {
   "cell_type": "code",
   "execution_count": 1,
   "id": "d3698b9a-5b22-4169-8ff8-8954c373c9b1",
   "metadata": {},
   "outputs": [],
   "source": [
    "# consider redesign using reJSON"
   ]
  },
  {
   "cell_type": "code",
   "execution_count": 17,
   "id": "9c846ead-34f0-47d4-b3e9-b01069fa0f13",
   "metadata": {},
   "outputs": [],
   "source": [
    "from blu import Session, hermes_bot_db"
   ]
  },
  {
   "cell_type": "code",
   "execution_count": 18,
   "id": "382568c9-c258-4965-9b39-203d2fa2ef3f",
   "metadata": {},
   "outputs": [],
   "source": [
    "from app import generate_uid, main_menu_no_session_listing"
   ]
  },
  {
   "cell_type": "code",
   "execution_count": 19,
   "id": "3f4d965a-b3ab-4212-b39d-54585d3c6662",
   "metadata": {},
   "outputs": [],
   "source": [
    "from models import SlotQuestion, SessionLocal"
   ]
  },
  {
   "cell_type": "code",
   "execution_count": 20,
   "id": "9b37d175-ec36-465e-84ee-1769f1a99a43",
   "metadata": {},
   "outputs": [],
   "source": [
    "test_waid = \"821320826\""
   ]
  },
  {
   "cell_type": "code",
   "execution_count": 21,
   "id": "e8f015d1-a952-4cca-9c73-b9a507e28ccf",
   "metadata": {},
   "outputs": [],
   "source": [
    "# SESSION_TYPE:FIRST"
   ]
  },
  {
   "cell_type": "code",
   "execution_count": 6,
   "id": "deabfb97-f983-49c7-ab7e-a0f2e8a68afe",
   "metadata": {},
   "outputs": [],
   "source": [
    "# init_data\n",
    "test_session_data = {\n",
    "    'uid': generate_uid(),\n",
    "    'waid': test_waid,\n",
    "    'name': 'Garfield',\n",
    "    \n",
    "    'current_menu_code': '',\n",
    "    'browsing_count': 0,\n",
    "    \n",
    "    'main_menu_nav': 1,\n",
    "    'main_menu_select': '',\n",
    "    'sub1_menu_nav': 0,\n",
    "    'sub1_menu_select': '',\n",
    "    'sub2_menu_nav': 0,\n",
    "    'sub2_menu_select': '',\n",
    "    \n",
    "    'is_slot_filling': 0,\n",
    "    'answer_payload': '[]',\n",
    "    \n",
    "    'user_flow': '',\n",
    "    'current_slot_code': '',\n",
    "    'current_slot_count': 0,\n",
    "    'slot_quiz_count': '',\n",
    "    \n",
    "    'current_slot_handler': '',\n",
    "    'session_active': 0,\n",
    "    'session_type': 'First'\n",
    "}"
   ]
  },
  {
   "cell_type": "code",
   "execution_count": 7,
   "id": "348bef50-3b24-450b-a814-f3cec9e49d08",
   "metadata": {},
   "outputs": [
    {
     "name": "stdout",
     "output_type": "stream",
     "text": [
      "checking session_data before : {'uid': 'DpSZ8L1HTb', 'waid': '821320826', 'name': 'Garfield', 'current_menu_code': '', 'browsing_count': 0, 'main_menu_nav': 1, 'main_menu_select': '', 'sub1_menu_nav': 0, 'sub1_menu_select': '', 'sub2_menu_nav': 0, 'sub2_menu_select': '', 'slot_filling': 0, 'answer_payload': '[]', 'user_flow': '', 'current_slot_count': 0, 'current_slot_code': '', 'slot_quiz_count': '', 'current_slot_handler': '', 'session_active': 0, 'session_type': 'First', 'created_at': 1733786410.7814512, 'updated_at': 1733786410.7814515}\n",
      "\n",
      "\n",
      "saved session is : {'uid': 'DpSZ8L1HTb', 'waid': '821320826', 'name': 'Garfield', 'current_menu_code': '', 'browsing_count': '0', 'main_menu_nav': '1', 'main_menu_select': '', 'sub1_menu_nav': '0', 'sub1_menu_select': '', 'sub2_menu_nav': '0', 'sub2_menu_select': '', 'slot_filling': '0', 'answer_payload': '[]', 'user_flow': '', 'current_slot_count': '0', 'current_slot_code': '', 'slot_quiz_count': '', 'current_slot_handler': '', 'session_active': '0', 'session_type': 'First', 'created_at': '1733786410.7814512', 'updated_at': '1733786410.7814515'}\n",
      "\n",
      "\n"
     ]
    }
   ],
   "source": [
    "# 1. Test creating and saving a session\n",
    "session = Session(**test_session_data)\n",
    "session.save()\n",
    "print(f\"\\n\\nsaved session is : {Session.get_session(test_waid)}\\n\\n\")"
   ]
  },
  {
   "cell_type": "code",
   "execution_count": 8,
   "id": "f31d7dc6-8230-4c19-a363-3ff6ff90eb9a",
   "metadata": {},
   "outputs": [
    {
     "name": "stdout",
     "output_type": "stream",
     "text": [
      "\n",
      "retrieved session is : {'uid': 'DpSZ8L1HTb', 'waid': '821320826', 'name': 'Garfield', 'current_menu_code': '', 'browsing_count': '0', 'main_menu_nav': '1', 'main_menu_select': '', 'sub1_menu_nav': '0', 'sub1_menu_select': '', 'sub2_menu_nav': '0', 'sub2_menu_select': '', 'slot_filling': '0', 'answer_payload': '[]', 'user_flow': '', 'current_slot_count': '0', 'current_slot_code': '', 'slot_quiz_count': '', 'current_slot_handler': '', 'session_active': '0', 'session_type': 'First', 'created_at': '1733786410.7814512', 'updated_at': '1733786410.7814515'}\n",
      "\n"
     ]
    }
   ],
   "source": [
    "# 2 . To retrieving the session\n",
    "retrieved_session = Session.get_session(test_waid)\n",
    "print(f\"\\nretrieved session is : {retrieved_session}\\n\")"
   ]
  },
  {
   "cell_type": "code",
   "execution_count": 9,
   "id": "74af3216-eade-4604-b692-3b2c6d05b8de",
   "metadata": {},
   "outputs": [
    {
     "name": "stdout",
     "output_type": "stream",
     "text": [
      "\n",
      "\n",
      "calling general_session_update\n",
      "\n",
      "\n",
      "now setting : main_menu_nav, whose value is : 1\n",
      "now setting : main_menu_select, whose value is : main_select_1\n",
      "\n",
      "\n",
      "\n"
     ]
    },
    {
     "data": {
      "text/plain": [
       "{'uid': 'DpSZ8L1HTb',\n",
       " 'waid': '821320826',\n",
       " 'name': 'Garfield',\n",
       " 'current_menu_code': '',\n",
       " 'browsing_count': '0',\n",
       " 'main_menu_nav': '1',\n",
       " 'main_menu_select': 'main_select_1',\n",
       " 'sub1_menu_nav': '0',\n",
       " 'sub1_menu_select': '',\n",
       " 'sub2_menu_nav': '0',\n",
       " 'sub2_menu_select': '',\n",
       " 'slot_filling': '0',\n",
       " 'answer_payload': '[]',\n",
       " 'user_flow': '',\n",
       " 'current_slot_count': '0',\n",
       " 'current_slot_code': '',\n",
       " 'slot_quiz_count': '',\n",
       " 'current_slot_handler': '',\n",
       " 'session_active': '0',\n",
       " 'session_type': 'First',\n",
       " 'created_at': '1733786410.7814512',\n",
       " 'updated_at': '1733786414.5896146'}"
      ]
     },
     "execution_count": 9,
     "metadata": {},
     "output_type": "execute_result"
    }
   ],
   "source": [
    "# 3  switching main menu selection\n",
    "switch_1_data = {'main_menu_nav':1, 'main_menu_select':'main_select_1'}\n",
    "\n",
    "Session.general_session_update(test_waid, switch_1_data)"
   ]
  },
  {
   "cell_type": "code",
   "execution_count": 10,
   "id": "02505ea1-920a-45dc-a7c2-9731de672060",
   "metadata": {},
   "outputs": [],
   "source": [
    "# switching from main_menu_nav to sub1_menu_nav"
   ]
  },
  {
   "cell_type": "code",
   "execution_count": 11,
   "id": "7cbc25ec-b0c9-40a2-97a3-fdd1651f0e01",
   "metadata": {},
   "outputs": [
    {
     "name": "stdout",
     "output_type": "stream",
     "text": [
      "\n",
      "\n",
      "calling general_session_update\n",
      "\n",
      "\n",
      "now setting : main_menu_nav, whose value is : 0\n",
      "now setting : main_menu_select, whose value is : \n",
      "now setting : sub1_menu_nav, whose value is : 1\n",
      "now setting : sub1_menu_select, whose value is : sub1_select\n",
      "\n",
      "\n",
      "\n"
     ]
    },
    {
     "data": {
      "text/plain": [
       "{'uid': 'DpSZ8L1HTb',\n",
       " 'waid': '821320826',\n",
       " 'name': 'Garfield',\n",
       " 'current_menu_code': '',\n",
       " 'browsing_count': '0',\n",
       " 'main_menu_nav': '0',\n",
       " 'main_menu_select': '',\n",
       " 'sub1_menu_nav': '1',\n",
       " 'sub1_menu_select': 'sub1_select',\n",
       " 'sub2_menu_nav': '0',\n",
       " 'sub2_menu_select': '',\n",
       " 'slot_filling': '0',\n",
       " 'answer_payload': '[]',\n",
       " 'user_flow': '',\n",
       " 'current_slot_count': '0',\n",
       " 'current_slot_code': '',\n",
       " 'slot_quiz_count': '',\n",
       " 'current_slot_handler': '',\n",
       " 'session_active': '0',\n",
       " 'session_type': 'First',\n",
       " 'created_at': '1733786410.7814512',\n",
       " 'updated_at': '1733786419.3612456'}"
      ]
     },
     "execution_count": 11,
     "metadata": {},
     "output_type": "execute_result"
    }
   ],
   "source": [
    "switch_2_data = {'main_menu_nav':0, 'main_menu_select':'', 'sub1_menu_nav':1, 'sub1_menu_select':'sub1_select'}\n",
    "Session.general_session_update(test_waid,switch_2_data)"
   ]
  },
  {
   "cell_type": "code",
   "execution_count": 12,
   "id": "f57265ed-7114-4976-85fd-e7a15f51d8bd",
   "metadata": {},
   "outputs": [],
   "source": [
    "# switch from sub1_menu_nav to sub2_menu_nav"
   ]
  },
  {
   "cell_type": "code",
   "execution_count": 13,
   "id": "8cc31884-e307-4382-aa15-1b1ba6466610",
   "metadata": {},
   "outputs": [
    {
     "name": "stdout",
     "output_type": "stream",
     "text": [
      "\n",
      "\n",
      "calling general_session_update\n",
      "\n",
      "\n",
      "now setting : sub1_menu_nav, whose value is : 0\n",
      "now setting : sub1_menu_select, whose value is : \n",
      "now setting : sub2_menu_nav, whose value is : 1\n",
      "now setting : sub2_menu_select, whose value is : sub2_select\n",
      "\n",
      "\n",
      "\n"
     ]
    },
    {
     "data": {
      "text/plain": [
       "{'uid': 'DpSZ8L1HTb',\n",
       " 'waid': '821320826',\n",
       " 'name': 'Garfield',\n",
       " 'current_menu_code': '',\n",
       " 'browsing_count': '0',\n",
       " 'main_menu_nav': '0',\n",
       " 'main_menu_select': '',\n",
       " 'sub1_menu_nav': '0',\n",
       " 'sub1_menu_select': '',\n",
       " 'sub2_menu_nav': '1',\n",
       " 'sub2_menu_select': 'sub2_select',\n",
       " 'slot_filling': '0',\n",
       " 'answer_payload': '[]',\n",
       " 'user_flow': '',\n",
       " 'current_slot_count': '0',\n",
       " 'current_slot_code': '',\n",
       " 'slot_quiz_count': '',\n",
       " 'current_slot_handler': '',\n",
       " 'session_active': '0',\n",
       " 'session_type': 'First',\n",
       " 'created_at': '1733786410.7814512',\n",
       " 'updated_at': '1733786452.8230886'}"
      ]
     },
     "execution_count": 13,
     "metadata": {},
     "output_type": "execute_result"
    }
   ],
   "source": [
    "switch_3_data = {'sub1_menu_nav':0, 'sub1_menu_select':'', 'sub2_menu_nav':1, 'sub2_menu_select':'sub2_select'}\n",
    "Session.general_session_update(test_waid, switch_3_data)"
   ]
  },
  {
   "cell_type": "code",
   "execution_count": 14,
   "id": "9a48ed57-accd-4b85-9602-bc5e2b5f3a6d",
   "metadata": {},
   "outputs": [
    {
     "data": {
      "text/plain": [
       "'[]'"
      ]
     },
     "execution_count": 14,
     "metadata": {},
     "output_type": "execute_result"
    }
   ],
   "source": [
    "Session.load_ans_payload(test_waid)"
   ]
  },
  {
   "cell_type": "code",
   "execution_count": 15,
   "id": "c9ae38f3-316f-4fd1-af24-16639fa76dfb",
   "metadata": {},
   "outputs": [],
   "source": [
    "# First"
   ]
  },
  {
   "cell_type": "code",
   "execution_count": 16,
   "id": "7193714c-187b-4839-a106-8c7faa41cb68",
   "metadata": {},
   "outputs": [],
   "source": [
    "# starting slot filling"
   ]
  },
  {
   "cell_type": "code",
   "execution_count": 154,
   "id": "182cdf43-c3f0-4815-9fb8-e4c1badf992f",
   "metadata": {},
   "outputs": [],
   "source": [
    "# testing R_S_H"
   ]
  },
  {
   "cell_type": "code",
   "execution_count": 155,
   "id": "20bfda12-950d-4443-a9e7-88dc4e42f2fa",
   "metadata": {},
   "outputs": [
    {
     "name": "stdout",
     "output_type": "stream",
     "text": [
      "\n",
      "\n",
      "calling general_session_update\n",
      "\n",
      "\n",
      "now setting : main_menu_nav, whose value is : 0\n",
      "now setting : main_menu_select, whose value is : \n",
      "now setting : sub1_menu_nav, whose value is : 0\n",
      "now setting : sub1_menu_select, whose value is : \n",
      "now setting : sub2_menu_select, whose value is : \n",
      "now setting : slot_filling, whose value is : 1\n",
      "now setting : current_slot_count, whose value is : 0\n",
      "now setting : current_slot_code, whose value is : R_S_H\n",
      "now setting : slot_quiz_count, whose value is : 3\n",
      "now setting : current_slot_handler, whose value is : R_S_H_handler\n",
      "\n",
      "\n",
      "\n"
     ]
    },
    {
     "data": {
      "text/plain": [
       "{'uid': '7DXWoSx2qS',\n",
       " 'waid': '821320826',\n",
       " 'name': 'Garfield',\n",
       " 'current_menu_code': '',\n",
       " 'browsing_count': '0',\n",
       " 'main_menu_nav': '0',\n",
       " 'main_menu_select': '',\n",
       " 'sub1_menu_nav': '0',\n",
       " 'sub1_menu_select': '',\n",
       " 'sub2_menu_nav': '1',\n",
       " 'sub2_menu_select': '',\n",
       " 'slot_filling': '1',\n",
       " 'answer_payload': '[]',\n",
       " 'user_flow': '',\n",
       " 'current_slot_count': '0',\n",
       " 'current_slot_code': 'R_S_H',\n",
       " 'slot_quiz_count': '3',\n",
       " 'current_slot_handler': 'R_S_H_handler',\n",
       " 'session_active': '0',\n",
       " 'session_type': 'First',\n",
       " 'created_at': '1733323402.625974',\n",
       " 'updated_at': '1733323439.4192007'}"
      ]
     },
     "execution_count": 155,
     "metadata": {},
     "output_type": "execute_result"
    }
   ],
   "source": [
    "new_slot_data = {\n",
    "    'main_menu_nav':0, \n",
    "    'main_menu_select':'', \n",
    "    'sub1_menu_nav':0, \n",
    "    'sub1_menu_select':'', \n",
    "    'sub2_menu_select':0, \n",
    "    'sub2_menu_select':'', \n",
    "    'slot_filling':1,\n",
    "    'current_slot_count':0,\n",
    "    'current_slot_code':'R_S_H',\n",
    "    'slot_quiz_count':3,\n",
    "    'current_slot_handler':'R_S_H_handler'\n",
    "}\n",
    "Session.general_session_update(test_waid, new_slot_data)"
   ]
  },
  {
   "cell_type": "code",
   "execution_count": 156,
   "id": "6012f58b-d655-4deb-b115-87f615a5e735",
   "metadata": {},
   "outputs": [],
   "source": [
    "curr_slot_details = Session.fetch_slot_details(test_waid)"
   ]
  },
  {
   "cell_type": "code",
   "execution_count": 157,
   "id": "d24faa2a-a0f6-4896-afd9-0bb1651bc7d9",
   "metadata": {},
   "outputs": [
    {
     "data": {
      "text/plain": [
       "{'slot_code': 'R_S_H',\n",
       " 'slot_count': '0',\n",
       " 'quiz_count': '3',\n",
       " 'slot_handler': 'R_S_H_handler'}"
      ]
     },
     "execution_count": 157,
     "metadata": {},
     "output_type": "execute_result"
    }
   ],
   "source": [
    "curr_slot_details"
   ]
  },
  {
   "cell_type": "code",
   "execution_count": 158,
   "id": "c22490c0-3ba4-4523-9203-f991e1550864",
   "metadata": {},
   "outputs": [],
   "source": [
    "db = SessionLocal()"
   ]
  },
  {
   "cell_type": "code",
   "execution_count": 159,
   "id": "223b2ab7-ebfc-42e7-b6c8-ef842551ee7e",
   "metadata": {},
   "outputs": [],
   "source": [
    "slot_code = curr_slot_details['slot_code']"
   ]
  },
  {
   "cell_type": "code",
   "execution_count": 160,
   "id": "c595c9af-cac4-4a25-9900-d6b4ed679f12",
   "metadata": {},
   "outputs": [],
   "source": [
    "slot_quiz_count = curr_slot_details['quiz_count']"
   ]
  },
  {
   "cell_type": "code",
   "execution_count": 161,
   "id": "f7bf3377-573a-4472-a508-de14ebdaa28b",
   "metadata": {},
   "outputs": [
    {
     "data": {
      "text/plain": [
       "'R_S_H'"
      ]
     },
     "execution_count": 161,
     "metadata": {},
     "output_type": "execute_result"
    }
   ],
   "source": [
    "slot_code"
   ]
  },
  {
   "cell_type": "code",
   "execution_count": 162,
   "id": "bda43986-7b15-4b10-bb6f-dd5e23f35e33",
   "metadata": {},
   "outputs": [
    {
     "data": {
      "text/plain": [
       "'3'"
      ]
     },
     "execution_count": 162,
     "metadata": {},
     "output_type": "execute_result"
    }
   ],
   "source": [
    "slot_quiz_count"
   ]
  },
  {
   "cell_type": "code",
   "execution_count": 163,
   "id": "209001ac-5aba-441c-8b0e-92bcb0e93668",
   "metadata": {},
   "outputs": [
    {
     "name": "stdout",
     "output_type": "stream",
     "text": [
      "\n",
      "\n",
      " calling get_slot_questions \n",
      "\n",
      "\n",
      "fetched slot_question is : {\"0\": \"Select your preffered session type \", \"1\": \"Enter your redeem code to proceed\", \"2\": \"Confirm code by repeating it\"}\n"
     ]
    }
   ],
   "source": [
    "quiz_pack = SlotQuestion.get_slot_questions(db, slot_code)"
   ]
  },
  {
   "cell_type": "code",
   "execution_count": 164,
   "id": "efcf7529-5151-4187-b14b-fc2f509be6ec",
   "metadata": {},
   "outputs": [
    {
     "name": "stdout",
     "output_type": "stream",
     "text": [
      "\n",
      "\n",
      "recieved slot quiz_pack is {'0': 'Select your preffered session type ', '1': 'Enter your redeem code to proceed', '2': 'Confirm code by repeating it'}\n",
      "\n",
      "\n",
      "\n",
      "\n",
      "current_slot_count is 0\n",
      "\n",
      "\n"
     ]
    }
   ],
   "source": [
    "first_quiz = Session.return_current_slot_quiz(test_waid, quiz_pack)"
   ]
  },
  {
   "cell_type": "code",
   "execution_count": 165,
   "id": "c69e9a20-2867-47a7-9caa-fbf2aeb8abd9",
   "metadata": {},
   "outputs": [
    {
     "data": {
      "text/plain": [
       "'Select your preffered session type '"
      ]
     },
     "execution_count": 165,
     "metadata": {},
     "output_type": "execute_result"
    }
   ],
   "source": [
    "first_quiz"
   ]
  },
  {
   "cell_type": "code",
   "execution_count": 166,
   "id": "e50f4c69-a69b-4bd2-87f5-b815ee93c82a",
   "metadata": {},
   "outputs": [
    {
     "name": "stdout",
     "output_type": "stream",
     "text": [
      "calling slot_answer function\n",
      "\n",
      "\n",
      " calling get_slot_questions \n",
      "\n",
      "\n",
      "fetched slot_question is : {\"0\": \"Select your preffered session type \", \"1\": \"Enter your redeem code to proceed\", \"2\": \"Confirm code by repeating it\"}\n",
      "\n",
      "\n",
      "saving answer as follows : vendor\n",
      "\n",
      "\n",
      "Empty answer payload\n",
      "fetched session is : {'uid': '7DXWoSx2qS', 'waid': '821320826', 'name': 'Garfield', 'current_menu_code': '', 'browsing_count': '0', 'main_menu_nav': '0', 'main_menu_select': '', 'sub1_menu_nav': '0', 'sub1_menu_select': '', 'sub2_menu_nav': '1', 'sub2_menu_select': '', 'slot_filling': '1', 'answer_payload': '[]', 'user_flow': '', 'current_slot_count': '0', 'current_slot_code': 'R_S_H', 'slot_quiz_count': '3', 'current_slot_handler': 'R_S_H_handler', 'session_active': '0', 'session_type': 'First', 'created_at': '1733323402.625974', 'updated_at': '1733323439.4192007'}\n",
      "\n",
      "\n",
      "just called step slotting\n",
      "\n",
      "\n",
      "stepping from count_ : 0, while quiz_index_length : 2\n",
      "\n",
      "\n",
      "recieved slot quiz_pack is {'0': 'Select your preffered session type ', '1': 'Enter your redeem code to proceed', '2': 'Confirm code by repeating it'}\n",
      "\n",
      "\n",
      "\n",
      "\n",
      "current_slot_count is 1\n",
      "\n",
      "\n"
     ]
    }
   ],
   "source": [
    "ret_message = Session.slot_answer(test_waid, slot_quiz_count, 'vendor', SlotQuestion, db, slot_code)"
   ]
  },
  {
   "cell_type": "code",
   "execution_count": 167,
   "id": "9f29ea5d-c107-42bd-b428-6eda79300a72",
   "metadata": {},
   "outputs": [
    {
     "data": {
      "text/plain": [
       "'[\"vendor\"]'"
      ]
     },
     "execution_count": 167,
     "metadata": {},
     "output_type": "execute_result"
    }
   ],
   "source": [
    "Session.load_ans_payload(test_waid)"
   ]
  },
  {
   "cell_type": "code",
   "execution_count": 168,
   "id": "99a6cec0-b952-46e7-afbf-4e238cf81acb",
   "metadata": {},
   "outputs": [
    {
     "data": {
      "text/plain": [
       "'Enter your redeem code to proceed'"
      ]
     },
     "execution_count": 168,
     "metadata": {},
     "output_type": "execute_result"
    }
   ],
   "source": [
    "ret_message"
   ]
  },
  {
   "cell_type": "code",
   "execution_count": 188,
   "id": "3dea9f68-e061-4aec-bb9f-34c664979cef",
   "metadata": {},
   "outputs": [],
   "source": [
    "# add as @staticmethod Session object in the blu module\n",
    "def verify_input_code_match(Session, test_waid, input_two):\n",
    "    import json\n",
    "    ans_list = json.loads(Session.load_ans_payload(test_waid))\n",
    "    input_value_1 = ans_list[1]\n",
    "    input_value_2 = input_two\n",
    "    if input_value_1 == input_value_2:\n",
    "        return True\n",
    "    else:\n",
    "        return False\n",
    "    \n",
    "     \n",
    "def verify_code(input_value, redis_client):\n",
    "    code_value = f\"redeem:code:{input_value}\"\n",
    "    if redis_client.sismember('session_redeem_code', code_value):\n",
    "        return code_value\n",
    "    else:\n",
    "        return None\n",
    "\n",
    "\n",
    "def generate_redeem_code(redis_client):\n",
    "    four_digit_code = generate_uid(6)\n",
    "    key = f\"redeem:code:{four_digit_code}\"\n",
    "    redis_client.sadd('session_redeem_code', key)\n",
    "    return four_digit_code"
   ]
  },
  {
   "cell_type": "code",
   "execution_count": null,
   "id": "22e08461-1239-4810-b848-1e976b3531e5",
   "metadata": {},
   "outputs": [],
   "source": []
  },
  {
   "cell_type": "code",
   "execution_count": 6,
   "id": "d6a7b28b-a1b2-4b35-b2ad-73dc910ce821",
   "metadata": {},
   "outputs": [
    {
     "name": "stdout",
     "output_type": "stream",
     "text": [
      "calling generate_redeem_code\n"
     ]
    }
   ],
   "source": [
    "test_code = Session.generate_redeem_code()"
   ]
  },
  {
   "cell_type": "code",
   "execution_count": 7,
   "id": "486fa7fc-ceae-472c-95d6-c848c6b7339a",
   "metadata": {},
   "outputs": [
    {
     "data": {
      "text/plain": [
       "'owypxe'"
      ]
     },
     "execution_count": 7,
     "metadata": {},
     "output_type": "execute_result"
    }
   ],
   "source": [
    "test_code"
   ]
  },
  {
   "cell_type": "code",
   "execution_count": 191,
   "id": "42be1e3d-3671-4620-b325-9e3d1bbf152e",
   "metadata": {},
   "outputs": [],
   "source": [
    "test_code2 = generate_redeem_code(hermes_bot_db)"
   ]
  },
  {
   "cell_type": "code",
   "execution_count": 192,
   "id": "bb660624-53bd-48fc-afa7-7096f3c69f98",
   "metadata": {},
   "outputs": [
    {
     "data": {
      "text/plain": [
       "'rH4eEe'"
      ]
     },
     "execution_count": 192,
     "metadata": {},
     "output_type": "execute_result"
    }
   ],
   "source": [
    "test_code2"
   ]
  },
  {
   "cell_type": "code",
   "execution_count": 174,
   "id": "d671b8cc-229c-4d7b-9893-7ce9aecec6a7",
   "metadata": {},
   "outputs": [
    {
     "name": "stdout",
     "output_type": "stream",
     "text": [
      "calling slot_answer function\n",
      "\n",
      "\n",
      " calling get_slot_questions \n",
      "\n",
      "\n",
      "fetched slot_question is : {\"0\": \"Select your preffered session type \", \"1\": \"Enter your redeem code to proceed\", \"2\": \"Confirm code by repeating it\"}\n",
      "\n",
      "\n",
      "saving answer as follows : O6gKT0\n",
      "\n",
      "\n",
      "Not empty answer payload : [\"vendor\"]\n",
      "fetched current_quiz_count, 3\n",
      "fetched session is : {'uid': '7DXWoSx2qS', 'waid': '821320826', 'name': 'Garfield', 'current_menu_code': '', 'browsing_count': '0', 'main_menu_nav': '0', 'main_menu_select': '', 'sub1_menu_nav': '0', 'sub1_menu_select': '', 'sub2_menu_nav': '1', 'sub2_menu_select': '', 'slot_filling': '1', 'answer_payload': '[\"vendor\"]', 'user_flow': '', 'current_slot_count': '1', 'current_slot_code': 'R_S_H', 'slot_quiz_count': '3', 'current_slot_handler': 'R_S_H_handler', 'session_active': '0', 'session_type': 'First', 'created_at': '1733323402.625974', 'updated_at': '1733323472.944611'}\n",
      "\n",
      "\n",
      "just called step slotting\n",
      "\n",
      "\n",
      "stepping from count_ : 1, while quiz_index_length : 2\n",
      "\n",
      "\n",
      "recieved slot quiz_pack is {'0': 'Select your preffered session type ', '1': 'Enter your redeem code to proceed', '2': 'Confirm code by repeating it'}\n",
      "\n",
      "\n",
      "\n",
      "\n",
      "current_slot_count is 2\n",
      "\n",
      "\n"
     ]
    }
   ],
   "source": [
    "ret_message2 = Session.slot_answer(test_waid, slot_quiz_count, test_code, SlotQuestion, db, slot_code)"
   ]
  },
  {
   "cell_type": "code",
   "execution_count": 175,
   "id": "35e9373a-ade8-4315-ac77-0256d6567190",
   "metadata": {},
   "outputs": [
    {
     "data": {
      "text/plain": [
       "'[\"vendor\", \"O6gKT0\"]'"
      ]
     },
     "execution_count": 175,
     "metadata": {},
     "output_type": "execute_result"
    }
   ],
   "source": [
    "Session.load_ans_payload(test_waid)"
   ]
  },
  {
   "cell_type": "code",
   "execution_count": 176,
   "id": "5364e73e-f270-41be-943e-b3756cd1055e",
   "metadata": {},
   "outputs": [
    {
     "data": {
      "text/plain": [
       "'Confirm code by repeating it'"
      ]
     },
     "execution_count": 176,
     "metadata": {},
     "output_type": "execute_result"
    }
   ],
   "source": [
    "ret_message2"
   ]
  },
  {
   "cell_type": "code",
   "execution_count": 177,
   "id": "7c11c9e2-be96-41f8-a3d7-f65ff863adbb",
   "metadata": {},
   "outputs": [
    {
     "data": {
      "text/plain": [
       "True"
      ]
     },
     "execution_count": 177,
     "metadata": {},
     "output_type": "execute_result"
    }
   ],
   "source": [
    "verify_input_code_match(hermes_bot_db, Session, test_waid, test_code)"
   ]
  },
  {
   "cell_type": "code",
   "execution_count": 178,
   "id": "c521dcfd-795b-4d40-9931-f1c38e34e6e4",
   "metadata": {},
   "outputs": [
    {
     "data": {
      "text/plain": [
       "False"
      ]
     },
     "execution_count": 178,
     "metadata": {},
     "output_type": "execute_result"
    }
   ],
   "source": [
    "verify_input_code_match(hermes_bot_db, Session, test_waid, test_code2)"
   ]
  },
  {
   "cell_type": "code",
   "execution_count": 181,
   "id": "dfd79ae0-0f0e-4441-bf8f-2fee090a4f9e",
   "metadata": {},
   "outputs": [
    {
     "data": {
      "text/plain": [
       "'redeem:code:O6gKT0'"
      ]
     },
     "execution_count": 181,
     "metadata": {},
     "output_type": "execute_result"
    }
   ],
   "source": [
    "verify_code(test_code, hermes_bot_db)"
   ]
  },
  {
   "cell_type": "code",
   "execution_count": null,
   "id": "1b81271e-d5ad-4a97-aa47-0a9cb3a59cf8",
   "metadata": {},
   "outputs": [],
   "source": [
    "Session.complete_R_H_S()"
   ]
  },
  {
   "cell_type": "code",
   "execution_count": 182,
   "id": "130ba2ad-0c27-499b-94e7-21e86d90514b",
   "metadata": {},
   "outputs": [
    {
     "name": "stdout",
     "output_type": "stream",
     "text": [
      "calling slot_answer function\n",
      "\n",
      "\n",
      " calling get_slot_questions \n",
      "\n",
      "\n",
      "fetched slot_question is : {\"0\": \"Select your preffered session type \", \"1\": \"Enter your redeem code to proceed\", \"2\": \"Confirm code by repeating it\"}\n",
      "\n",
      "\n",
      "saving answer as follows : X0iWxK\n",
      "\n",
      "\n",
      "Not empty answer payload : [\"vendor\", \"O6gKT0\"]\n",
      "fetched current_quiz_count, 3\n",
      "fetched session is : {'uid': '7DXWoSx2qS', 'waid': '821320826', 'name': 'Garfield', 'current_menu_code': '', 'browsing_count': '0', 'main_menu_nav': '0', 'main_menu_select': '', 'sub1_menu_nav': '0', 'sub1_menu_select': '', 'sub2_menu_nav': '1', 'sub2_menu_select': '', 'slot_filling': '1', 'answer_payload': '[\"vendor\", \"O6gKT0\"]', 'user_flow': '', 'current_slot_count': '2', 'current_slot_code': 'R_S_H', 'slot_quiz_count': '3', 'current_slot_handler': 'R_S_H_handler', 'session_active': '0', 'session_type': 'First', 'created_at': '1733323402.625974', 'updated_at': '1733323497.3709006'}\n",
      "\n",
      "\n",
      "just called step slotting\n",
      "\n",
      "\n",
      "stepping from count_ : 2, while quiz_index_length : 2\n",
      "questions over, not stepping, should be resetting\n",
      "should be clearing slot attributes\n",
      "and returning complete message\n"
     ]
    }
   ],
   "source": [
    "ret_message3 = Session.slot_answer(test_waid, slot_quiz_count, test_code2, SlotQuestion, db, slot_code)"
   ]
  },
  {
   "cell_type": "code",
   "execution_count": 183,
   "id": "f6e90e2d-1448-4ff9-8d9e-2f5bc4236aed",
   "metadata": {},
   "outputs": [
    {
     "data": {
      "text/plain": [
       "'Congratulations, you have finished entering the required input. Please wait for the next message prompt!'"
      ]
     },
     "execution_count": 183,
     "metadata": {},
     "output_type": "execute_result"
    }
   ],
   "source": [
    "ret_message3"
   ]
  },
  {
   "cell_type": "code",
   "execution_count": 184,
   "id": "77488800-405b-425e-a3ba-d4ff801cdb0b",
   "metadata": {},
   "outputs": [
    {
     "data": {
      "text/plain": [
       "'[\"vendor\", \"O6gKT0\", \"X0iWxK\"]'"
      ]
     },
     "execution_count": 184,
     "metadata": {},
     "output_type": "execute_result"
    }
   ],
   "source": [
    "Session.load_ans_payload(test_waid)"
   ]
  },
  {
   "cell_type": "code",
   "execution_count": null,
   "id": "9bb395c3-44e6-477b-8f9d-9fef12dbf31c",
   "metadata": {},
   "outputs": [],
   "source": []
  },
  {
   "cell_type": "code",
   "execution_count": 38,
   "id": "f80b3ab3-c1ac-4848-8260-92058a47eaf6",
   "metadata": {},
   "outputs": [],
   "source": [
    "# third quiz"
   ]
  },
  {
   "cell_type": "code",
   "execution_count": 74,
   "id": "3087f6d9-3c33-48f6-82c8-0cdc25f7d1fe",
   "metadata": {},
   "outputs": [],
   "source": [
    "# testing slot 2"
   ]
  },
  {
   "cell_type": "code",
   "execution_count": 43,
   "id": "107867c3-bf5b-4ee1-980c-9167e5496585",
   "metadata": {},
   "outputs": [
    {
     "name": "stdout",
     "output_type": "stream",
     "text": [
      "\n",
      "\n",
      "calling general_session_update\n",
      "\n",
      "\n",
      "now setting : main_menu_nav, whose value is : 0\n",
      "now setting : main_menu_select, whose value is : \n",
      "now setting : sub1_menu_nav, whose value is : 0\n",
      "now setting : sub1_menu_select, whose value is : \n",
      "now setting : sub2_menu_select, whose value is : \n",
      "now setting : slot_filling, whose value is : 1\n",
      "now setting : current_slot_count, whose value is : 0\n",
      "now setting : current_slot_code, whose value is : P_S_H\n",
      "now setting : slot_quiz_count, whose value is : 3\n",
      "now setting : current_slot_handler, whose value is : P_S_H_handler\n",
      "\n",
      "\n",
      "\n"
     ]
    },
    {
     "data": {
      "text/plain": [
       "{'uid': 'xvfWUUtPLN',\n",
       " 'waid': '821320826',\n",
       " 'name': 'Garfield',\n",
       " 'current_menu_code': '',\n",
       " 'browsing_count': '0',\n",
       " 'main_menu_nav': '0',\n",
       " 'main_menu_select': '',\n",
       " 'sub1_menu_nav': '0',\n",
       " 'sub1_menu_select': '',\n",
       " 'sub2_menu_nav': '1',\n",
       " 'sub2_menu_select': '',\n",
       " 'slot_filling': '1',\n",
       " 'answer_payload': '[\"vendor\", \"redeem_code\", \"redeem_code4\"]',\n",
       " 'user_flow': '',\n",
       " 'current_slot_count': '0',\n",
       " 'current_slot_code': 'P_S_H',\n",
       " 'slot_quiz_count': '3',\n",
       " 'current_slot_handler': 'P_S_H_handler',\n",
       " 'session_active': '1',\n",
       " 'session_type': 'First',\n",
       " 'created_at': '1733176396.8991153',\n",
       " 'updated_at': '1733177094.1864977'}"
      ]
     },
     "execution_count": 43,
     "metadata": {},
     "output_type": "execute_result"
    }
   ],
   "source": [
    "new_slot_data = {\n",
    "    'main_menu_nav':0, \n",
    "    'main_menu_select':'', \n",
    "    'sub1_menu_nav':0, \n",
    "    'sub1_menu_select':'', \n",
    "    'sub2_menu_select':0, \n",
    "    'sub2_menu_select':'', \n",
    "    \n",
    "    'slot_filling':1,\n",
    "    'current_slot_count':0,\n",
    "    'current_slot_code':'P_S_H',\n",
    "    'slot_quiz_count':3,\n",
    "    'current_slot_handler':'P_S_H_handler'\n",
    "}\n",
    "Session.general_session_update(test_waid, new_slot_data)"
   ]
  },
  {
   "cell_type": "code",
   "execution_count": 44,
   "id": "e7f5b942-36d7-4ddb-a3c4-f89cf31159f3",
   "metadata": {},
   "outputs": [],
   "source": [
    "curr_slot_details = Session.fetch_slot_details(test_waid)"
   ]
  },
  {
   "cell_type": "code",
   "execution_count": 45,
   "id": "8a1d986f-6e40-48fb-bc49-4d56d5c8cc3b",
   "metadata": {},
   "outputs": [
    {
     "data": {
      "text/plain": [
       "{'slot_code': 'P_S_H',\n",
       " 'slot_count': '0',\n",
       " 'quiz_count': '3',\n",
       " 'slot_handler': 'P_S_H_handler'}"
      ]
     },
     "execution_count": 45,
     "metadata": {},
     "output_type": "execute_result"
    }
   ],
   "source": [
    "curr_slot_details"
   ]
  },
  {
   "cell_type": "code",
   "execution_count": 46,
   "id": "5506b7af-95d5-4202-92df-752cb20a1ed1",
   "metadata": {},
   "outputs": [],
   "source": [
    "new_slot_code = curr_slot_details['slot_code']"
   ]
  },
  {
   "cell_type": "code",
   "execution_count": 47,
   "id": "0406316a-86e6-4ce3-807f-ec561f7d9a33",
   "metadata": {},
   "outputs": [
    {
     "data": {
      "text/plain": [
       "'P_S_H'"
      ]
     },
     "execution_count": 47,
     "metadata": {},
     "output_type": "execute_result"
    }
   ],
   "source": [
    "new_slot_code"
   ]
  },
  {
   "cell_type": "code",
   "execution_count": 48,
   "id": "9a482579-426a-487c-b714-3ca540ad9664",
   "metadata": {},
   "outputs": [
    {
     "name": "stdout",
     "output_type": "stream",
     "text": [
      "\n",
      "\n",
      " calling get_slot_questions \n",
      "\n",
      "\n",
      "fetched slot_question is : {\"0\": \"Select your preffered session type \", \"1\": \"Enter M-pesa message for processing\\nYou can edit and cut out your balance.\", \"2\": \"Confirm M-pesa message by repeating it\\nYou can edt and cut out your balance\"}\n"
     ]
    }
   ],
   "source": [
    "quiz_pack_PSH = SlotQuestion.get_slot_questions(db, new_slot_code)"
   ]
  },
  {
   "cell_type": "code",
   "execution_count": 50,
   "id": "505dc0e8-2562-4b54-9c14-5fca82d1ea58",
   "metadata": {},
   "outputs": [
    {
     "name": "stdout",
     "output_type": "stream",
     "text": [
      "\n",
      "\n",
      "recieved slot quiz_pack is {'0': 'Select your preffered session type ', '1': 'Enter M-pesa message for processing\\nYou can edit and cut out your balance.', '2': 'Confirm M-pesa message by repeating it\\nYou can edt and cut out your balance'}\n",
      "\n",
      "\n",
      "\n",
      "\n",
      "current_slot_count is 0\n",
      "\n",
      "\n"
     ]
    }
   ],
   "source": [
    "quiz1 = Session.return_current_slot_quiz(test_waid,quiz_pack_PSH)"
   ]
  },
  {
   "cell_type": "code",
   "execution_count": 51,
   "id": "f12732cd-5b13-4b46-9c0d-f48aac382c2a",
   "metadata": {},
   "outputs": [
    {
     "data": {
      "text/plain": [
       "'Select your preffered session type '"
      ]
     },
     "execution_count": 51,
     "metadata": {},
     "output_type": "execute_result"
    }
   ],
   "source": [
    "quiz1"
   ]
  },
  {
   "cell_type": "code",
   "execution_count": 53,
   "id": "13f429c8-538c-4019-b86d-b3798559f286",
   "metadata": {},
   "outputs": [
    {
     "name": "stdout",
     "output_type": "stream",
     "text": [
      "\n",
      "\n",
      "just called step slotting\n",
      "\n",
      "\n",
      "stepping from count_ : 0\n"
     ]
    },
    {
     "data": {
      "text/plain": [
       "True"
      ]
     },
     "execution_count": 53,
     "metadata": {},
     "output_type": "execute_result"
    }
   ],
   "source": [
    "Session.step_slotting(test_waid, quiz_pack_PSH)"
   ]
  },
  {
   "cell_type": "code",
   "execution_count": 54,
   "id": "1367c5d8-ccb0-4c44-969a-18958c35c97e",
   "metadata": {},
   "outputs": [
    {
     "name": "stdout",
     "output_type": "stream",
     "text": [
      "\n",
      "\n",
      "recieved slot quiz_pack is {'0': 'Select your preffered session type ', '1': 'Enter M-pesa message for processing\\nYou can edit and cut out your balance.', '2': 'Confirm M-pesa message by repeating it\\nYou can edt and cut out your balance'}\n",
      "\n",
      "\n",
      "\n",
      "\n",
      "current_slot_count is 1\n",
      "\n",
      "\n"
     ]
    }
   ],
   "source": [
    "quiz2 = Session.return_current_slot_quiz(test_waid, quiz_pack_PSH)"
   ]
  },
  {
   "cell_type": "code",
   "execution_count": 55,
   "id": "6223b0ab-6455-45b0-b08c-894b38b02149",
   "metadata": {},
   "outputs": [
    {
     "data": {
      "text/plain": [
       "'Enter M-pesa message for processing\\nYou can edit and cut out your balance.'"
      ]
     },
     "execution_count": 55,
     "metadata": {},
     "output_type": "execute_result"
    }
   ],
   "source": [
    "quiz2"
   ]
  },
  {
   "cell_type": "code",
   "execution_count": 56,
   "id": "0ba96ee0-1553-482f-bdba-1427116afbdd",
   "metadata": {},
   "outputs": [
    {
     "name": "stdout",
     "output_type": "stream",
     "text": [
      "\n",
      "\n",
      "just called step slotting\n",
      "\n",
      "\n",
      "stepping from count_ : 1\n"
     ]
    },
    {
     "data": {
      "text/plain": [
       "True"
      ]
     },
     "execution_count": 56,
     "metadata": {},
     "output_type": "execute_result"
    }
   ],
   "source": [
    "Session.step_slotting(test_waid, quiz_pack_PSH)"
   ]
  },
  {
   "cell_type": "code",
   "execution_count": 58,
   "id": "04efdabf-bbdd-4297-acd5-3b19a5159681",
   "metadata": {},
   "outputs": [
    {
     "name": "stdout",
     "output_type": "stream",
     "text": [
      "\n",
      "\n",
      "recieved slot quiz_pack is {'0': 'Select your preffered session type ', '1': 'Enter M-pesa message for processing\\nYou can edit and cut out your balance.', '2': 'Confirm M-pesa message by repeating it\\nYou can edt and cut out your balance'}\n",
      "\n",
      "\n",
      "\n",
      "\n",
      "current_slot_count is 2\n",
      "\n",
      "\n"
     ]
    }
   ],
   "source": [
    "quiz3 = Session.return_current_slot_quiz(test_waid,quiz_pack_PSH)"
   ]
  },
  {
   "cell_type": "code",
   "execution_count": 59,
   "id": "c5893123-838e-4a1a-a970-12f78e8f189c",
   "metadata": {},
   "outputs": [
    {
     "data": {
      "text/plain": [
       "'Confirm M-pesa message by repeating it\\nYou can edt and cut out your balance'"
      ]
     },
     "execution_count": 59,
     "metadata": {},
     "output_type": "execute_result"
    }
   ],
   "source": [
    "quiz3"
   ]
  },
  {
   "cell_type": "code",
   "execution_count": 73,
   "id": "51415e4e-0884-4ed4-8312-df7b7d9efdd6",
   "metadata": {},
   "outputs": [
    {
     "name": "stdout",
     "output_type": "stream",
     "text": [
      "\n",
      "\n",
      "just called step slotting\n",
      "\n",
      "\n",
      "stepping from count_ : 0\n"
     ]
    },
    {
     "data": {
      "text/plain": [
       "True"
      ]
     },
     "execution_count": 73,
     "metadata": {},
     "output_type": "execute_result"
    }
   ],
   "source": [
    "Session.step_slotting(test_waid, quiz_pack_PSH)"
   ]
  },
  {
   "cell_type": "code",
   "execution_count": 74,
   "id": "9195dca0-6840-4428-9bf8-4b9b3cf3cfeb",
   "metadata": {},
   "outputs": [
    {
     "name": "stdout",
     "output_type": "stream",
     "text": [
      "\n",
      "\n",
      "recieved slot quiz_pack is {'0': 'Select your preffered session type ', '1': 'Enter M-pesa message for processing\\nYou can edit and cut out your balance.', '2': 'Confirm M-pesa message by repeating it\\nYou can edt and cut out your balance'}\n",
      "\n",
      "\n",
      "\n",
      "\n",
      "current_slot_count is 1\n",
      "\n",
      "\n"
     ]
    }
   ],
   "source": [
    "quiz_4 =  Session.return_current_slot_quiz(test_waid, quiz_pack_PSH)"
   ]
  },
  {
   "cell_type": "code",
   "execution_count": 75,
   "id": "c74a5033-80e7-42e1-9a31-38ab7e9c5292",
   "metadata": {},
   "outputs": [
    {
     "data": {
      "text/plain": [
       "'Enter M-pesa message for processing\\nYou can edit and cut out your balance.'"
      ]
     },
     "execution_count": 75,
     "metadata": {},
     "output_type": "execute_result"
    }
   ],
   "source": [
    "quiz_4"
   ]
  },
  {
   "cell_type": "code",
   "execution_count": 62,
   "id": "2bf4cff2-f6ac-4190-83a6-c7371018f577",
   "metadata": {},
   "outputs": [],
   "source": [
    "# testing slotting 3"
   ]
  },
  {
   "cell_type": "code",
   "execution_count": 63,
   "id": "af4e2319-ad70-4e47-9ca1-a3371e10a68f",
   "metadata": {},
   "outputs": [
    {
     "name": "stdout",
     "output_type": "stream",
     "text": [
      "\n",
      "\n",
      "calling general_session_update\n",
      "\n",
      "\n",
      "now setting : main_menu_nav, whose value is : 0\n",
      "now setting : main_menu_select, whose value is : \n",
      "now setting : sub1_menu_nav, whose value is : 0\n",
      "now setting : sub1_menu_select, whose value is : \n",
      "now setting : sub2_menu_select, whose value is : \n",
      "now setting : slot_filling, whose value is : 1\n",
      "now setting : current_slot_count, whose value is : 0\n",
      "now setting : current_slot_code, whose value is : C_SL_H\n",
      "now setting : slot_quiz_count, whose value is : 1\n",
      "now setting : current_slot_handler, whose value is : C_SL_H_handler\n",
      "\n",
      "\n",
      "\n"
     ]
    },
    {
     "data": {
      "text/plain": [
       "{'uid': 'xvfWUUtPLN',\n",
       " 'waid': '821320826',\n",
       " 'name': 'Garfield',\n",
       " 'current_menu_code': '',\n",
       " 'browsing_count': '0',\n",
       " 'main_menu_nav': '0',\n",
       " 'main_menu_select': '',\n",
       " 'sub1_menu_nav': '0',\n",
       " 'sub1_menu_select': '',\n",
       " 'sub2_menu_nav': '1',\n",
       " 'sub2_menu_select': '',\n",
       " 'slot_filling': '1',\n",
       " 'answer_payload': '[\"vendor\", \"redeem_code\", \"redeem_code4\"]',\n",
       " 'user_flow': '',\n",
       " 'current_slot_count': '0',\n",
       " 'current_slot_code': 'C_SL_H',\n",
       " 'slot_quiz_count': '1',\n",
       " 'current_slot_handler': 'C_SL_H_handler',\n",
       " 'session_active': '1',\n",
       " 'session_type': 'First',\n",
       " 'created_at': '1733176396.8991153',\n",
       " 'updated_at': '1733177329.2261603'}"
      ]
     },
     "execution_count": 63,
     "metadata": {},
     "output_type": "execute_result"
    }
   ],
   "source": [
    "new_slot_data = {\n",
    "    'main_menu_nav':0, \n",
    "    'main_menu_select':'', \n",
    "    'sub1_menu_nav':0, \n",
    "    'sub1_menu_select':'', \n",
    "    'sub2_menu_select':0, \n",
    "    'sub2_menu_select':'', \n",
    "    \n",
    "    'slot_filling':1,\n",
    "    'current_slot_count':0,\n",
    "    'current_slot_code':'C_SL_H',\n",
    "    'slot_quiz_count':1,\n",
    "    'current_slot_handler':'C_SL_H_handler'\n",
    "}\n",
    "Session.general_session_update(test_waid, new_slot_data)"
   ]
  },
  {
   "cell_type": "code",
   "execution_count": 64,
   "id": "8d806354-b589-4daf-be23-3b38420b9798",
   "metadata": {},
   "outputs": [],
   "source": [
    "curr_slot_details = Session.fetch_slot_details(test_waid)"
   ]
  },
  {
   "cell_type": "code",
   "execution_count": 65,
   "id": "ee814325-1573-41a5-b22f-186ebebd9d82",
   "metadata": {},
   "outputs": [
    {
     "data": {
      "text/plain": [
       "{'slot_code': 'C_SL_H',\n",
       " 'slot_count': '0',\n",
       " 'quiz_count': '1',\n",
       " 'slot_handler': 'C_SL_H_handler'}"
      ]
     },
     "execution_count": 65,
     "metadata": {},
     "output_type": "execute_result"
    }
   ],
   "source": [
    "curr_slot_details"
   ]
  },
  {
   "cell_type": "code",
   "execution_count": 66,
   "id": "9b03317f-d719-4c42-8afe-7d12c6a7cf1c",
   "metadata": {},
   "outputs": [
    {
     "name": "stdout",
     "output_type": "stream",
     "text": [
      "\n",
      "\n",
      " calling get_slot_questions \n",
      "\n",
      "\n",
      "fetched slot_question is : {\"0\": \"Enter location pin to update your search location\"}\n"
     ]
    }
   ],
   "source": [
    "quiz_pack4 = SlotQuestion.get_slot_questions(db,curr_slot_details['slot_code'])"
   ]
  },
  {
   "cell_type": "code",
   "execution_count": 102,
   "id": "f7667d6d-93bf-4949-868e-a8381abce078",
   "metadata": {},
   "outputs": [
    {
     "data": {
      "text/plain": [
       "{'0': 'Enter location pin to update your search location'}"
      ]
     },
     "execution_count": 102,
     "metadata": {},
     "output_type": "execute_result"
    }
   ],
   "source": [
    "quiz_pack4"
   ]
  },
  {
   "cell_type": "code",
   "execution_count": 103,
   "id": "81a60898-3411-41f6-8bae-ae7b724597ab",
   "metadata": {},
   "outputs": [
    {
     "name": "stdout",
     "output_type": "stream",
     "text": [
      "\n",
      "\n",
      "recieved slot quiz_pack is {'0': 'Enter location pin to update your search location'}\n",
      "\n",
      "\n",
      "\n",
      "\n",
      "current_slot_count is 0\n",
      "\n",
      "\n"
     ]
    }
   ],
   "source": [
    "quiz_1 = Session.return_current_slot_quiz(test_waid, quiz_pack4)"
   ]
  },
  {
   "cell_type": "code",
   "execution_count": 104,
   "id": "350d7355-a312-41d9-aca0-9851de28d01b",
   "metadata": {},
   "outputs": [
    {
     "data": {
      "text/plain": [
       "'Enter location pin to update your search location'"
      ]
     },
     "execution_count": 104,
     "metadata": {},
     "output_type": "execute_result"
    }
   ],
   "source": [
    "quiz_1"
   ]
  },
  {
   "cell_type": "code",
   "execution_count": 105,
   "id": "0390b183-4213-4912-b638-455b3f0bcd2c",
   "metadata": {},
   "outputs": [
    {
     "name": "stdout",
     "output_type": "stream",
     "text": [
      "\n",
      "\n",
      "just called step slotting\n",
      "\n",
      "\n",
      "stepping from count_ : 0\n",
      "questions over, not stepping, should be resetting\n"
     ]
    }
   ],
   "source": [
    "Session.step_slotting(test_waid, quiz_pack4)"
   ]
  },
  {
   "cell_type": "code",
   "execution_count": 107,
   "id": "f15e4ae0-85af-4364-9caf-4b3069880c5d",
   "metadata": {},
   "outputs": [],
   "source": [
    "# skipping vendor update location"
   ]
  },
  {
   "cell_type": "code",
   "execution_count": 108,
   "id": "1727a933-f860-43bf-9474-62292f709152",
   "metadata": {},
   "outputs": [],
   "source": [
    "# testing V_UIS_H"
   ]
  },
  {
   "cell_type": "code",
   "execution_count": 109,
   "id": "b50d9f5c-620e-4a8b-a188-4dce23514871",
   "metadata": {},
   "outputs": [
    {
     "name": "stdout",
     "output_type": "stream",
     "text": [
      "\n",
      "\n",
      "calling general_session_update\n",
      "\n",
      "\n",
      "now setting : main_menu_nav, whose value is : 0\n",
      "now setting : main_menu_select, whose value is : \n",
      "now setting : sub1_menu_nav, whose value is : 0\n",
      "now setting : sub1_menu_select, whose value is : \n",
      "now setting : sub2_menu_select, whose value is : \n",
      "now setting : slot_filling, whose value is : 1\n",
      "now setting : current_slot_count, whose value is : 0\n",
      "now setting : current_slot_code, whose value is : V_UIS_H\n",
      "now setting : slot_quiz_count, whose value is : 11\n",
      "now setting : current_slot_handler, whose value is : V_UIS_H_handler\n"
     ]
    },
    {
     "data": {
      "text/plain": [
       "{'uid': 'lyQJ7FIfO9',\n",
       " 'waid': '821320826',\n",
       " 'name': 'Garfield',\n",
       " 'current_menu_code': '',\n",
       " 'browsing_count': '0',\n",
       " 'main_menu_nav': '0',\n",
       " 'main_menu_select': '',\n",
       " 'sub1_menu_nav': '0',\n",
       " 'sub1_menu_select': '',\n",
       " 'sub2_menu_nav': '1',\n",
       " 'sub2_menu_select': '',\n",
       " 'slot_filling': '1',\n",
       " 'answer_payload': '[]',\n",
       " 'user_flow': '',\n",
       " 'current_slot_count': '0',\n",
       " 'current_slot_code': 'V_UIS_H',\n",
       " 'slot_quiz_count': '11',\n",
       " 'current_slot_handler': 'V_UIS_H_handler',\n",
       " 'session_active': '1',\n",
       " 'session_type': 'First',\n",
       " 'created_at': '1732904050.094863',\n",
       " 'updated_at': '1732904050.0948634'}"
      ]
     },
     "execution_count": 109,
     "metadata": {},
     "output_type": "execute_result"
    }
   ],
   "source": [
    "new_slot_data = {\n",
    "    'main_menu_nav':0, \n",
    "    'main_menu_select':'', \n",
    "    'sub1_menu_nav':0, \n",
    "    'sub1_menu_select':'', \n",
    "    'sub2_menu_select':0, \n",
    "    'sub2_menu_select':'', \n",
    "    \n",
    "    'slot_filling':1,\n",
    "    'current_slot_count':0,\n",
    "    'current_slot_code':'V_UIS_H',\n",
    "    'slot_quiz_count':11,\n",
    "    'current_slot_handler':'V_UIS_H_handler'\n",
    "}\n",
    "Session.general_session_update(test_waid, new_slot_data)"
   ]
  },
  {
   "cell_type": "code",
   "execution_count": 111,
   "id": "8942f8ee-e442-4012-8ba2-a1a9807abc3b",
   "metadata": {},
   "outputs": [],
   "source": [
    "curr_slot_details4 = Session.fetch_slot_details(test_waid) "
   ]
  },
  {
   "cell_type": "code",
   "execution_count": 112,
   "id": "1e8c0446-ce03-482f-bf44-a374fdba9162",
   "metadata": {},
   "outputs": [
    {
     "data": {
      "text/plain": [
       "{'slot_code': 'V_UIS_H',\n",
       " 'slot_count': '0',\n",
       " 'quiz_count': '11',\n",
       " 'slot_handler': 'V_UIS_H_handler'}"
      ]
     },
     "execution_count": 112,
     "metadata": {},
     "output_type": "execute_result"
    }
   ],
   "source": [
    "curr_slot_details4"
   ]
  },
  {
   "cell_type": "code",
   "execution_count": 113,
   "id": "5198d1d7-4531-44ca-a81a-841bb5b7d81a",
   "metadata": {},
   "outputs": [
    {
     "name": "stdout",
     "output_type": "stream",
     "text": [
      "fetched slot_question is : {\"0\": \"Enter item name\", \"1\": \"Enter item description\", \"2\": \"Enter item price\", \"3\": \"Do you accept live media prompting by customer\", \"4\": \"Should this item be public or private ?\", \"5\": \"Select which type of item you are selling\", \"6\": \"Upload item cover media image\", \"7\": \"Upload item order plate image\", \"8\": \"Upload item receipt plate image\", \"9\": \"Upload item instacard big plate image\", \"10\": \"Upload item instacard small plate image\"}\n"
     ]
    }
   ],
   "source": [
    "quiz_pack6 = SlotQuestion.get_slot_questions(db,curr_slot_details4['slot_code'])"
   ]
  },
  {
   "cell_type": "code",
   "execution_count": 114,
   "id": "7b36aa21-673d-499e-94e2-90a7b6fec2dc",
   "metadata": {},
   "outputs": [
    {
     "data": {
      "text/plain": [
       "{'0': 'Enter item name',\n",
       " '1': 'Enter item description',\n",
       " '2': 'Enter item price',\n",
       " '3': 'Do you accept live media prompting by customer',\n",
       " '4': 'Should this item be public or private ?',\n",
       " '5': 'Select which type of item you are selling',\n",
       " '6': 'Upload item cover media image',\n",
       " '7': 'Upload item order plate image',\n",
       " '8': 'Upload item receipt plate image',\n",
       " '9': 'Upload item instacard big plate image',\n",
       " '10': 'Upload item instacard small plate image'}"
      ]
     },
     "execution_count": 114,
     "metadata": {},
     "output_type": "execute_result"
    }
   ],
   "source": [
    "quiz_pack6"
   ]
  },
  {
   "cell_type": "code",
   "execution_count": 115,
   "id": "9eed19c5-784a-4c83-abb3-a757bac4453f",
   "metadata": {},
   "outputs": [
    {
     "name": "stdout",
     "output_type": "stream",
     "text": [
      "\n",
      "\n",
      "recieved slot quiz_pack is {'0': 'Enter item name', '1': 'Enter item description', '2': 'Enter item price', '3': 'Do you accept live media prompting by customer', '4': 'Should this item be public or private ?', '5': 'Select which type of item you are selling', '6': 'Upload item cover media image', '7': 'Upload item order plate image', '8': 'Upload item receipt plate image', '9': 'Upload item instacard big plate image', '10': 'Upload item instacard small plate image'}\n",
      "\n",
      "\n",
      "\n",
      "\n",
      "current_slot_count is 0\n",
      "\n",
      "\n"
     ]
    }
   ],
   "source": [
    "quiz_6_1 = Session.return_current_slot_quiz(test_waid, quiz_pack6)"
   ]
  },
  {
   "cell_type": "code",
   "execution_count": 116,
   "id": "160e8b47-81ae-46b0-a3e8-855f57de887d",
   "metadata": {},
   "outputs": [
    {
     "data": {
      "text/plain": [
       "'Enter item name'"
      ]
     },
     "execution_count": 116,
     "metadata": {},
     "output_type": "execute_result"
    }
   ],
   "source": [
    "quiz_6_1"
   ]
  },
  {
   "cell_type": "code",
   "execution_count": 117,
   "id": "a571a147-25bb-4fe9-9bdb-0ed14ea465af",
   "metadata": {},
   "outputs": [
    {
     "name": "stdout",
     "output_type": "stream",
     "text": [
      "\n",
      "\n",
      "just called step slotting\n",
      "\n",
      "\n",
      "stepping from count_ : 0\n"
     ]
    }
   ],
   "source": [
    "Session.step_slotting(test_waid,quiz_pack6)"
   ]
  },
  {
   "cell_type": "code",
   "execution_count": 118,
   "id": "b7c6f5a3-393c-4111-9999-eeceb626416f",
   "metadata": {},
   "outputs": [
    {
     "name": "stdout",
     "output_type": "stream",
     "text": [
      "\n",
      "\n",
      "recieved slot quiz_pack is {'0': 'Enter item name', '1': 'Enter item description', '2': 'Enter item price', '3': 'Do you accept live media prompting by customer', '4': 'Should this item be public or private ?', '5': 'Select which type of item you are selling', '6': 'Upload item cover media image', '7': 'Upload item order plate image', '8': 'Upload item receipt plate image', '9': 'Upload item instacard big plate image', '10': 'Upload item instacard small plate image'}\n",
      "\n",
      "\n",
      "\n",
      "\n",
      "current_slot_count is 1\n",
      "\n",
      "\n"
     ]
    }
   ],
   "source": [
    "quiz_6_2 = Session.return_current_slot_quiz(test_waid, quiz_pack6)"
   ]
  },
  {
   "cell_type": "code",
   "execution_count": 119,
   "id": "41735e59-1007-473a-96b4-794ca003abf2",
   "metadata": {},
   "outputs": [
    {
     "data": {
      "text/plain": [
       "'Enter item description'"
      ]
     },
     "execution_count": 119,
     "metadata": {},
     "output_type": "execute_result"
    }
   ],
   "source": [
    "quiz_6_2"
   ]
  },
  {
   "cell_type": "code",
   "execution_count": 120,
   "id": "7910cc9a-30d8-4c8c-820a-8d8946c6eddf",
   "metadata": {},
   "outputs": [
    {
     "name": "stdout",
     "output_type": "stream",
     "text": [
      "\n",
      "\n",
      "just called step slotting\n",
      "\n",
      "\n",
      "stepping from count_ : 1\n"
     ]
    }
   ],
   "source": [
    "Session.step_slotting(test_waid,quiz_pack6)"
   ]
  },
  {
   "cell_type": "code",
   "execution_count": 121,
   "id": "ee739ef1-ed77-46ec-a19c-a403fabeaff7",
   "metadata": {},
   "outputs": [
    {
     "name": "stdout",
     "output_type": "stream",
     "text": [
      "\n",
      "\n",
      "recieved slot quiz_pack is {'0': 'Enter item name', '1': 'Enter item description', '2': 'Enter item price', '3': 'Do you accept live media prompting by customer', '4': 'Should this item be public or private ?', '5': 'Select which type of item you are selling', '6': 'Upload item cover media image', '7': 'Upload item order plate image', '8': 'Upload item receipt plate image', '9': 'Upload item instacard big plate image', '10': 'Upload item instacard small plate image'}\n",
      "\n",
      "\n",
      "\n",
      "\n",
      "current_slot_count is 2\n",
      "\n",
      "\n"
     ]
    }
   ],
   "source": [
    "quiz_6_3 = Session.return_current_slot_quiz(test_waid,quiz_pack6)"
   ]
  },
  {
   "cell_type": "code",
   "execution_count": 122,
   "id": "d1fabf3f-be13-4a6a-aba7-336c69475c70",
   "metadata": {},
   "outputs": [
    {
     "data": {
      "text/plain": [
       "'Enter item price'"
      ]
     },
     "execution_count": 122,
     "metadata": {},
     "output_type": "execute_result"
    }
   ],
   "source": [
    "quiz_6_3"
   ]
  },
  {
   "cell_type": "code",
   "execution_count": 123,
   "id": "c77f73de-41b0-4445-831d-0d6eee3b125d",
   "metadata": {},
   "outputs": [
    {
     "name": "stdout",
     "output_type": "stream",
     "text": [
      "\n",
      "\n",
      "just called step slotting\n",
      "\n",
      "\n",
      "stepping from count_ : 2\n"
     ]
    }
   ],
   "source": [
    "Session.step_slotting(test_waid,quiz_pack6)"
   ]
  },
  {
   "cell_type": "code",
   "execution_count": 124,
   "id": "936a2e1b-b9e2-44de-b30a-46f34a1cb2cb",
   "metadata": {},
   "outputs": [
    {
     "name": "stdout",
     "output_type": "stream",
     "text": [
      "\n",
      "\n",
      "recieved slot quiz_pack is {'0': 'Enter item name', '1': 'Enter item description', '2': 'Enter item price', '3': 'Do you accept live media prompting by customer', '4': 'Should this item be public or private ?', '5': 'Select which type of item you are selling', '6': 'Upload item cover media image', '7': 'Upload item order plate image', '8': 'Upload item receipt plate image', '9': 'Upload item instacard big plate image', '10': 'Upload item instacard small plate image'}\n",
      "\n",
      "\n",
      "\n",
      "\n",
      "current_slot_count is 3\n",
      "\n",
      "\n"
     ]
    }
   ],
   "source": [
    "quiz_6_4 = Session.return_current_slot_quiz(test_waid,quiz_pack6)"
   ]
  },
  {
   "cell_type": "code",
   "execution_count": 125,
   "id": "433fefa5-69d6-41af-a73e-a834f034db74",
   "metadata": {},
   "outputs": [
    {
     "data": {
      "text/plain": [
       "'Do you accept live media prompting by customer'"
      ]
     },
     "execution_count": 125,
     "metadata": {},
     "output_type": "execute_result"
    }
   ],
   "source": [
    "quiz_6_4"
   ]
  },
  {
   "cell_type": "code",
   "execution_count": 126,
   "id": "3374405e-9f9f-4f61-be3c-bed9565a0299",
   "metadata": {},
   "outputs": [
    {
     "name": "stdout",
     "output_type": "stream",
     "text": [
      "\n",
      "\n",
      "just called step slotting\n",
      "\n",
      "\n",
      "stepping from count_ : 3\n",
      "\n",
      "\n",
      "recieved slot quiz_pack is {'0': 'Enter item name', '1': 'Enter item description', '2': 'Enter item price', '3': 'Do you accept live media prompting by customer', '4': 'Should this item be public or private ?', '5': 'Select which type of item you are selling', '6': 'Upload item cover media image', '7': 'Upload item order plate image', '8': 'Upload item receipt plate image', '9': 'Upload item instacard big plate image', '10': 'Upload item instacard small plate image'}\n",
      "\n",
      "\n",
      "\n",
      "\n",
      "current_slot_count is 4\n",
      "\n",
      "\n"
     ]
    }
   ],
   "source": [
    "Session.step_slotting(test_waid,quiz_pack6)\n",
    "quiz_6_5 = Session.return_current_slot_quiz(test_waid,quiz_pack6)"
   ]
  },
  {
   "cell_type": "code",
   "execution_count": 127,
   "id": "367a763d-a66e-4b57-be46-3d9c5e60ba3e",
   "metadata": {},
   "outputs": [
    {
     "data": {
      "text/plain": [
       "'Should this item be public or private ?'"
      ]
     },
     "execution_count": 127,
     "metadata": {},
     "output_type": "execute_result"
    }
   ],
   "source": [
    "quiz_6_5"
   ]
  },
  {
   "cell_type": "code",
   "execution_count": 128,
   "id": "18cdfe8b-3e2d-4c6d-84f4-54f8635a8023",
   "metadata": {},
   "outputs": [
    {
     "name": "stdout",
     "output_type": "stream",
     "text": [
      "\n",
      "\n",
      "just called step slotting\n",
      "\n",
      "\n",
      "stepping from count_ : 4\n",
      "\n",
      "\n",
      "recieved slot quiz_pack is {'0': 'Enter item name', '1': 'Enter item description', '2': 'Enter item price', '3': 'Do you accept live media prompting by customer', '4': 'Should this item be public or private ?', '5': 'Select which type of item you are selling', '6': 'Upload item cover media image', '7': 'Upload item order plate image', '8': 'Upload item receipt plate image', '9': 'Upload item instacard big plate image', '10': 'Upload item instacard small plate image'}\n",
      "\n",
      "\n",
      "\n",
      "\n",
      "current_slot_count is 5\n",
      "\n",
      "\n"
     ]
    }
   ],
   "source": [
    "Session.step_slotting(test_waid,quiz_pack6)\n",
    "quiz_6_6 = Session.return_current_slot_quiz(test_waid,quiz_pack6)"
   ]
  },
  {
   "cell_type": "code",
   "execution_count": 129,
   "id": "84387282-7b6e-4f9a-a12e-567b6928c639",
   "metadata": {},
   "outputs": [
    {
     "data": {
      "text/plain": [
       "'Select which type of item you are selling'"
      ]
     },
     "execution_count": 129,
     "metadata": {},
     "output_type": "execute_result"
    }
   ],
   "source": [
    "quiz_6_6"
   ]
  },
  {
   "cell_type": "code",
   "execution_count": 130,
   "id": "3a8c6a59-a7b1-4ed0-ad0a-52200ef9af0e",
   "metadata": {},
   "outputs": [
    {
     "name": "stdout",
     "output_type": "stream",
     "text": [
      "\n",
      "\n",
      "just called step slotting\n",
      "\n",
      "\n",
      "stepping from count_ : 5\n",
      "\n",
      "\n",
      "recieved slot quiz_pack is {'0': 'Enter item name', '1': 'Enter item description', '2': 'Enter item price', '3': 'Do you accept live media prompting by customer', '4': 'Should this item be public or private ?', '5': 'Select which type of item you are selling', '6': 'Upload item cover media image', '7': 'Upload item order plate image', '8': 'Upload item receipt plate image', '9': 'Upload item instacard big plate image', '10': 'Upload item instacard small plate image'}\n",
      "\n",
      "\n",
      "\n",
      "\n",
      "current_slot_count is 6\n",
      "\n",
      "\n"
     ]
    }
   ],
   "source": [
    "Session.step_slotting(test_waid,quiz_pack6)\n",
    "quiz_6_7 = Session.return_current_slot_quiz(test_waid,quiz_pack6)"
   ]
  },
  {
   "cell_type": "code",
   "execution_count": 131,
   "id": "4bf0a4ad-6b8e-42da-8e58-e7f8dd8072c6",
   "metadata": {},
   "outputs": [
    {
     "data": {
      "text/plain": [
       "'Upload item cover media image'"
      ]
     },
     "execution_count": 131,
     "metadata": {},
     "output_type": "execute_result"
    }
   ],
   "source": [
    "quiz_6_7"
   ]
  },
  {
   "cell_type": "code",
   "execution_count": 132,
   "id": "77d8887f-0aab-4453-8879-ec4ee68838d1",
   "metadata": {},
   "outputs": [
    {
     "name": "stdout",
     "output_type": "stream",
     "text": [
      "\n",
      "\n",
      "just called step slotting\n",
      "\n",
      "\n",
      "stepping from count_ : 6\n",
      "\n",
      "\n",
      "recieved slot quiz_pack is {'0': 'Enter item name', '1': 'Enter item description', '2': 'Enter item price', '3': 'Do you accept live media prompting by customer', '4': 'Should this item be public or private ?', '5': 'Select which type of item you are selling', '6': 'Upload item cover media image', '7': 'Upload item order plate image', '8': 'Upload item receipt plate image', '9': 'Upload item instacard big plate image', '10': 'Upload item instacard small plate image'}\n",
      "\n",
      "\n",
      "\n",
      "\n",
      "current_slot_count is 7\n",
      "\n",
      "\n"
     ]
    }
   ],
   "source": [
    "Session.step_slotting(test_waid,quiz_pack6)\n",
    "quiz_6_8 = Session.return_current_slot_quiz(test_waid,quiz_pack6)"
   ]
  },
  {
   "cell_type": "code",
   "execution_count": 133,
   "id": "491f6408-e7cf-4443-80af-d9a010cbbe49",
   "metadata": {},
   "outputs": [
    {
     "data": {
      "text/plain": [
       "'Upload item order plate image'"
      ]
     },
     "execution_count": 133,
     "metadata": {},
     "output_type": "execute_result"
    }
   ],
   "source": [
    "quiz_6_8"
   ]
  },
  {
   "cell_type": "code",
   "execution_count": 134,
   "id": "b7f36e7a-8fe5-4c3b-aa75-a2c0e786af59",
   "metadata": {},
   "outputs": [
    {
     "name": "stdout",
     "output_type": "stream",
     "text": [
      "\n",
      "\n",
      "just called step slotting\n",
      "\n",
      "\n",
      "stepping from count_ : 7\n",
      "\n",
      "\n",
      "recieved slot quiz_pack is {'0': 'Enter item name', '1': 'Enter item description', '2': 'Enter item price', '3': 'Do you accept live media prompting by customer', '4': 'Should this item be public or private ?', '5': 'Select which type of item you are selling', '6': 'Upload item cover media image', '7': 'Upload item order plate image', '8': 'Upload item receipt plate image', '9': 'Upload item instacard big plate image', '10': 'Upload item instacard small plate image'}\n",
      "\n",
      "\n",
      "\n",
      "\n",
      "current_slot_count is 8\n",
      "\n",
      "\n"
     ]
    }
   ],
   "source": [
    "Session.step_slotting(test_waid,quiz_pack6)\n",
    "quiz_6_9 = Session.return_current_slot_quiz(test_waid,quiz_pack6)"
   ]
  },
  {
   "cell_type": "code",
   "execution_count": 135,
   "id": "36ac5d5b-805b-459f-b872-0496e5783e3f",
   "metadata": {},
   "outputs": [
    {
     "data": {
      "text/plain": [
       "'Upload item receipt plate image'"
      ]
     },
     "execution_count": 135,
     "metadata": {},
     "output_type": "execute_result"
    }
   ],
   "source": [
    "quiz_6_9"
   ]
  },
  {
   "cell_type": "code",
   "execution_count": 136,
   "id": "b3d7d2fa-1ff1-429e-b603-d8a0e4cb3080",
   "metadata": {},
   "outputs": [
    {
     "name": "stdout",
     "output_type": "stream",
     "text": [
      "\n",
      "\n",
      "just called step slotting\n",
      "\n",
      "\n",
      "stepping from count_ : 8\n",
      "\n",
      "\n",
      "recieved slot quiz_pack is {'0': 'Enter item name', '1': 'Enter item description', '2': 'Enter item price', '3': 'Do you accept live media prompting by customer', '4': 'Should this item be public or private ?', '5': 'Select which type of item you are selling', '6': 'Upload item cover media image', '7': 'Upload item order plate image', '8': 'Upload item receipt plate image', '9': 'Upload item instacard big plate image', '10': 'Upload item instacard small plate image'}\n",
      "\n",
      "\n",
      "\n",
      "\n",
      "current_slot_count is 9\n",
      "\n",
      "\n"
     ]
    }
   ],
   "source": [
    "Session.step_slotting(test_waid,quiz_pack6)\n",
    "quiz_6_10 = Session.return_current_slot_quiz(test_waid,quiz_pack6)"
   ]
  },
  {
   "cell_type": "code",
   "execution_count": 137,
   "id": "8911bca5-4790-4450-917c-7e53f5ab2935",
   "metadata": {},
   "outputs": [
    {
     "data": {
      "text/plain": [
       "'Upload item instacard big plate image'"
      ]
     },
     "execution_count": 137,
     "metadata": {},
     "output_type": "execute_result"
    }
   ],
   "source": [
    "quiz_6_10"
   ]
  },
  {
   "cell_type": "code",
   "execution_count": 138,
   "id": "b6a6887d-552e-4f4a-ac66-8e58b35a416d",
   "metadata": {},
   "outputs": [
    {
     "name": "stdout",
     "output_type": "stream",
     "text": [
      "\n",
      "\n",
      "just called step slotting\n",
      "\n",
      "\n",
      "stepping from count_ : 9\n",
      "\n",
      "\n",
      "recieved slot quiz_pack is {'0': 'Enter item name', '1': 'Enter item description', '2': 'Enter item price', '3': 'Do you accept live media prompting by customer', '4': 'Should this item be public or private ?', '5': 'Select which type of item you are selling', '6': 'Upload item cover media image', '7': 'Upload item order plate image', '8': 'Upload item receipt plate image', '9': 'Upload item instacard big plate image', '10': 'Upload item instacard small plate image'}\n",
      "\n",
      "\n",
      "\n",
      "\n",
      "current_slot_count is 10\n",
      "\n",
      "\n"
     ]
    }
   ],
   "source": [
    "Session.step_slotting(test_waid,quiz_pack6)\n",
    "quiz_6_11 = Session.return_current_slot_quiz(test_waid,quiz_pack6)"
   ]
  },
  {
   "cell_type": "code",
   "execution_count": 139,
   "id": "18c18aad-aacd-4e67-8cf5-a550b6291b5d",
   "metadata": {},
   "outputs": [
    {
     "data": {
      "text/plain": [
       "'Upload item instacard small plate image'"
      ]
     },
     "execution_count": 139,
     "metadata": {},
     "output_type": "execute_result"
    }
   ],
   "source": [
    "quiz_6_11"
   ]
  },
  {
   "cell_type": "code",
   "execution_count": 141,
   "id": "62650029-fcbe-4bc6-954f-41c9523698d2",
   "metadata": {},
   "outputs": [
    {
     "name": "stdout",
     "output_type": "stream",
     "text": [
      "\n",
      "\n",
      "just called step slotting\n",
      "\n",
      "\n",
      "stepping from count_ : 10\n",
      "questions over, not stepping, should be resetting\n"
     ]
    }
   ],
   "source": [
    "res = Session.step_slotting(test_waid,quiz_pack6)"
   ]
  },
  {
   "cell_type": "code",
   "execution_count": 142,
   "id": "9486cf77-5519-4dce-bb57-3c2437ecca82",
   "metadata": {},
   "outputs": [],
   "source": [
    "res"
   ]
  },
  {
   "cell_type": "code",
   "execution_count": null,
   "id": "51db6bdc-9e9b-4af3-98fb-2ef4d8a7a315",
   "metadata": {},
   "outputs": [],
   "source": []
  }
 ],
 "metadata": {
  "kernelspec": {
   "display_name": "Python 3 (ipykernel)",
   "language": "python",
   "name": "python3"
  },
  "language_info": {
   "codemirror_mode": {
    "name": "ipython",
    "version": 3
   },
   "file_extension": ".py",
   "mimetype": "text/x-python",
   "name": "python",
   "nbconvert_exporter": "python",
   "pygments_lexer": "ipython3",
   "version": "3.10.12"
  }
 },
 "nbformat": 4,
 "nbformat_minor": 5
}
