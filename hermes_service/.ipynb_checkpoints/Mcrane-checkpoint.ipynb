{
 "cells": [
  {
   "cell_type": "code",
   "execution_count": 21,
   "id": "5a3bd0b9-6673-49e2-aabe-b8904e772d97",
   "metadata": {},
   "outputs": [],
   "source": [
    "from blu import Session, hermes_bot_db"
   ]
  },
  {
   "cell_type": "code",
   "execution_count": 23,
   "id": "2b0400ff-889d-4d9f-a5ab-056d5180ac56",
   "metadata": {},
   "outputs": [],
   "source": [
    "from models import SessionLocal"
   ]
  },
  {
   "cell_type": "code",
   "execution_count": 22,
   "id": "9fad722a-15e4-4302-832e-00a5c40f1bca",
   "metadata": {},
   "outputs": [],
   "source": [
    "test_waid = \"821320826\""
   ]
  },
  {
   "cell_type": "code",
   "execution_count": null,
   "id": "9e418423-d945-47b5-a68a-3ed3cce5a53c",
   "metadata": {},
   "outputs": [],
   "source": []
  },
  {
   "cell_type": "code",
   "execution_count": 1,
   "id": "adacd3bd-ac1f-4bc4-a390-c5d20e5796c6",
   "metadata": {},
   "outputs": [],
   "source": [
    "# testing compacted flow by introducting action_handler_type, action_handler,"
   ]
  },
  {
   "cell_type": "code",
   "execution_count": 2,
   "id": "b5d90239-7ec5-4d97-97e3-d03615900403",
   "metadata": {},
   "outputs": [],
   "source": [
    "# session_type:First, main menu listing\n",
    "main_menu_no_session_listing = [\n",
    "    {\n",
    "        'menu_code': 'ACCOUNT',\n",
    "        'media': ['https://ibb.co/cJZMRLk'],\n",
    "        'menu_message': \"Account menu\\n\\nProceed by selecting one of the buttons\",\n",
    "        'menu_sticker':'CAACAgIAAxkBAAIE7mZy7_qRkDcbEmP3mGwAAeHd3qfyggACNAADwZxgDP8a5OfWWHRQNQQ',\n",
    "        'action_handler_type':'sub1_menu',\n",
    "        'action_handler':'authenticate_sub1_menu_listing'\n",
    "    },\n",
    "    {\n",
    "        'menu_code': 'ABOUT',\n",
    "        'media': ['https://ibb.co/tsC248m'],\n",
    "        'menu_message': \"About menu\\n\\nProceed by selecting one of the buttons\",\n",
    "        'menu_sticker':'CAACAgIAAxkBAAIE9mZy8gABviXQSyg6H2gk0fG1C4TQrQACbQADpsrIDMzP5klyYCgJNQQ',\n",
    "        'action_handler_type':'bl2_browser',\n",
    "        'action_handler':'abt_bl2_menu_listing'\n",
    "        \n",
    "    }\n",
    "]"
   ]
  },
  {
   "cell_type": "code",
   "execution_count": null,
   "id": "919600c9-9ac1-4a7a-82ac-0201177e672e",
   "metadata": {},
   "outputs": [],
   "source": [
    "# main menu actions\n",
    "# browse(), select(), cancel(), switch()"
   ]
  },
  {
   "cell_type": "code",
   "execution_count": 3,
   "id": "bbc324fa-04c2-4da0-b1af-7c19e28570a5",
   "metadata": {},
   "outputs": [],
   "source": [
    "# session_type:First sub1_menu listing"
   ]
  },
  {
   "cell_type": "code",
   "execution_count": 8,
   "id": "641c0ca4-2ab6-428b-9bf1-5ec08e0a86e0",
   "metadata": {},
   "outputs": [],
   "source": [
    "authenticate_sub1_menu_listing = [\n",
    "    {\n",
    "        'menu_code':'REDEEM-SESSION',\n",
    "        'media':['https://ibb.co/CmvrRDs'],\n",
    "        'menu_message':'Redeem menu\\n\\nProceed by selecting one of the buttons',\n",
    "        'menu_sticker':'CAACAgIAAxkBAAIE7mZy7_qRkDcbEmP3mGwAAeHd3qfyggACNAADwZxgDP8a5OfWWHRQNQQ',\n",
    "        'action_handler_type':'slot_question',\n",
    "        'action_handler':'R_S_H'\n",
    "    },\n",
    "    {\n",
    "        'menu_code':'PURCHASE-SESSION',\n",
    "        'media':['https://ibb.co/pWQ3gxM'],\n",
    "        'menu_message':'Purchase menu\\n\\nProceed by selecting one of the buttons below',\n",
    "        'menu_sticker':'CAACAgIAAxkBAAIE7mZy7_qRkDcbEmP3mGwAAeHd3qfyggACNAADwZxgDP8a5OfWWHRQNQQ',\n",
    "        'action_handler_type': 'slot_question',\n",
    "        'action_handler':'P_S_H'\n",
    "    }\n",
    "]"
   ]
  },
  {
   "cell_type": "code",
   "execution_count": null,
   "id": "8f238312-e287-4101-9c08-449055edac84",
   "metadata": {},
   "outputs": [],
   "source": [
    "# methods\n",
    "# browse(), select(), cancel(), switch()"
   ]
  },
  {
   "cell_type": "code",
   "execution_count": 9,
   "id": "7a91b99b-d63f-4a1b-82cd-33b251137f6b",
   "metadata": {},
   "outputs": [],
   "source": [
    "# session_type:First bl2_menu_listing"
   ]
  },
  {
   "cell_type": "code",
   "execution_count": 10,
   "id": "78d4ab38-f84e-4d06-9c25-5866f272b00d",
   "metadata": {},
   "outputs": [],
   "source": [
    "# formerly : abt_sub1_menu_listing, now about_bl2_menu_listing"
   ]
  },
  {
   "cell_type": "code",
   "execution_count": 11,
   "id": "364ef57a-776a-469e-ba3d-4f99c9439c0f",
   "metadata": {},
   "outputs": [],
   "source": [
    "about_bl2_menu_listing = [\n",
    "    {\n",
    "        'menu_code':'ABOUT-A',\n",
    "        'media':['https://ibb.co/vvWcvvg'],\n",
    "        'menu_message':'About menu\\n\\nProceed by selecting one of the buttons below',\n",
    "        'menu_sticker':'CAACAgIAAxkBAAIE7mZy7_qRkDcbEmP3mGwAAeHd3qfyggACNAADwZxgDP8a5OfWWHRQNQQ',\n",
    "        'action_handler_type':'bl2_browse',\n",
    "        'action_hander':''\n",
    "    }\n",
    "]"
   ]
  },
  {
   "cell_type": "code",
   "execution_count": 12,
   "id": "899827bd-cd9c-48ce-8b09-a3cac6a83db7",
   "metadata": {},
   "outputs": [],
   "source": [
    "# first_slot_quizes"
   ]
  },
  {
   "cell_type": "code",
   "execution_count": 13,
   "id": "de23ec94-b1d2-48e6-84fe-302a1ef44d54",
   "metadata": {},
   "outputs": [],
   "source": [
    "first_slot_quizes = [\n",
    "    {\n",
    "            \"slot_code\": \"R_S_H\",\n",
    "            \"slot_description\" : \"Redeem a free session and get 24-hr access to the platform\",\n",
    "            \"question_payload\" : {\n",
    "                0 : \"Select your preferred session type \",\n",
    "                1 : \"Enter your redeem code to proceed\",\n",
    "                2 : \"Confirm code by repeating it\"\n",
    "            }\n",
    "        },\n",
    "        {\n",
    "            \"slot_code\" : \"P_S_H\",\n",
    "            \"slot_description\" : \"Enter M-pesa payment information for generated session invoice\",\n",
    "            \"question_payload\" : {\n",
    "                0 : \"Select your preffered session type \",\n",
    "                1 : \"Enter M-pesa message for processing\\nYou can edit and cut out your balance.\",\n",
    "                2 : \"Confirm M-pesa message by repeating it\\nYou can edt and cut out your balance\"\n",
    "            }\n",
    "        }\n",
    "]"
   ]
  },
  {
   "cell_type": "code",
   "execution_count": 14,
   "id": "21d40c7b-d7c6-4d79-87eb-6f3bfcdeafa9",
   "metadata": {},
   "outputs": [
    {
     "data": {
      "text/plain": [
       "{'slot_code': 'R_S_H',\n",
       " 'slot_description': 'Redeem a free session and get 24-hr access to the platform',\n",
       " 'question_payload': {0: 'Select your preferred session type ',\n",
       "  1: 'Enter your redeem code to proceed',\n",
       "  2: 'Confirm code by repeating it'}}"
      ]
     },
     "execution_count": 14,
     "metadata": {},
     "output_type": "execute_result"
    }
   ],
   "source": [
    "first_slot_quizes[0]"
   ]
  },
  {
   "cell_type": "code",
   "execution_count": null,
   "id": "486690e0-bb54-4169-933f-dfa8ed3f4e1f",
   "metadata": {},
   "outputs": [],
   "source": []
  }
 ],
 "metadata": {
  "kernelspec": {
   "display_name": "Python 3 (ipykernel)",
   "language": "python",
   "name": "python3"
  },
  "language_info": {
   "codemirror_mode": {
    "name": "ipython",
    "version": 3
   },
   "file_extension": ".py",
   "mimetype": "text/x-python",
   "name": "python",
   "nbconvert_exporter": "python",
   "pygments_lexer": "ipython3",
   "version": "3.10.12"
  }
 },
 "nbformat": 4,
 "nbformat_minor": 5
}
