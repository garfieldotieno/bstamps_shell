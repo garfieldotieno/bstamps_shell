{
 "cells": [
  {
   "cell_type": "code",
   "execution_count": 58,
   "id": "7f6d8f31-edaa-4cab-8e79-2e2fa88b0853",
   "metadata": {},
   "outputs": [],
   "source": [
    "from app import generate_uid"
   ]
  },
  {
   "cell_type": "code",
   "execution_count": 59,
   "id": "5a3bd0b9-6673-49e2-aabe-b8904e772d97",
   "metadata": {},
   "outputs": [],
   "source": [
    "from blu import Session, hermes_bot_db"
   ]
  },
  {
   "cell_type": "code",
   "execution_count": 60,
   "id": "2b0400ff-889d-4d9f-a5ab-056d5180ac56",
   "metadata": {},
   "outputs": [],
   "source": [
    "from models import SessionLocal, SlotQuestion"
   ]
  },
  {
   "cell_type": "code",
   "execution_count": 61,
   "id": "9fad722a-15e4-4302-832e-00a5c40f1bca",
   "metadata": {},
   "outputs": [],
   "source": [
    "test_waid = \"821320826\""
   ]
  },
  {
   "cell_type": "code",
   "execution_count": 62,
   "id": "9e418423-d945-47b5-a68a-3ed3cce5a53c",
   "metadata": {},
   "outputs": [],
   "source": [
    "# test session data\n",
    "\n",
    "# init_data\n",
    "test_session_data = {\n",
    "    'uid': generate_uid(),\n",
    "    'waid': test_waid,\n",
    "    'name': 'Garfield',\n",
    "    \n",
    "    'current_menu_code': '',\n",
    "    'browsing_count': 0,\n",
    "    \n",
    "    'main_menu_nav': 1,\n",
    "    'main_menu_select': '',\n",
    "    'sub1_menu_nav': 0,\n",
    "    'sub1_menu_select': '',\n",
    "    'sub2_menu_nav': 0,\n",
    "    'sub2_menu_select': '',\n",
    "    \n",
    "    'is_slot_filling': 0,\n",
    "    'answer_payload': '[]',\n",
    "    \n",
    "    'user_flow': '',\n",
    "    'current_slot_code': '',\n",
    "    'current_slot_count': 0,\n",
    "    'slot_quiz_count': '',\n",
    "    \n",
    "    'current_slot_handler': '',\n",
    "    'session_active': 0,\n",
    "    'session_type': 'First'\n",
    "}"
   ]
  },
  {
   "cell_type": "code",
   "execution_count": 63,
   "id": "f5ab53e2-d0f0-4777-b339-d7bd9fee39f1",
   "metadata": {},
   "outputs": [
    {
     "name": "stdout",
     "output_type": "stream",
     "text": [
      "checking session_data before : {'uid': '8HmPmnDtJV', 'waid': '821320826', 'name': 'Garfield', 'current_menu_code': '', 'browsing_count': 0, 'main_menu_nav': 1, 'main_menu_select': '', 'sub1_menu_nav': 0, 'sub1_menu_select': '', 'sub2_menu_nav': 0, 'sub2_menu_select': '', 'slot_filling': 0, 'answer_payload': '[]', 'user_flow': '', 'current_slot_count': 0, 'current_slot_code': '', 'slot_quiz_count': '', 'current_slot_handler': '', 'session_active': 0, 'session_type': 'First', 'created_at': 1733791180.1330895, 'updated_at': 1733791180.1330903}\n"
     ]
    }
   ],
   "source": [
    "# 1. Test creating and saving a session\n",
    "session = Session(**test_session_data)\n",
    "session.save()"
   ]
  },
  {
   "cell_type": "code",
   "execution_count": 64,
   "id": "8ab2b9d8-0ef3-42ed-ae72-9fc71ab4d810",
   "metadata": {},
   "outputs": [
    {
     "name": "stdout",
     "output_type": "stream",
     "text": [
      "\n",
      "retrieved session is : {'uid': '8HmPmnDtJV', 'waid': '821320826', 'name': 'Garfield', 'current_menu_code': '', 'browsing_count': '0', 'main_menu_nav': '1', 'main_menu_select': '', 'sub1_menu_nav': '0', 'sub1_menu_select': '', 'sub2_menu_nav': '0', 'sub2_menu_select': '', 'slot_filling': '0', 'answer_payload': '[]', 'user_flow': '', 'current_slot_count': '0', 'current_slot_code': '', 'slot_quiz_count': '', 'current_slot_handler': '', 'session_active': '0', 'session_type': 'First', 'created_at': '1733791180.1330895', 'updated_at': '1733791180.1330903'}\n",
      "\n"
     ]
    }
   ],
   "source": [
    "# 2 . To retrieving the session\n",
    "retrieved_session = Session.get_session(test_waid)\n",
    "print(f\"\\nretrieved session is : {retrieved_session}\\n\")"
   ]
  },
  {
   "cell_type": "code",
   "execution_count": 65,
   "id": "0c9ccdb9-9b52-4cf1-bf14-57500ff5bc11",
   "metadata": {},
   "outputs": [
    {
     "data": {
      "text/plain": [
       "dict_keys(['uid', 'waid', 'name', 'current_menu_code', 'browsing_count', 'main_menu_nav', 'main_menu_select', 'sub1_menu_nav', 'sub1_menu_select', 'sub2_menu_nav', 'sub2_menu_select', 'slot_filling', 'answer_payload', 'user_flow', 'current_slot_count', 'current_slot_code', 'slot_quiz_count', 'current_slot_handler', 'session_active', 'session_type', 'created_at', 'updated_at'])"
      ]
     },
     "execution_count": 65,
     "metadata": {},
     "output_type": "execute_result"
    }
   ],
   "source": [
    "retrieved_session.keys()"
   ]
  },
  {
   "cell_type": "code",
   "execution_count": 66,
   "id": "913e68fd-8ec9-4834-9ec0-4717fdf39f6c",
   "metadata": {},
   "outputs": [
    {
     "data": {
      "text/plain": [
       "'[]'"
      ]
     },
     "execution_count": 66,
     "metadata": {},
     "output_type": "execute_result"
    }
   ],
   "source": [
    "Session.load_ans_payload(test_waid)"
   ]
  },
  {
   "cell_type": "code",
   "execution_count": 67,
   "id": "adacd3bd-ac1f-4bc4-a390-c5d20e5796c6",
   "metadata": {},
   "outputs": [],
   "source": [
    "# testing compacted flow by introducting action_handler_type, action_handler,"
   ]
  },
  {
   "cell_type": "code",
   "execution_count": 68,
   "id": "b5d90239-7ec5-4d97-97e3-d03615900403",
   "metadata": {},
   "outputs": [],
   "source": [
    "# session_type:First, main menu listing\n",
    "main_menu_no_session_listing = [\n",
    "    {\n",
    "        'menu_code': 'ACCOUNT',\n",
    "        'media': ['https://ibb.co/cJZMRLk'],\n",
    "        'menu_message': \"Account menu\\n\\nProceed by selecting one of the buttons\",\n",
    "        'menu_sticker':'CAACAgIAAxkBAAIE7mZy7_qRkDcbEmP3mGwAAeHd3qfyggACNAADwZxgDP8a5OfWWHRQNQQ',\n",
    "        'action_handler_type':'sub1_menu',\n",
    "        'action_handler':'authenticate_sub1_menu_listing'\n",
    "    },\n",
    "    {\n",
    "        'menu_code': 'ABOUT',\n",
    "        'media': ['https://ibb.co/tsC248m'],\n",
    "        'menu_message': \"About menu\\n\\nProceed by selecting one of the buttons\",\n",
    "        'menu_sticker':'CAACAgIAAxkBAAIE9mZy8gABviXQSyg6H2gk0fG1C4TQrQACbQADpsrIDMzP5klyYCgJNQQ',\n",
    "        'action_handler_type':'bl2_browser',\n",
    "        'action_handler':'abt_bl2_menu_listing'\n",
    "        \n",
    "    }\n",
    "]"
   ]
  },
  {
   "cell_type": "code",
   "execution_count": null,
   "id": "bc7cd456-505b-461b-845b-a15da3c62470",
   "metadata": {},
   "outputs": [],
   "source": []
  },
  {
   "cell_type": "code",
   "execution_count": 55,
   "id": "919600c9-9ac1-4a7a-82ac-0201177e672e",
   "metadata": {},
   "outputs": [],
   "source": [
    "# main menu actions\n",
    "# main_browse(), main_select(), main_cancel(), main_switch()"
   ]
  },
  {
   "cell_type": "code",
   "execution_count": null,
   "id": "1205dd93-522a-4c06-82c3-bb6c4d991877",
   "metadata": {},
   "outputs": [],
   "source": []
  },
  {
   "cell_type": "code",
   "execution_count": 56,
   "id": "bbc324fa-04c2-4da0-b1af-7c19e28570a5",
   "metadata": {},
   "outputs": [],
   "source": [
    "# session_type:First sub1_menu listing"
   ]
  },
  {
   "cell_type": "code",
   "execution_count": 8,
   "id": "641c0ca4-2ab6-428b-9bf1-5ec08e0a86e0",
   "metadata": {},
   "outputs": [],
   "source": [
    "authenticate_sub1_menu_listing = [\n",
    "    {\n",
    "        'menu_code':'REDEEM-SESSION',\n",
    "        'media':['https://ibb.co/CmvrRDs'],\n",
    "        'menu_message':'Redeem menu\\n\\nProceed by selecting one of the buttons',\n",
    "        'menu_sticker':'CAACAgIAAxkBAAIE7mZy7_qRkDcbEmP3mGwAAeHd3qfyggACNAADwZxgDP8a5OfWWHRQNQQ',\n",
    "        'action_handler_type':'slot_question',\n",
    "        'action_handler':'R_S_H'\n",
    "    },\n",
    "    {\n",
    "        'menu_code':'PURCHASE-SESSION',\n",
    "        'media':['https://ibb.co/pWQ3gxM'],\n",
    "        'menu_message':'Purchase menu\\n\\nProceed by selecting one of the buttons below',\n",
    "        'menu_sticker':'CAACAgIAAxkBAAIE7mZy7_qRkDcbEmP3mGwAAeHd3qfyggACNAADwZxgDP8a5OfWWHRQNQQ',\n",
    "        'action_handler_type': 'slot_question',\n",
    "        'action_handler':'P_S_H'\n",
    "    }\n",
    "]"
   ]
  },
  {
   "cell_type": "code",
   "execution_count": null,
   "id": "8f238312-e287-4101-9c08-449055edac84",
   "metadata": {},
   "outputs": [],
   "source": [
    "# methods\n",
    "# browse(), select(), cancel(), switch()"
   ]
  },
  {
   "cell_type": "code",
   "execution_count": 9,
   "id": "7a91b99b-d63f-4a1b-82cd-33b251137f6b",
   "metadata": {},
   "outputs": [],
   "source": [
    "# session_type:First bl2_menu_listing"
   ]
  },
  {
   "cell_type": "code",
   "execution_count": 10,
   "id": "78d4ab38-f84e-4d06-9c25-5866f272b00d",
   "metadata": {},
   "outputs": [],
   "source": [
    "# formerly : abt_sub1_menu_listing, now about_bl2_menu_listing"
   ]
  },
  {
   "cell_type": "code",
   "execution_count": 24,
   "id": "364ef57a-776a-469e-ba3d-4f99c9439c0f",
   "metadata": {},
   "outputs": [],
   "source": [
    "about_bl2_menu_listing = [\n",
    "    {\n",
    "        'menu_code':'ABOUT-A',\n",
    "        'media':['https://ibb.co/vvWcvvg'],\n",
    "        'menu_message':'About menu\\n\\nProceed by selecting one of the buttons below',\n",
    "        'menu_sticker':'CAACAgIAAxkBAAIE7mZy7_qRkDcbEmP3mGwAAeHd3qfyggACNAADwZxgDP8a5OfWWHRQNQQ',\n",
    "        'action_handler_type':None,\n",
    "        'action_hander':None\n",
    "    },\n",
    "    {\n",
    "        'menu_code':'ABOUT-B',\n",
    "        'media':['https://ibb.co/vvWcvvg'],\n",
    "        'menu_message':'About menu\\n\\nProceed by selecting one of the buttons below',\n",
    "        'menu_sticker':'CAACAgIAAxkBAAIE7mZy7_qRkDcbEmP3mGwAAeHd3qfyggACNAADwZxgDP8a5OfWWHRQNQQ',\n",
    "        'action_handler_type':None,\n",
    "        'action_hander':None\n",
    "    }\n",
    "]"
   ]
  },
  {
   "cell_type": "code",
   "execution_count": 25,
   "id": "899827bd-cd9c-48ce-8b09-a3cac6a83db7",
   "metadata": {},
   "outputs": [],
   "source": [
    "# first_slot_quizes"
   ]
  },
  {
   "cell_type": "code",
   "execution_count": 28,
   "id": "88ff8b94-1b83-4a6d-8865-55cdb7738fdb",
   "metadata": {},
   "outputs": [],
   "source": [
    "first_slot_quizes = {}"
   ]
  },
  {
   "cell_type": "code",
   "execution_count": 29,
   "id": "4dc4a19f-e1d4-4cb3-80ba-cde200428f6e",
   "metadata": {},
   "outputs": [],
   "source": [
    "first_slot_quizes['R_H_S'] = {\n",
    "            \"slot_code\": \"R_S_H\",\n",
    "            \"slot_description\" : \"Redeem a free session and get 24-hr access to the platform\",\n",
    "            \"question_payload\" : {\n",
    "                0 : \"Select your preferred session type \",\n",
    "                1 : \"Enter your redeem code to proceed\",\n",
    "                2 : \"Confirm code by repeating it\"\n",
    "            }\n",
    "        }"
   ]
  },
  {
   "cell_type": "code",
   "execution_count": 30,
   "id": "c0e45ed1-f341-4eb1-9b81-a5e2c6bb7563",
   "metadata": {},
   "outputs": [],
   "source": [
    "first_slot_quizes['P_S_H'] =  {\n",
    "            \"slot_code\" : \"P_S_H\",\n",
    "            \"slot_description\" : \"Enter M-pesa payment information for generated session invoice\",\n",
    "            \"question_payload\" : {\n",
    "                0 : \"Select your preffered session type \",\n",
    "                1 : \"Enter M-pesa message for processing\\nYou can edit and cut out your balance.\",\n",
    "                2 : \"Confirm M-pesa message by repeating it\\nYou can edt and cut out your balance\"\n",
    "            }\n",
    "        }"
   ]
  },
  {
   "cell_type": "code",
   "execution_count": 32,
   "id": "ab12b478-92de-40f6-9b80-24ccf49d8227",
   "metadata": {},
   "outputs": [
    {
     "data": {
      "text/plain": [
       "dict_keys(['R_H_S', 'P_S_H'])"
      ]
     },
     "execution_count": 32,
     "metadata": {},
     "output_type": "execute_result"
    }
   ],
   "source": [
    "first_slot_quizes.keys ()"
   ]
  },
  {
   "cell_type": "code",
   "execution_count": null,
   "id": "486690e0-bb54-4169-933f-dfa8ed3f4e1f",
   "metadata": {},
   "outputs": [],
   "source": []
  }
 ],
 "metadata": {
  "kernelspec": {
   "display_name": "Python 3 (ipykernel)",
   "language": "python",
   "name": "python3"
  },
  "language_info": {
   "codemirror_mode": {
    "name": "ipython",
    "version": 3
   },
   "file_extension": ".py",
   "mimetype": "text/x-python",
   "name": "python",
   "nbconvert_exporter": "python",
   "pygments_lexer": "ipython3",
   "version": "3.10.12"
  }
 },
 "nbformat": 4,
 "nbformat_minor": 5
}
